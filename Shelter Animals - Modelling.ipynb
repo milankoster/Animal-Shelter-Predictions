{
 "cells": [
  {
   "cell_type": "markdown",
   "id": "68b31077",
   "metadata": {},
   "source": [
    "# Shelter Animals - Modelling \n",
    "In this notebook we'll be using the CSV created in the EDA and Data Preparation stages to create and compare various models. We'll start out simple and gradually move onto more complicated models."
   ]
  },
  {
   "cell_type": "markdown",
   "id": "f2fd4d3d",
   "metadata": {},
   "source": [
    "# Table of Contents\n",
    "\n",
    "1. [Importing Libraries and Loading Data](#chapter1)\n",
    "2. [Setting a Classification Baseline](#chapter2)\n",
    "3. [Very Basic Model](#chapter3)\n",
    "4. [Encoding and Processing Features](#chapter4)\n",
    "5. [Heatmapping the Dataframe](#chapter5)\n",
    "6. [Dividing Data Into Training and Test Set](#chapter6)\n",
    "7. [Scaling the Data](#chapter7)\n",
    "8. [Re-usable Functions](#chapter8)\n",
    "9. [Decision Tree](#chapter9)\n",
    "10. [Random Forest](#chapter10)\n",
    "11. [Feature Selection](#chapter11)\n",
    "12. [K-Nearest Neighbors Classification](#chapter12)\n",
    "13. [Support Vector Machine Classification](#chapter13)\n",
    "14. [Overview of Results](#chapter14)"
   ]
  },
  {
   "cell_type": "markdown",
   "id": "1efd56dc",
   "metadata": {},
   "source": [
    "# 1. Importing Libaries and Loading Data <a class=\"anchor\" id=\"chapter1\"></a>\n",
    "We will begin by importing all the libraries we're going to require and printing their versions. We'll also load in the data we prepared throughout the previous notebooks.\n",
    "\n",
    "### 1.1 General Libraries"
   ]
  },
  {
   "cell_type": "code",
   "execution_count": 1,
   "id": "2976cb16",
   "metadata": {},
   "outputs": [
    {
     "name": "stdout",
     "output_type": "stream",
     "text": [
      "numpy version: 1.20.3\n",
      "pandas version: 1.3.2\n",
      "seaborn version: 0.11.2\n",
      "matplotlib version: 3.4.2\n"
     ]
    }
   ],
   "source": [
    "import numpy as np\n",
    "import pandas as pd\n",
    "import seaborn as sns\n",
    "import matplotlib\n",
    "import matplotlib.pyplot as plt\n",
    "import plotly.graph_objects as go\n",
    "from time import time\n",
    "\n",
    "print('numpy version:', np.__version__)\n",
    "print('pandas version:', pd.__version__)\n",
    "print('seaborn version:', sns.__version__)\n",
    "print('matplotlib version:', matplotlib.__version__)\n",
    "\n",
    "%matplotlib inline"
   ]
  },
  {
   "cell_type": "markdown",
   "id": "ef78bd31",
   "metadata": {},
   "source": [
    "### 1.2 Sklearn Packages"
   ]
  },
  {
   "cell_type": "code",
   "execution_count": 2,
   "id": "fe3d7448",
   "metadata": {},
   "outputs": [
    {
     "name": "stdout",
     "output_type": "stream",
     "text": [
      "scikit-learn version: 0.24.2\n"
     ]
    }
   ],
   "source": [
    "import sklearn as sk\n",
    "\n",
    "# Processing Data\n",
    "from sklearn.preprocessing import LabelEncoder\n",
    "from sklearn.preprocessing import OneHotEncoder\n",
    "from sklearn.preprocessing import MinMaxScaler\n",
    "from sklearn.preprocessing import StandardScaler\n",
    "from sklearn.model_selection import train_test_split\n",
    "from sklearn.kernel_approximation import Nystroem\n",
    "\n",
    "# Models\n",
    "from sklearn.linear_model import LinearRegression\n",
    "from sklearn.tree import DecisionTreeClassifier\n",
    "from sklearn.ensemble import RandomForestClassifier\n",
    "from sklearn.neighbors import KNeighborsClassifier\n",
    "from sklearn.svm import SVC\n",
    "from sklearn.svm import LinearSVC\n",
    "\n",
    "# Model Tuning\n",
    "from sklearn.model_selection import GridSearchCV\n",
    "from sklearn.model_selection import RandomizedSearchCV\n",
    "\n",
    "# Evaluation\n",
    "from sklearn import metrics\n",
    "from sklearn.metrics import accuracy_score\n",
    "from sklearn.metrics import classification_report\n",
    "from sklearn.metrics import confusion_matrix\n",
    "from sklearn.metrics import ConfusionMatrixDisplay\n",
    "from sklearn.model_selection import cross_val_score\n",
    "from sklearn.metrics import r2_score\n",
    "from sklearn.tree import export_text\n",
    "\n",
    "print('scikit-learn version:', sk.__version__)"
   ]
  },
  {
   "cell_type": "markdown",
   "id": "0d915074",
   "metadata": {},
   "source": [
    "### 1.3 Datasheet\n",
    "Lastly we'll import the datasheet we prepared in the previous notebooks."
   ]
  },
  {
   "cell_type": "code",
   "execution_count": 3,
   "id": "756a21d1",
   "metadata": {},
   "outputs": [],
   "source": [
    "df = pd.read_csv('Datasets/Austin Data Prep.csv')"
   ]
  },
  {
   "cell_type": "markdown",
   "id": "39cc42ce",
   "metadata": {},
   "source": [
    "# 2. Setting a Classification Baseline <a class=\"anchor\" id=\"chapter2\"></a>\n",
    "*A baseline is a method that uses heuristics, simple summary statistics, randomness, or machine learning to create predictions for a dataset.*\n",
    "\n",
    "We will set the baseline by finding the largest adoption speed group. If we were to always predict this group this is the percentage of correct predictions we would end up with."
   ]
  },
  {
   "cell_type": "code",
   "execution_count": 4,
   "id": "ef4b5624",
   "metadata": {},
   "outputs": [
    {
     "name": "stdout",
     "output_type": "stream",
     "text": [
      "Baseline: 23.53%\n"
     ]
    }
   ],
   "source": [
    "# Divide the largest group by the total and print the result\n",
    "percentage = round(df['Adoption Speed'].value_counts()[0] / len(df['Adoption Speed']) * 100, 2)\n",
    "print('Baseline:', str(percentage) + '%')"
   ]
  },
  {
   "cell_type": "markdown",
   "id": "33050c38",
   "metadata": {},
   "source": [
    "# 3. Very Basic Model <a class=\"anchor\" id=\"chapter3\"></a>\n",
    "During the EDA and Data Preparation stage I set up a very simple model our of curiosity on its performance. To keep things as simple as possible a bunch of the features were discarded. Some features that are in the current model such as the intake age were not extracted yet and therefor weren't used in this model.\n",
    "\n",
    "Because I used a label encoder as opposed to one hot encoding the features I went with a decision tree. Any models that use distance would perform significantly worse."
   ]
  },
  {
   "cell_type": "markdown",
   "id": "760e23e6",
   "metadata": {},
   "source": [
    "### Converting Dates and Timedelta\n",
    "We need to convert these values in order to extract dates and/or numerical values from them."
   ]
  },
  {
   "cell_type": "code",
   "execution_count": 5,
   "id": "f2a64865",
   "metadata": {},
   "outputs": [],
   "source": [
    "df['Date of Birth'] = pd.to_datetime(df['Date of Birth'])\n",
    "df['Intake DateTime'] = pd.to_datetime(df['Intake DateTime'])\n",
    "\n",
    "df['IntakeAge'] = pd.to_timedelta(df['IntakeAge'])\n",
    "df['OutcomeAge'] = pd.to_timedelta(df['OutcomeAge'])\n",
    "df['Days in Shelter'] = pd.to_timedelta(df['Days in Shelter'])"
   ]
  },
  {
   "cell_type": "markdown",
   "id": "25069cb3",
   "metadata": {},
   "source": [
    "### Label Encoding Features and Extracting Dates\n",
    "We'll use a function that label encodes a list of features and a function that pulls time based data out of a date. We'll then create a new dataframe that we'll use for our basic modelling."
   ]
  },
  {
   "cell_type": "code",
   "execution_count": 6,
   "id": "f1b5b1ef",
   "metadata": {},
   "outputs": [],
   "source": [
    "le = LabelEncoder()\n",
    "\n",
    "def label_encode(df_in, df_out, feature_names, le):\n",
    "    for feature in feature_names:\n",
    "        df_out[feature] = le.fit_transform(df_in[feature])\n",
    "\n",
    "def encode_date(column, df_out):\n",
    "    df_out[column.name + ' Year'] = column.dt.year\n",
    "    df_out[column.name + ' Month'] = column.dt.month\n",
    "    df_out[column.name + ' Week'] = column.dt.isocalendar().week\n",
    "    df_out[column.name + ' Day'] = column.dt.day\n",
    "    df_out[column.name + ' Weekday'] = column.dt.weekday\n",
    "    \n",
    "df_enc = pd.DataFrame()\n",
    "features = ['Animal Type', 'Breed', 'Gender', 'Color', 'Name', \n",
    "            'Castration Intake', 'Castration Outcome','Intake Type', 'Intake Condition', 'Adoption Speed']\n",
    "\n",
    "label_encode(df, df_enc, features, le)\n",
    "encode_date(df['Date of Birth'], df_enc)\n",
    "encode_date(df['Intake DateTime'], df_enc)"
   ]
  },
  {
   "cell_type": "markdown",
   "id": "f3d6a6fe",
   "metadata": {},
   "source": [
    "### Dividing Data Into Training And Test Set \n",
    "We are splitting our training into a train and test set so we can test how our model performs on data that it has not been trained on. We set the random state so it performs the exact same every time this code is run."
   ]
  },
  {
   "cell_type": "code",
   "execution_count": 7,
   "id": "68f671c0",
   "metadata": {},
   "outputs": [],
   "source": [
    "df_x = df_enc.drop('Adoption Speed',axis=1)\n",
    "df_y = df_enc['Adoption Speed']\n",
    "x_train, x_test, y_train, y_test = train_test_split(df_x, df_y, test_size=0.20, random_state=0)"
   ]
  },
  {
   "cell_type": "markdown",
   "id": "b2249d3e",
   "metadata": {},
   "source": [
    "### Training a Decision Tree Classifier\n",
    "Because we used labelencoding we cannot use distance based models. To keep things simple we'll try a Decision Tree."
   ]
  },
  {
   "cell_type": "code",
   "execution_count": 8,
   "id": "e060a141",
   "metadata": {
    "scrolled": true
   },
   "outputs": [
    {
     "name": "stdout",
     "output_type": "stream",
     "text": [
      "Accuracy: 0.384%\n",
      "\n",
      "              precision    recall  f1-score   support\n",
      "\n",
      "           0       0.45      0.50      0.48      2726\n",
      "           1       0.39      0.37      0.38      1979\n",
      "           2       0.32      0.33      0.32      2515\n",
      "           3       0.38      0.33      0.35      1833\n",
      "           4       0.37      0.35      0.36      2686\n",
      "\n",
      "    accuracy                           0.38     11739\n",
      "   macro avg       0.38      0.38      0.38     11739\n",
      "weighted avg       0.38      0.38      0.38     11739\n",
      "\n"
     ]
    }
   ],
   "source": [
    "decision_tree = DecisionTreeClassifier(random_state=0, max_depth=1000, min_samples_leaf=10)\n",
    "decision_tree = decision_tree.fit(x_train, y_train)\n",
    "\n",
    "decision_tree_predict = decision_tree.predict(x_test)\n",
    "\n",
    "accuracy = metrics.accuracy_score(y_test, decision_tree_predict)\n",
    "print('Accuracy:', str(round(accuracy,3)) + '%' + '\\n')\n",
    "print(classification_report(y_test, decision_tree_predict))"
   ]
  },
  {
   "cell_type": "markdown",
   "id": "17250426",
   "metadata": {},
   "source": [
    "The accuracy is approximately 38%. We'd be able to get a more precise read using cross validation but will only do this in a future model. We're able to distinguish between the different classes and see that group 0 performs significantly better than the others. Precision and recall are approximately at the same levels. Group 3 has a higher precision while group 0 has a higher recall. "
   ]
  },
  {
   "cell_type": "markdown",
   "id": "bc889511",
   "metadata": {},
   "source": [
    "### Linear Regression\n",
    "We'll use the same training data to make a Linear Regression mode. One way to read the accuracy from this is using the R2 score. "
   ]
  },
  {
   "cell_type": "code",
   "execution_count": 9,
   "id": "e8e8ed8c",
   "metadata": {},
   "outputs": [
    {
     "name": "stdout",
     "output_type": "stream",
     "text": [
      "R2 Score: 0.0337\n"
     ]
    }
   ],
   "source": [
    "reg = LinearRegression().fit(x_train, y_train)\n",
    "y_pred = reg.predict(x_test)\n",
    "print('R2 Score:', str(round(r2_score(y_test, y_pred),4)))"
   ]
  },
  {
   "cell_type": "markdown",
   "id": "59b3104b",
   "metadata": {},
   "source": [
    "As you can see this doesn't do a very good job. This is to be expected considering the fact that linear regression is a distance based algorithm. Looking back at this in hindsight I accidentally made use of the categories as opposed to the numerical values. "
   ]
  },
  {
   "cell_type": "markdown",
   "id": "81066e95",
   "metadata": {},
   "source": [
    "# 4. Encoding and Processing Features <a class=\"anchor\" id=\"chapter4\"></a>\n",
    "The label encoding we did earlier was very quick and rough. We want to begin by loading in all the features we're interested in then process them properly."
   ]
  },
  {
   "cell_type": "markdown",
   "id": "b707e829",
   "metadata": {},
   "source": [
    "### 4.1 One Hot Encoding\n",
    "We're going to encode our categorical data. One hot encoding essentially involves selecting or detecting categories you wish to save and turning each of them into a feature. A '1' gets assigned when a row matches a category and a '0' gets assigned when it doesn't. By doing this we prevent any kind of bias in our data such as one category weighing differently simply because it was assigned a higher or lower number.\n",
    "\n",
    "<img src='https://i.imgur.com/mtimFxh.png' width=500px heigth=500px align=\"left\">"
   ]
  },
  {
   "cell_type": "markdown",
   "id": "0bb8249f",
   "metadata": {},
   "source": [
    "We'll make a dataframe of a subset of our categorical data then use a OneHotEncoder from sklearn. This will allow us to one hot encode input data in the future by pickling the OneHotEncoder object. We'll do the same thing for the names. Based on our EDA we mainly saw a difference between known and unknown names. Due to the large number of names we won't one hot encode the others. \n",
    "\n",
    "During the Data Preparation we already one hot encoded the colors in a way that allows them to hold multiple values. We put these in a separate dataframe to merge them later."
   ]
  },
  {
   "cell_type": "code",
   "execution_count": 10,
   "id": "b23a45c7",
   "metadata": {},
   "outputs": [],
   "source": [
    "column_names = ['Animal Type', 'Breed Bucket', 'Gender',\n",
    "               'Intake Type', 'Intake Condition', 'Castration Intake', 'Castration Outcome']\n",
    "df_model = df[column_names]\n",
    "\n",
    "enc = OneHotEncoder(sparse=False)\n",
    "transformed = enc.fit_transform(df_model)\n",
    "df_ohe = pd.DataFrame(transformed)\n",
    "df_ohe.columns = enc.get_feature_names(column_names)\n",
    "\n",
    "name_enc = OneHotEncoder(categories = [['Unknown']], sparse=False, handle_unknown='ignore')\n",
    "transformed_names = name_enc.fit_transform(df[['Name']])\n",
    "df_names = pd.DataFrame(transformed_names, columns=['Name_Unknown'])\n",
    "\n",
    "df_colors = df[['Tabby', 'Tricolor', 'Brown', 'Black', 'White', 'Orange', 'Tortie', 'Calico', 'Blue', 'Tan', 'Brindle']]"
   ]
  },
  {
   "cell_type": "markdown",
   "id": "900f5d8e",
   "metadata": {},
   "source": [
    "### 4.2 Dates and TimeDeltas\n",
    "Dates and timedeltas have to be handled slightly differently. We earlier wrote a function that allows us to extract the year, month, week, day and day of the week out of a date. We'll reuse this function and extract the hour from the intake datetime. We'll convert the intake age and the days in shelter to a number of days. Although we could convert this to seconds the difference will be very small after scaling. It is also irrelevant to our result and makes the data easier to read."
   ]
  },
  {
   "cell_type": "code",
   "execution_count": 11,
   "id": "d9212f75",
   "metadata": {},
   "outputs": [
    {
     "data": {
      "text/html": [
       "<div>\n",
       "<style scoped>\n",
       "    .dataframe tbody tr th:only-of-type {\n",
       "        vertical-align: middle;\n",
       "    }\n",
       "\n",
       "    .dataframe tbody tr th {\n",
       "        vertical-align: top;\n",
       "    }\n",
       "\n",
       "    .dataframe thead th {\n",
       "        text-align: right;\n",
       "    }\n",
       "</style>\n",
       "<table border=\"1\" class=\"dataframe\">\n",
       "  <thead>\n",
       "    <tr style=\"text-align: right;\">\n",
       "      <th></th>\n",
       "      <th>Date of Birth Year</th>\n",
       "      <th>Date of Birth Month</th>\n",
       "      <th>Date of Birth Week</th>\n",
       "      <th>Date of Birth Day</th>\n",
       "      <th>Date of Birth Weekday</th>\n",
       "      <th>Intake DateTime Year</th>\n",
       "      <th>Intake DateTime Month</th>\n",
       "      <th>Intake DateTime Week</th>\n",
       "      <th>Intake DateTime Day</th>\n",
       "      <th>Intake DateTime Weekday</th>\n",
       "      <th>Intake DateTime Hour</th>\n",
       "      <th>IntakeAge</th>\n",
       "      <th>Days in Shelter</th>\n",
       "    </tr>\n",
       "  </thead>\n",
       "  <tbody>\n",
       "    <tr>\n",
       "      <th>0</th>\n",
       "      <td>2021</td>\n",
       "      <td>4</td>\n",
       "      <td>15</td>\n",
       "      <td>15</td>\n",
       "      <td>3</td>\n",
       "      <td>2021</td>\n",
       "      <td>10</td>\n",
       "      <td>41</td>\n",
       "      <td>15</td>\n",
       "      <td>4</td>\n",
       "      <td>11</td>\n",
       "      <td>183</td>\n",
       "      <td>5</td>\n",
       "    </tr>\n",
       "    <tr>\n",
       "      <th>1</th>\n",
       "      <td>2020</td>\n",
       "      <td>5</td>\n",
       "      <td>21</td>\n",
       "      <td>19</td>\n",
       "      <td>1</td>\n",
       "      <td>2020</td>\n",
       "      <td>6</td>\n",
       "      <td>25</td>\n",
       "      <td>18</td>\n",
       "      <td>3</td>\n",
       "      <td>14</td>\n",
       "      <td>30</td>\n",
       "      <td>35</td>\n",
       "    </tr>\n",
       "    <tr>\n",
       "      <th>2</th>\n",
       "      <td>2015</td>\n",
       "      <td>10</td>\n",
       "      <td>41</td>\n",
       "      <td>11</td>\n",
       "      <td>6</td>\n",
       "      <td>2017</td>\n",
       "      <td>10</td>\n",
       "      <td>41</td>\n",
       "      <td>11</td>\n",
       "      <td>2</td>\n",
       "      <td>15</td>\n",
       "      <td>731</td>\n",
       "      <td>4</td>\n",
       "    </tr>\n",
       "    <tr>\n",
       "      <th>3</th>\n",
       "      <td>2015</td>\n",
       "      <td>1</td>\n",
       "      <td>2</td>\n",
       "      <td>11</td>\n",
       "      <td>6</td>\n",
       "      <td>2015</td>\n",
       "      <td>7</td>\n",
       "      <td>28</td>\n",
       "      <td>11</td>\n",
       "      <td>5</td>\n",
       "      <td>18</td>\n",
       "      <td>181</td>\n",
       "      <td>139</td>\n",
       "    </tr>\n",
       "    <tr>\n",
       "      <th>4</th>\n",
       "      <td>2013</td>\n",
       "      <td>2</td>\n",
       "      <td>6</td>\n",
       "      <td>4</td>\n",
       "      <td>0</td>\n",
       "      <td>2015</td>\n",
       "      <td>2</td>\n",
       "      <td>6</td>\n",
       "      <td>4</td>\n",
       "      <td>2</td>\n",
       "      <td>12</td>\n",
       "      <td>730</td>\n",
       "      <td>112</td>\n",
       "    </tr>\n",
       "    <tr>\n",
       "      <th>...</th>\n",
       "      <td>...</td>\n",
       "      <td>...</td>\n",
       "      <td>...</td>\n",
       "      <td>...</td>\n",
       "      <td>...</td>\n",
       "      <td>...</td>\n",
       "      <td>...</td>\n",
       "      <td>...</td>\n",
       "      <td>...</td>\n",
       "      <td>...</td>\n",
       "      <td>...</td>\n",
       "      <td>...</td>\n",
       "      <td>...</td>\n",
       "    </tr>\n",
       "    <tr>\n",
       "      <th>58686</th>\n",
       "      <td>2020</td>\n",
       "      <td>8</td>\n",
       "      <td>34</td>\n",
       "      <td>17</td>\n",
       "      <td>0</td>\n",
       "      <td>2021</td>\n",
       "      <td>8</td>\n",
       "      <td>33</td>\n",
       "      <td>17</td>\n",
       "      <td>1</td>\n",
       "      <td>16</td>\n",
       "      <td>365</td>\n",
       "      <td>13</td>\n",
       "    </tr>\n",
       "    <tr>\n",
       "      <th>58687</th>\n",
       "      <td>2021</td>\n",
       "      <td>2</td>\n",
       "      <td>7</td>\n",
       "      <td>19</td>\n",
       "      <td>4</td>\n",
       "      <td>2021</td>\n",
       "      <td>7</td>\n",
       "      <td>27</td>\n",
       "      <td>6</td>\n",
       "      <td>1</td>\n",
       "      <td>15</td>\n",
       "      <td>137</td>\n",
       "      <td>17</td>\n",
       "    </tr>\n",
       "    <tr>\n",
       "      <th>58688</th>\n",
       "      <td>2013</td>\n",
       "      <td>10</td>\n",
       "      <td>43</td>\n",
       "      <td>27</td>\n",
       "      <td>6</td>\n",
       "      <td>2018</td>\n",
       "      <td>11</td>\n",
       "      <td>46</td>\n",
       "      <td>12</td>\n",
       "      <td>0</td>\n",
       "      <td>18</td>\n",
       "      <td>1842</td>\n",
       "      <td>42</td>\n",
       "    </tr>\n",
       "    <tr>\n",
       "      <th>58689</th>\n",
       "      <td>2013</td>\n",
       "      <td>10</td>\n",
       "      <td>43</td>\n",
       "      <td>27</td>\n",
       "      <td>6</td>\n",
       "      <td>2020</td>\n",
       "      <td>9</td>\n",
       "      <td>40</td>\n",
       "      <td>30</td>\n",
       "      <td>2</td>\n",
       "      <td>14</td>\n",
       "      <td>2530</td>\n",
       "      <td>226</td>\n",
       "    </tr>\n",
       "    <tr>\n",
       "      <th>58690</th>\n",
       "      <td>2013</td>\n",
       "      <td>10</td>\n",
       "      <td>43</td>\n",
       "      <td>27</td>\n",
       "      <td>6</td>\n",
       "      <td>2016</td>\n",
       "      <td>9</td>\n",
       "      <td>35</td>\n",
       "      <td>1</td>\n",
       "      <td>3</td>\n",
       "      <td>10</td>\n",
       "      <td>1040</td>\n",
       "      <td>88</td>\n",
       "    </tr>\n",
       "  </tbody>\n",
       "</table>\n",
       "<p>58691 rows × 13 columns</p>\n",
       "</div>"
      ],
      "text/plain": [
       "       Date of Birth Year  Date of Birth Month  Date of Birth Week  \\\n",
       "0                    2021                    4                  15   \n",
       "1                    2020                    5                  21   \n",
       "2                    2015                   10                  41   \n",
       "3                    2015                    1                   2   \n",
       "4                    2013                    2                   6   \n",
       "...                   ...                  ...                 ...   \n",
       "58686                2020                    8                  34   \n",
       "58687                2021                    2                   7   \n",
       "58688                2013                   10                  43   \n",
       "58689                2013                   10                  43   \n",
       "58690                2013                   10                  43   \n",
       "\n",
       "       Date of Birth Day  Date of Birth Weekday  Intake DateTime Year  \\\n",
       "0                     15                      3                  2021   \n",
       "1                     19                      1                  2020   \n",
       "2                     11                      6                  2017   \n",
       "3                     11                      6                  2015   \n",
       "4                      4                      0                  2015   \n",
       "...                  ...                    ...                   ...   \n",
       "58686                 17                      0                  2021   \n",
       "58687                 19                      4                  2021   \n",
       "58688                 27                      6                  2018   \n",
       "58689                 27                      6                  2020   \n",
       "58690                 27                      6                  2016   \n",
       "\n",
       "       Intake DateTime Month  Intake DateTime Week  Intake DateTime Day  \\\n",
       "0                         10                    41                   15   \n",
       "1                          6                    25                   18   \n",
       "2                         10                    41                   11   \n",
       "3                          7                    28                   11   \n",
       "4                          2                     6                    4   \n",
       "...                      ...                   ...                  ...   \n",
       "58686                      8                    33                   17   \n",
       "58687                      7                    27                    6   \n",
       "58688                     11                    46                   12   \n",
       "58689                      9                    40                   30   \n",
       "58690                      9                    35                    1   \n",
       "\n",
       "       Intake DateTime Weekday  Intake DateTime Hour  IntakeAge  \\\n",
       "0                            4                    11        183   \n",
       "1                            3                    14         30   \n",
       "2                            2                    15        731   \n",
       "3                            5                    18        181   \n",
       "4                            2                    12        730   \n",
       "...                        ...                   ...        ...   \n",
       "58686                        1                    16        365   \n",
       "58687                        1                    15        137   \n",
       "58688                        0                    18       1842   \n",
       "58689                        2                    14       2530   \n",
       "58690                        3                    10       1040   \n",
       "\n",
       "       Days in Shelter  \n",
       "0                    5  \n",
       "1                   35  \n",
       "2                    4  \n",
       "3                  139  \n",
       "4                  112  \n",
       "...                ...  \n",
       "58686               13  \n",
       "58687               17  \n",
       "58688               42  \n",
       "58689              226  \n",
       "58690               88  \n",
       "\n",
       "[58691 rows x 13 columns]"
      ]
     },
     "execution_count": 11,
     "metadata": {},
     "output_type": "execute_result"
    }
   ],
   "source": [
    "df_dates = pd.DataFrame()\n",
    "encode_date(df['Date of Birth'], df_dates)\n",
    "encode_date(df['Intake DateTime'], df_dates)\n",
    "df_dates['Intake DateTime Hour'] = df['Intake DateTime'].dt.hour        \n",
    "df_dates['IntakeAge'] = df['IntakeAge'].dt.days\n",
    "df_dates['Days in Shelter'] = df['Days in Shelter'].dt.days\n",
    "df_dates"
   ]
  },
  {
   "cell_type": "markdown",
   "id": "e4fcdbb3",
   "metadata": {},
   "source": [
    "### 4.3 Adoption Speed\n",
    "Adoption speed is our main target variable. It needs to be label encoded rather than one hot encoded to keep the values in one column. The values are also logically incremental; the higher the number, the longer it took for an animal to be adopted."
   ]
  },
  {
   "cell_type": "code",
   "execution_count": 12,
   "id": "2b296ec9",
   "metadata": {},
   "outputs": [],
   "source": [
    "le = LabelEncoder()\n",
    "df_target = pd.DataFrame()\n",
    "df_target['Adoption Speed'] = le.fit_transform(df['Adoption Speed'])"
   ]
  },
  {
   "cell_type": "markdown",
   "id": "c69c9963",
   "metadata": {},
   "source": [
    "### 4.4 Merged Dataframe\n",
    "We're going to merge all the smaller dataframes in one large one that will only hold numerical values. We'll use this for our machine learning models. We'll also print out all the columns to make sure they're all converted properly."
   ]
  },
  {
   "cell_type": "code",
   "execution_count": 13,
   "id": "f63a09eb",
   "metadata": {},
   "outputs": [
    {
     "data": {
      "text/html": [
       "<div>\n",
       "<style scoped>\n",
       "    .dataframe tbody tr th:only-of-type {\n",
       "        vertical-align: middle;\n",
       "    }\n",
       "\n",
       "    .dataframe tbody tr th {\n",
       "        vertical-align: top;\n",
       "    }\n",
       "\n",
       "    .dataframe thead th {\n",
       "        text-align: right;\n",
       "    }\n",
       "</style>\n",
       "<table border=\"1\" class=\"dataframe\">\n",
       "  <thead>\n",
       "    <tr style=\"text-align: right;\">\n",
       "      <th></th>\n",
       "      <th>Animal Type_Cat</th>\n",
       "      <th>Animal Type_Dog</th>\n",
       "      <th>Breed Bucket_Border Collie</th>\n",
       "      <th>Breed Bucket_Boxer</th>\n",
       "      <th>Breed Bucket_Chihuahua</th>\n",
       "      <th>Breed Bucket_Dachshund</th>\n",
       "      <th>Breed Bucket_Domestic Longhair</th>\n",
       "      <th>Breed Bucket_Domestic Medium Hair</th>\n",
       "      <th>Breed Bucket_Domestic Shorthair</th>\n",
       "      <th>Breed Bucket_Husky</th>\n",
       "      <th>Breed Bucket_Pit Bull</th>\n",
       "      <th>Breed Bucket_Poodle</th>\n",
       "      <th>Breed Bucket_Retriever</th>\n",
       "      <th>Breed Bucket_Shepherd</th>\n",
       "      <th>Breed Bucket_Siamese Mix</th>\n",
       "      <th>Breed Bucket_Terrier</th>\n",
       "      <th>Breed Bucket_nan</th>\n",
       "      <th>Gender_Female</th>\n",
       "      <th>Gender_Male</th>\n",
       "      <th>Intake Type_Abandoned</th>\n",
       "      <th>Intake Type_Euthanasia Request</th>\n",
       "      <th>Intake Type_Owner Surrender</th>\n",
       "      <th>Intake Type_Public Assist</th>\n",
       "      <th>Intake Type_Stray</th>\n",
       "      <th>Intake Condition_Aged</th>\n",
       "      <th>Intake Condition_Behavior</th>\n",
       "      <th>Intake Condition_Feral</th>\n",
       "      <th>Intake Condition_Injured</th>\n",
       "      <th>Intake Condition_Medical</th>\n",
       "      <th>Intake Condition_Neonatal</th>\n",
       "      <th>Intake Condition_Normal</th>\n",
       "      <th>Intake Condition_Nursing</th>\n",
       "      <th>Intake Condition_Other</th>\n",
       "      <th>Intake Condition_Pregnant</th>\n",
       "      <th>Intake Condition_Sick</th>\n",
       "      <th>Castration Intake_False</th>\n",
       "      <th>Castration Intake_True</th>\n",
       "      <th>Castration Outcome_False</th>\n",
       "      <th>Castration Outcome_True</th>\n",
       "      <th>Name_Unknown</th>\n",
       "      <th>Tabby</th>\n",
       "      <th>Tricolor</th>\n",
       "      <th>Brown</th>\n",
       "      <th>Black</th>\n",
       "      <th>White</th>\n",
       "      <th>Orange</th>\n",
       "      <th>Tortie</th>\n",
       "      <th>Calico</th>\n",
       "      <th>Blue</th>\n",
       "      <th>Tan</th>\n",
       "      <th>Brindle</th>\n",
       "      <th>Date of Birth Year</th>\n",
       "      <th>Date of Birth Month</th>\n",
       "      <th>Date of Birth Week</th>\n",
       "      <th>Date of Birth Day</th>\n",
       "      <th>Date of Birth Weekday</th>\n",
       "      <th>Intake DateTime Year</th>\n",
       "      <th>Intake DateTime Month</th>\n",
       "      <th>Intake DateTime Week</th>\n",
       "      <th>Intake DateTime Day</th>\n",
       "      <th>Intake DateTime Weekday</th>\n",
       "      <th>Intake DateTime Hour</th>\n",
       "      <th>IntakeAge</th>\n",
       "      <th>Days in Shelter</th>\n",
       "      <th>Adoption Speed</th>\n",
       "    </tr>\n",
       "  </thead>\n",
       "  <tbody>\n",
       "    <tr>\n",
       "      <th>0</th>\n",
       "      <td>1.0</td>\n",
       "      <td>0.0</td>\n",
       "      <td>0.0</td>\n",
       "      <td>0.0</td>\n",
       "      <td>0.0</td>\n",
       "      <td>0.0</td>\n",
       "      <td>0.0</td>\n",
       "      <td>0.0</td>\n",
       "      <td>1.0</td>\n",
       "      <td>0.0</td>\n",
       "      <td>0.0</td>\n",
       "      <td>0.0</td>\n",
       "      <td>0.0</td>\n",
       "      <td>0.0</td>\n",
       "      <td>0.0</td>\n",
       "      <td>0.0</td>\n",
       "      <td>0.0</td>\n",
       "      <td>1.0</td>\n",
       "      <td>0.0</td>\n",
       "      <td>0.0</td>\n",
       "      <td>0.0</td>\n",
       "      <td>0.0</td>\n",
       "      <td>0.0</td>\n",
       "      <td>1.0</td>\n",
       "      <td>0.0</td>\n",
       "      <td>0.0</td>\n",
       "      <td>0.0</td>\n",
       "      <td>0.0</td>\n",
       "      <td>0.0</td>\n",
       "      <td>0.0</td>\n",
       "      <td>1.0</td>\n",
       "      <td>0.0</td>\n",
       "      <td>0.0</td>\n",
       "      <td>0.0</td>\n",
       "      <td>0.0</td>\n",
       "      <td>1.0</td>\n",
       "      <td>0.0</td>\n",
       "      <td>0.0</td>\n",
       "      <td>1.0</td>\n",
       "      <td>0.0</td>\n",
       "      <td>1</td>\n",
       "      <td>0</td>\n",
       "      <td>1</td>\n",
       "      <td>0</td>\n",
       "      <td>0</td>\n",
       "      <td>0</td>\n",
       "      <td>0</td>\n",
       "      <td>0</td>\n",
       "      <td>0</td>\n",
       "      <td>0</td>\n",
       "      <td>0</td>\n",
       "      <td>2021</td>\n",
       "      <td>4</td>\n",
       "      <td>15</td>\n",
       "      <td>15</td>\n",
       "      <td>3</td>\n",
       "      <td>2021</td>\n",
       "      <td>10</td>\n",
       "      <td>41</td>\n",
       "      <td>15</td>\n",
       "      <td>4</td>\n",
       "      <td>11</td>\n",
       "      <td>183</td>\n",
       "      <td>5</td>\n",
       "      <td>4</td>\n",
       "    </tr>\n",
       "    <tr>\n",
       "      <th>1</th>\n",
       "      <td>1.0</td>\n",
       "      <td>0.0</td>\n",
       "      <td>0.0</td>\n",
       "      <td>0.0</td>\n",
       "      <td>0.0</td>\n",
       "      <td>0.0</td>\n",
       "      <td>0.0</td>\n",
       "      <td>0.0</td>\n",
       "      <td>1.0</td>\n",
       "      <td>0.0</td>\n",
       "      <td>0.0</td>\n",
       "      <td>0.0</td>\n",
       "      <td>0.0</td>\n",
       "      <td>0.0</td>\n",
       "      <td>0.0</td>\n",
       "      <td>0.0</td>\n",
       "      <td>0.0</td>\n",
       "      <td>0.0</td>\n",
       "      <td>1.0</td>\n",
       "      <td>0.0</td>\n",
       "      <td>0.0</td>\n",
       "      <td>0.0</td>\n",
       "      <td>0.0</td>\n",
       "      <td>1.0</td>\n",
       "      <td>0.0</td>\n",
       "      <td>0.0</td>\n",
       "      <td>0.0</td>\n",
       "      <td>0.0</td>\n",
       "      <td>0.0</td>\n",
       "      <td>0.0</td>\n",
       "      <td>1.0</td>\n",
       "      <td>0.0</td>\n",
       "      <td>0.0</td>\n",
       "      <td>0.0</td>\n",
       "      <td>0.0</td>\n",
       "      <td>1.0</td>\n",
       "      <td>0.0</td>\n",
       "      <td>0.0</td>\n",
       "      <td>1.0</td>\n",
       "      <td>1.0</td>\n",
       "      <td>1</td>\n",
       "      <td>0</td>\n",
       "      <td>0</td>\n",
       "      <td>0</td>\n",
       "      <td>0</td>\n",
       "      <td>0</td>\n",
       "      <td>0</td>\n",
       "      <td>0</td>\n",
       "      <td>0</td>\n",
       "      <td>0</td>\n",
       "      <td>0</td>\n",
       "      <td>2020</td>\n",
       "      <td>5</td>\n",
       "      <td>21</td>\n",
       "      <td>19</td>\n",
       "      <td>1</td>\n",
       "      <td>2020</td>\n",
       "      <td>6</td>\n",
       "      <td>25</td>\n",
       "      <td>18</td>\n",
       "      <td>3</td>\n",
       "      <td>14</td>\n",
       "      <td>30</td>\n",
       "      <td>35</td>\n",
       "      <td>1</td>\n",
       "    </tr>\n",
       "    <tr>\n",
       "      <th>...</th>\n",
       "      <td>...</td>\n",
       "      <td>...</td>\n",
       "      <td>...</td>\n",
       "      <td>...</td>\n",
       "      <td>...</td>\n",
       "      <td>...</td>\n",
       "      <td>...</td>\n",
       "      <td>...</td>\n",
       "      <td>...</td>\n",
       "      <td>...</td>\n",
       "      <td>...</td>\n",
       "      <td>...</td>\n",
       "      <td>...</td>\n",
       "      <td>...</td>\n",
       "      <td>...</td>\n",
       "      <td>...</td>\n",
       "      <td>...</td>\n",
       "      <td>...</td>\n",
       "      <td>...</td>\n",
       "      <td>...</td>\n",
       "      <td>...</td>\n",
       "      <td>...</td>\n",
       "      <td>...</td>\n",
       "      <td>...</td>\n",
       "      <td>...</td>\n",
       "      <td>...</td>\n",
       "      <td>...</td>\n",
       "      <td>...</td>\n",
       "      <td>...</td>\n",
       "      <td>...</td>\n",
       "      <td>...</td>\n",
       "      <td>...</td>\n",
       "      <td>...</td>\n",
       "      <td>...</td>\n",
       "      <td>...</td>\n",
       "      <td>...</td>\n",
       "      <td>...</td>\n",
       "      <td>...</td>\n",
       "      <td>...</td>\n",
       "      <td>...</td>\n",
       "      <td>...</td>\n",
       "      <td>...</td>\n",
       "      <td>...</td>\n",
       "      <td>...</td>\n",
       "      <td>...</td>\n",
       "      <td>...</td>\n",
       "      <td>...</td>\n",
       "      <td>...</td>\n",
       "      <td>...</td>\n",
       "      <td>...</td>\n",
       "      <td>...</td>\n",
       "      <td>...</td>\n",
       "      <td>...</td>\n",
       "      <td>...</td>\n",
       "      <td>...</td>\n",
       "      <td>...</td>\n",
       "      <td>...</td>\n",
       "      <td>...</td>\n",
       "      <td>...</td>\n",
       "      <td>...</td>\n",
       "      <td>...</td>\n",
       "      <td>...</td>\n",
       "      <td>...</td>\n",
       "      <td>...</td>\n",
       "      <td>...</td>\n",
       "    </tr>\n",
       "    <tr>\n",
       "      <th>58689</th>\n",
       "      <td>0.0</td>\n",
       "      <td>1.0</td>\n",
       "      <td>0.0</td>\n",
       "      <td>0.0</td>\n",
       "      <td>0.0</td>\n",
       "      <td>0.0</td>\n",
       "      <td>0.0</td>\n",
       "      <td>0.0</td>\n",
       "      <td>0.0</td>\n",
       "      <td>0.0</td>\n",
       "      <td>0.0</td>\n",
       "      <td>0.0</td>\n",
       "      <td>0.0</td>\n",
       "      <td>0.0</td>\n",
       "      <td>0.0</td>\n",
       "      <td>1.0</td>\n",
       "      <td>0.0</td>\n",
       "      <td>0.0</td>\n",
       "      <td>1.0</td>\n",
       "      <td>0.0</td>\n",
       "      <td>0.0</td>\n",
       "      <td>1.0</td>\n",
       "      <td>0.0</td>\n",
       "      <td>0.0</td>\n",
       "      <td>0.0</td>\n",
       "      <td>1.0</td>\n",
       "      <td>0.0</td>\n",
       "      <td>0.0</td>\n",
       "      <td>0.0</td>\n",
       "      <td>0.0</td>\n",
       "      <td>0.0</td>\n",
       "      <td>0.0</td>\n",
       "      <td>0.0</td>\n",
       "      <td>0.0</td>\n",
       "      <td>0.0</td>\n",
       "      <td>0.0</td>\n",
       "      <td>1.0</td>\n",
       "      <td>0.0</td>\n",
       "      <td>1.0</td>\n",
       "      <td>0.0</td>\n",
       "      <td>0</td>\n",
       "      <td>0</td>\n",
       "      <td>0</td>\n",
       "      <td>0</td>\n",
       "      <td>1</td>\n",
       "      <td>0</td>\n",
       "      <td>0</td>\n",
       "      <td>0</td>\n",
       "      <td>0</td>\n",
       "      <td>0</td>\n",
       "      <td>0</td>\n",
       "      <td>2013</td>\n",
       "      <td>10</td>\n",
       "      <td>43</td>\n",
       "      <td>27</td>\n",
       "      <td>6</td>\n",
       "      <td>2020</td>\n",
       "      <td>9</td>\n",
       "      <td>40</td>\n",
       "      <td>30</td>\n",
       "      <td>2</td>\n",
       "      <td>14</td>\n",
       "      <td>2530</td>\n",
       "      <td>226</td>\n",
       "      <td>3</td>\n",
       "    </tr>\n",
       "    <tr>\n",
       "      <th>58690</th>\n",
       "      <td>0.0</td>\n",
       "      <td>1.0</td>\n",
       "      <td>0.0</td>\n",
       "      <td>0.0</td>\n",
       "      <td>0.0</td>\n",
       "      <td>0.0</td>\n",
       "      <td>0.0</td>\n",
       "      <td>0.0</td>\n",
       "      <td>0.0</td>\n",
       "      <td>0.0</td>\n",
       "      <td>0.0</td>\n",
       "      <td>0.0</td>\n",
       "      <td>0.0</td>\n",
       "      <td>0.0</td>\n",
       "      <td>0.0</td>\n",
       "      <td>1.0</td>\n",
       "      <td>0.0</td>\n",
       "      <td>0.0</td>\n",
       "      <td>1.0</td>\n",
       "      <td>0.0</td>\n",
       "      <td>0.0</td>\n",
       "      <td>0.0</td>\n",
       "      <td>0.0</td>\n",
       "      <td>1.0</td>\n",
       "      <td>0.0</td>\n",
       "      <td>0.0</td>\n",
       "      <td>0.0</td>\n",
       "      <td>0.0</td>\n",
       "      <td>0.0</td>\n",
       "      <td>0.0</td>\n",
       "      <td>1.0</td>\n",
       "      <td>0.0</td>\n",
       "      <td>0.0</td>\n",
       "      <td>0.0</td>\n",
       "      <td>0.0</td>\n",
       "      <td>0.0</td>\n",
       "      <td>1.0</td>\n",
       "      <td>0.0</td>\n",
       "      <td>1.0</td>\n",
       "      <td>0.0</td>\n",
       "      <td>0</td>\n",
       "      <td>0</td>\n",
       "      <td>0</td>\n",
       "      <td>0</td>\n",
       "      <td>1</td>\n",
       "      <td>0</td>\n",
       "      <td>0</td>\n",
       "      <td>0</td>\n",
       "      <td>0</td>\n",
       "      <td>0</td>\n",
       "      <td>0</td>\n",
       "      <td>2013</td>\n",
       "      <td>10</td>\n",
       "      <td>43</td>\n",
       "      <td>27</td>\n",
       "      <td>6</td>\n",
       "      <td>2016</td>\n",
       "      <td>9</td>\n",
       "      <td>35</td>\n",
       "      <td>1</td>\n",
       "      <td>3</td>\n",
       "      <td>10</td>\n",
       "      <td>1040</td>\n",
       "      <td>88</td>\n",
       "      <td>3</td>\n",
       "    </tr>\n",
       "  </tbody>\n",
       "</table>\n",
       "<p>58691 rows × 65 columns</p>\n",
       "</div>"
      ],
      "text/plain": [
       "       Animal Type_Cat  Animal Type_Dog  Breed Bucket_Border Collie  \\\n",
       "0                  1.0              0.0                         0.0   \n",
       "1                  1.0              0.0                         0.0   \n",
       "...                ...              ...                         ...   \n",
       "58689              0.0              1.0                         0.0   \n",
       "58690              0.0              1.0                         0.0   \n",
       "\n",
       "       Breed Bucket_Boxer  Breed Bucket_Chihuahua  Breed Bucket_Dachshund  \\\n",
       "0                     0.0                     0.0                     0.0   \n",
       "1                     0.0                     0.0                     0.0   \n",
       "...                   ...                     ...                     ...   \n",
       "58689                 0.0                     0.0                     0.0   \n",
       "58690                 0.0                     0.0                     0.0   \n",
       "\n",
       "       Breed Bucket_Domestic Longhair  Breed Bucket_Domestic Medium Hair  \\\n",
       "0                                 0.0                                0.0   \n",
       "1                                 0.0                                0.0   \n",
       "...                               ...                                ...   \n",
       "58689                             0.0                                0.0   \n",
       "58690                             0.0                                0.0   \n",
       "\n",
       "       Breed Bucket_Domestic Shorthair  Breed Bucket_Husky  \\\n",
       "0                                  1.0                 0.0   \n",
       "1                                  1.0                 0.0   \n",
       "...                                ...                 ...   \n",
       "58689                              0.0                 0.0   \n",
       "58690                              0.0                 0.0   \n",
       "\n",
       "       Breed Bucket_Pit Bull  Breed Bucket_Poodle  Breed Bucket_Retriever  \\\n",
       "0                        0.0                  0.0                     0.0   \n",
       "1                        0.0                  0.0                     0.0   \n",
       "...                      ...                  ...                     ...   \n",
       "58689                    0.0                  0.0                     0.0   \n",
       "58690                    0.0                  0.0                     0.0   \n",
       "\n",
       "       Breed Bucket_Shepherd  Breed Bucket_Siamese Mix  Breed Bucket_Terrier  \\\n",
       "0                        0.0                       0.0                   0.0   \n",
       "1                        0.0                       0.0                   0.0   \n",
       "...                      ...                       ...                   ...   \n",
       "58689                    0.0                       0.0                   1.0   \n",
       "58690                    0.0                       0.0                   1.0   \n",
       "\n",
       "       Breed Bucket_nan  Gender_Female  Gender_Male  Intake Type_Abandoned  \\\n",
       "0                   0.0            1.0          0.0                    0.0   \n",
       "1                   0.0            0.0          1.0                    0.0   \n",
       "...                 ...            ...          ...                    ...   \n",
       "58689               0.0            0.0          1.0                    0.0   \n",
       "58690               0.0            0.0          1.0                    0.0   \n",
       "\n",
       "       Intake Type_Euthanasia Request  Intake Type_Owner Surrender  \\\n",
       "0                                 0.0                          0.0   \n",
       "1                                 0.0                          0.0   \n",
       "...                               ...                          ...   \n",
       "58689                             0.0                          1.0   \n",
       "58690                             0.0                          0.0   \n",
       "\n",
       "       Intake Type_Public Assist  Intake Type_Stray  Intake Condition_Aged  \\\n",
       "0                            0.0                1.0                    0.0   \n",
       "1                            0.0                1.0                    0.0   \n",
       "...                          ...                ...                    ...   \n",
       "58689                        0.0                0.0                    0.0   \n",
       "58690                        0.0                1.0                    0.0   \n",
       "\n",
       "       Intake Condition_Behavior  Intake Condition_Feral  \\\n",
       "0                            0.0                     0.0   \n",
       "1                            0.0                     0.0   \n",
       "...                          ...                     ...   \n",
       "58689                        1.0                     0.0   \n",
       "58690                        0.0                     0.0   \n",
       "\n",
       "       Intake Condition_Injured  Intake Condition_Medical  \\\n",
       "0                           0.0                       0.0   \n",
       "1                           0.0                       0.0   \n",
       "...                         ...                       ...   \n",
       "58689                       0.0                       0.0   \n",
       "58690                       0.0                       0.0   \n",
       "\n",
       "       Intake Condition_Neonatal  Intake Condition_Normal  \\\n",
       "0                            0.0                      1.0   \n",
       "1                            0.0                      1.0   \n",
       "...                          ...                      ...   \n",
       "58689                        0.0                      0.0   \n",
       "58690                        0.0                      1.0   \n",
       "\n",
       "       Intake Condition_Nursing  Intake Condition_Other  \\\n",
       "0                           0.0                     0.0   \n",
       "1                           0.0                     0.0   \n",
       "...                         ...                     ...   \n",
       "58689                       0.0                     0.0   \n",
       "58690                       0.0                     0.0   \n",
       "\n",
       "       Intake Condition_Pregnant  Intake Condition_Sick  \\\n",
       "0                            0.0                    0.0   \n",
       "1                            0.0                    0.0   \n",
       "...                          ...                    ...   \n",
       "58689                        0.0                    0.0   \n",
       "58690                        0.0                    0.0   \n",
       "\n",
       "       Castration Intake_False  Castration Intake_True  \\\n",
       "0                          1.0                     0.0   \n",
       "1                          1.0                     0.0   \n",
       "...                        ...                     ...   \n",
       "58689                      0.0                     1.0   \n",
       "58690                      0.0                     1.0   \n",
       "\n",
       "       Castration Outcome_False  Castration Outcome_True  Name_Unknown  Tabby  \\\n",
       "0                           0.0                      1.0           0.0      1   \n",
       "1                           0.0                      1.0           1.0      1   \n",
       "...                         ...                      ...           ...    ...   \n",
       "58689                       0.0                      1.0           0.0      0   \n",
       "58690                       0.0                      1.0           0.0      0   \n",
       "\n",
       "       Tricolor  Brown  Black  White  Orange  Tortie  Calico  Blue  Tan  \\\n",
       "0             0      1      0      0       0       0       0     0    0   \n",
       "1             0      0      0      0       0       0       0     0    0   \n",
       "...         ...    ...    ...    ...     ...     ...     ...   ...  ...   \n",
       "58689         0      0      0      1       0       0       0     0    0   \n",
       "58690         0      0      0      1       0       0       0     0    0   \n",
       "\n",
       "       Brindle  Date of Birth Year  Date of Birth Month  Date of Birth Week  \\\n",
       "0            0                2021                    4                  15   \n",
       "1            0                2020                    5                  21   \n",
       "...        ...                 ...                  ...                 ...   \n",
       "58689        0                2013                   10                  43   \n",
       "58690        0                2013                   10                  43   \n",
       "\n",
       "       Date of Birth Day  Date of Birth Weekday  Intake DateTime Year  \\\n",
       "0                     15                      3                  2021   \n",
       "1                     19                      1                  2020   \n",
       "...                  ...                    ...                   ...   \n",
       "58689                 27                      6                  2020   \n",
       "58690                 27                      6                  2016   \n",
       "\n",
       "       Intake DateTime Month  Intake DateTime Week  Intake DateTime Day  \\\n",
       "0                         10                    41                   15   \n",
       "1                          6                    25                   18   \n",
       "...                      ...                   ...                  ...   \n",
       "58689                      9                    40                   30   \n",
       "58690                      9                    35                    1   \n",
       "\n",
       "       Intake DateTime Weekday  Intake DateTime Hour  IntakeAge  \\\n",
       "0                            4                    11        183   \n",
       "1                            3                    14         30   \n",
       "...                        ...                   ...        ...   \n",
       "58689                        2                    14       2530   \n",
       "58690                        3                    10       1040   \n",
       "\n",
       "       Days in Shelter  Adoption Speed  \n",
       "0                    5               4  \n",
       "1                   35               1  \n",
       "...                ...             ...  \n",
       "58689              226               3  \n",
       "58690               88               3  \n",
       "\n",
       "[58691 rows x 65 columns]"
      ]
     },
     "metadata": {},
     "output_type": "display_data"
    }
   ],
   "source": [
    "df_enc = pd.DataFrame()\n",
    "df_enc = pd.concat([df_ohe, df_names, df_colors, df_dates, df_target], axis=1)\n",
    "\n",
    "with pd.option_context('display.max_rows', 5, 'display.max_columns', None): \n",
    "    display(df_enc)"
   ]
  },
  {
   "cell_type": "markdown",
   "id": "36daf300",
   "metadata": {},
   "source": [
    "Lastly we'll do a null check on our dataframe to make sure none of the rows having missing values."
   ]
  },
  {
   "cell_type": "code",
   "execution_count": 14,
   "id": "4fde6016",
   "metadata": {},
   "outputs": [
    {
     "data": {
      "text/html": [
       "<div>\n",
       "<style scoped>\n",
       "    .dataframe tbody tr th:only-of-type {\n",
       "        vertical-align: middle;\n",
       "    }\n",
       "\n",
       "    .dataframe tbody tr th {\n",
       "        vertical-align: top;\n",
       "    }\n",
       "\n",
       "    .dataframe thead th {\n",
       "        text-align: right;\n",
       "    }\n",
       "</style>\n",
       "<table border=\"1\" class=\"dataframe\">\n",
       "  <thead>\n",
       "    <tr style=\"text-align: right;\">\n",
       "      <th></th>\n",
       "      <th>Animal Type_Cat</th>\n",
       "      <th>Animal Type_Dog</th>\n",
       "      <th>Breed Bucket_Border Collie</th>\n",
       "      <th>Breed Bucket_Boxer</th>\n",
       "      <th>Breed Bucket_Chihuahua</th>\n",
       "      <th>Breed Bucket_Dachshund</th>\n",
       "      <th>Breed Bucket_Domestic Longhair</th>\n",
       "      <th>Breed Bucket_Domestic Medium Hair</th>\n",
       "      <th>Breed Bucket_Domestic Shorthair</th>\n",
       "      <th>Breed Bucket_Husky</th>\n",
       "      <th>...</th>\n",
       "      <th>Date of Birth Weekday</th>\n",
       "      <th>Intake DateTime Year</th>\n",
       "      <th>Intake DateTime Month</th>\n",
       "      <th>Intake DateTime Week</th>\n",
       "      <th>Intake DateTime Day</th>\n",
       "      <th>Intake DateTime Weekday</th>\n",
       "      <th>Intake DateTime Hour</th>\n",
       "      <th>IntakeAge</th>\n",
       "      <th>Days in Shelter</th>\n",
       "      <th>Adoption Speed</th>\n",
       "    </tr>\n",
       "  </thead>\n",
       "  <tbody>\n",
       "  </tbody>\n",
       "</table>\n",
       "<p>0 rows × 65 columns</p>\n",
       "</div>"
      ],
      "text/plain": [
       "Empty DataFrame\n",
       "Columns: [Animal Type_Cat, Animal Type_Dog, Breed Bucket_Border Collie, Breed Bucket_Boxer, Breed Bucket_Chihuahua, Breed Bucket_Dachshund, Breed Bucket_Domestic Longhair, Breed Bucket_Domestic Medium Hair, Breed Bucket_Domestic Shorthair, Breed Bucket_Husky, Breed Bucket_Pit Bull, Breed Bucket_Poodle, Breed Bucket_Retriever, Breed Bucket_Shepherd, Breed Bucket_Siamese Mix, Breed Bucket_Terrier, Breed Bucket_nan, Gender_Female, Gender_Male, Intake Type_Abandoned, Intake Type_Euthanasia Request, Intake Type_Owner Surrender, Intake Type_Public Assist, Intake Type_Stray, Intake Condition_Aged, Intake Condition_Behavior, Intake Condition_Feral, Intake Condition_Injured, Intake Condition_Medical, Intake Condition_Neonatal, Intake Condition_Normal, Intake Condition_Nursing, Intake Condition_Other, Intake Condition_Pregnant, Intake Condition_Sick, Castration Intake_False, Castration Intake_True, Castration Outcome_False, Castration Outcome_True, Name_Unknown, Tabby, Tricolor, Brown, Black, White, Orange, Tortie, Calico, Blue, Tan, Brindle, Date of Birth Year, Date of Birth Month, Date of Birth Week, Date of Birth Day, Date of Birth Weekday, Intake DateTime Year, Intake DateTime Month, Intake DateTime Week, Intake DateTime Day, Intake DateTime Weekday, Intake DateTime Hour, IntakeAge, Days in Shelter, Adoption Speed]\n",
       "Index: []\n",
       "\n",
       "[0 rows x 65 columns]"
      ]
     },
     "execution_count": 14,
     "metadata": {},
     "output_type": "execute_result"
    }
   ],
   "source": [
    "df_enc[df_enc.isna().any(axis=1)]"
   ]
  },
  {
   "cell_type": "markdown",
   "id": "6b97d801",
   "metadata": {},
   "source": [
    "# 5. Heatmapping the Dataframe <a class=\"anchor\" id=\"chapter5\"></a>\n",
    "Heatmapping the dataframe gives us an idea which features have a direct correlation with eachother. Because the dataframe is so large we're going to split it up into 3 diffent dataframes and map them our separately. The downside is that we won't be able to see some of the correlations between the variables. We'll still see the direct correlations between the variables and our target. If these are low that isn't necessarily a problem. The heatmap won't display how good a combination of variables performs in predicting the target."
   ]
  },
  {
   "cell_type": "code",
   "execution_count": 15,
   "id": "3a85c0b1",
   "metadata": {},
   "outputs": [],
   "source": [
    "df_hm1 = pd.concat([df_enc.iloc[:, : 19], df_enc[['Days in Shelter', 'Adoption Speed']]], axis=1)\n",
    "df_hm2 = pd.concat([df_enc.iloc[:, 19 : 40], df_enc[['Days in Shelter', 'Adoption Speed']]], axis = 1)\n",
    "df_hm3 = df_enc.iloc[:, 40 : 65]"
   ]
  },
  {
   "cell_type": "markdown",
   "id": "8fc21610",
   "metadata": {},
   "source": [
    "Because we're going to make 3 heatmaps we'll make a function to create one from a dataframe."
   ]
  },
  {
   "cell_type": "code",
   "execution_count": 16,
   "id": "b0cd79de",
   "metadata": {},
   "outputs": [],
   "source": [
    "def create_heatmap(df):\n",
    "    fig, ax = plt.subplots(figsize=(20,20))   \n",
    "    ax = sns.heatmap(df.corr(method='pearson').abs(), annot=True, square=True)\n",
    "    plt.rcParams.update({'font.size':8})\n",
    "    return plt"
   ]
  },
  {
   "cell_type": "markdown",
   "id": "75c8eaa0",
   "metadata": {},
   "source": [
    "We'll then make our three heatmaps"
   ]
  },
  {
   "cell_type": "code",
   "execution_count": 17,
   "id": "2eeff65e",
   "metadata": {},
   "outputs": [
    {
     "data": {
      "image/png": "[encoded data removed]",
      "text/plain": [
       "<Figure size 1440x1440 with 2 Axes>"
      ]
     },
     "metadata": {
      "needs_background": "light"
     },
     "output_type": "display_data"
    }
   ],
   "source": [
    "plt = create_heatmap(df_hm1)\n",
    "plt.show()"
   ]
  },
  {
   "cell_type": "code",
   "execution_count": 18,
   "id": "f982133a",
   "metadata": {},
   "outputs": [
    {
     "data": {
      "image/png": "[encoded data removed]",
      "text/plain": [
       "<Figure size 1440x1440 with 2 Axes>"
      ]
     },
     "metadata": {
      "needs_background": "light"
     },
     "output_type": "display_data"
    }
   ],
   "source": [
    "plt = create_heatmap(df_hm2)\n",
    "plt.show()"
   ]
  },
  {
   "cell_type": "code",
   "execution_count": 19,
   "id": "5127fe33",
   "metadata": {},
   "outputs": [
    {
     "data": {
      "image/png": "[encoded data removed]",
      "text/plain": [
       "<Figure size 1440x1440 with 2 Axes>"
      ]
     },
     "metadata": {
      "needs_background": "light"
     },
     "output_type": "display_data"
    }
   ],
   "source": [
    "plt = create_heatmap(df_hm3)\n",
    "plt.show()"
   ]
  },
  {
   "cell_type": "markdown",
   "id": "8c28e66f",
   "metadata": {},
   "source": [
    "Based on the way we one hot encoded we found some downsides. There's some values with a value of or close to 1. In the case of cat and dog we do not need two categories. If the animal is not a cat we know it's a dog as these are the only animal types that we're handling. And if an animal is male we know it's not female. Castration intake and outcome also have this issue. The result is that these categories fulfill the same function. Keeping both will put too much weight on the features.\n",
    "\n",
    "Stray cats have a very high overlap with owner surrender of 0.95. This is due to the fact that most rows either contain one or the other, but this isn't always the case. We'll consider dropping this later.\n",
    "\n",
    "Lastly there's a very high overlap between month and week which makes sense. We'll drop the week column considering it's inaccuracy (it sometimes counts as 53rd week, because a year is not perfectly divisible into weeks). "
   ]
  },
  {
   "cell_type": "code",
   "execution_count": 20,
   "id": "ce0762b5",
   "metadata": {},
   "outputs": [],
   "source": [
    "df_enc.drop(['Animal Type_Cat', 'Gender_Male', 'Castration Intake_False', 'Castration Outcome_False'], axis=1, inplace=True)"
   ]
  },
  {
   "cell_type": "markdown",
   "id": "86dd0b72",
   "metadata": {},
   "source": [
    "# 6. Dividing Data Into Training and Validation Set <a class=\"anchor\" id=\"chapter6\"></a>\n",
    "We're going to be using K-Fold Cross Validation on our training set in order to create the best models possible. Afterwards we want to evaluate the performance of this model which we'll do using our validation set. A representation of this can be seen below in an image from scikit-learn.\n",
    "\n",
    "<img src='https://scikit-learn.org/stable/_images/grid_search_cross_validation.png' width=500px heigth=500px align=\"left\">"
   ]
  },
  {
   "cell_type": "markdown",
   "id": "2642ebaf",
   "metadata": {},
   "source": [
    "We'll begin by splitting our data in a train and validation set. We'll make a seperate set for regression. Note that because our input is the same our x training and x validation are the same assuming we use the same random state. We don't need to keep these seperate. This will both save work and memory during the following scaling steps."
   ]
  },
  {
   "cell_type": "code",
   "execution_count": 21,
   "id": "6b09bd64",
   "metadata": {
    "scrolled": true
   },
   "outputs": [
    {
     "data": {
      "text/html": [
       "<div>\n",
       "<style scoped>\n",
       "    .dataframe tbody tr th:only-of-type {\n",
       "        vertical-align: middle;\n",
       "    }\n",
       "\n",
       "    .dataframe tbody tr th {\n",
       "        vertical-align: top;\n",
       "    }\n",
       "\n",
       "    .dataframe thead th {\n",
       "        text-align: right;\n",
       "    }\n",
       "</style>\n",
       "<table border=\"1\" class=\"dataframe\">\n",
       "  <thead>\n",
       "    <tr style=\"text-align: right;\">\n",
       "      <th></th>\n",
       "      <th>Animal Type_Dog</th>\n",
       "      <th>Breed Bucket_Border Collie</th>\n",
       "      <th>Breed Bucket_Boxer</th>\n",
       "      <th>Breed Bucket_Chihuahua</th>\n",
       "      <th>Breed Bucket_Dachshund</th>\n",
       "      <th>Breed Bucket_Domestic Longhair</th>\n",
       "      <th>Breed Bucket_Domestic Medium Hair</th>\n",
       "      <th>Breed Bucket_Domestic Shorthair</th>\n",
       "      <th>Breed Bucket_Husky</th>\n",
       "      <th>Breed Bucket_Pit Bull</th>\n",
       "      <th>...</th>\n",
       "      <th>Date of Birth Week</th>\n",
       "      <th>Date of Birth Day</th>\n",
       "      <th>Date of Birth Weekday</th>\n",
       "      <th>Intake DateTime Year</th>\n",
       "      <th>Intake DateTime Month</th>\n",
       "      <th>Intake DateTime Week</th>\n",
       "      <th>Intake DateTime Day</th>\n",
       "      <th>Intake DateTime Weekday</th>\n",
       "      <th>Intake DateTime Hour</th>\n",
       "      <th>IntakeAge</th>\n",
       "    </tr>\n",
       "  </thead>\n",
       "  <tbody>\n",
       "    <tr>\n",
       "      <th>17135</th>\n",
       "      <td>0.0</td>\n",
       "      <td>0.0</td>\n",
       "      <td>0.0</td>\n",
       "      <td>0.0</td>\n",
       "      <td>0.0</td>\n",
       "      <td>0.0</td>\n",
       "      <td>1.0</td>\n",
       "      <td>0.0</td>\n",
       "      <td>0.0</td>\n",
       "      <td>0.0</td>\n",
       "      <td>...</td>\n",
       "      <td>16</td>\n",
       "      <td>22</td>\n",
       "      <td>3</td>\n",
       "      <td>2021</td>\n",
       "      <td>9</td>\n",
       "      <td>36</td>\n",
       "      <td>7</td>\n",
       "      <td>1</td>\n",
       "      <td>15</td>\n",
       "      <td>138</td>\n",
       "    </tr>\n",
       "    <tr>\n",
       "      <th>16840</th>\n",
       "      <td>1.0</td>\n",
       "      <td>0.0</td>\n",
       "      <td>0.0</td>\n",
       "      <td>0.0</td>\n",
       "      <td>0.0</td>\n",
       "      <td>0.0</td>\n",
       "      <td>0.0</td>\n",
       "      <td>0.0</td>\n",
       "      <td>0.0</td>\n",
       "      <td>0.0</td>\n",
       "      <td>...</td>\n",
       "      <td>15</td>\n",
       "      <td>14</td>\n",
       "      <td>6</td>\n",
       "      <td>2014</td>\n",
       "      <td>4</td>\n",
       "      <td>16</td>\n",
       "      <td>14</td>\n",
       "      <td>0</td>\n",
       "      <td>9</td>\n",
       "      <td>365</td>\n",
       "    </tr>\n",
       "    <tr>\n",
       "      <th>29116</th>\n",
       "      <td>0.0</td>\n",
       "      <td>0.0</td>\n",
       "      <td>0.0</td>\n",
       "      <td>0.0</td>\n",
       "      <td>0.0</td>\n",
       "      <td>0.0</td>\n",
       "      <td>0.0</td>\n",
       "      <td>1.0</td>\n",
       "      <td>0.0</td>\n",
       "      <td>0.0</td>\n",
       "      <td>...</td>\n",
       "      <td>15</td>\n",
       "      <td>12</td>\n",
       "      <td>1</td>\n",
       "      <td>2016</td>\n",
       "      <td>5</td>\n",
       "      <td>19</td>\n",
       "      <td>12</td>\n",
       "      <td>3</td>\n",
       "      <td>17</td>\n",
       "      <td>30</td>\n",
       "    </tr>\n",
       "    <tr>\n",
       "      <th>15811</th>\n",
       "      <td>1.0</td>\n",
       "      <td>0.0</td>\n",
       "      <td>0.0</td>\n",
       "      <td>0.0</td>\n",
       "      <td>0.0</td>\n",
       "      <td>0.0</td>\n",
       "      <td>0.0</td>\n",
       "      <td>0.0</td>\n",
       "      <td>0.0</td>\n",
       "      <td>1.0</td>\n",
       "      <td>...</td>\n",
       "      <td>16</td>\n",
       "      <td>15</td>\n",
       "      <td>2</td>\n",
       "      <td>2018</td>\n",
       "      <td>2</td>\n",
       "      <td>7</td>\n",
       "      <td>15</td>\n",
       "      <td>3</td>\n",
       "      <td>13</td>\n",
       "      <td>1037</td>\n",
       "    </tr>\n",
       "    <tr>\n",
       "      <th>46620</th>\n",
       "      <td>0.0</td>\n",
       "      <td>0.0</td>\n",
       "      <td>0.0</td>\n",
       "      <td>0.0</td>\n",
       "      <td>0.0</td>\n",
       "      <td>0.0</td>\n",
       "      <td>0.0</td>\n",
       "      <td>1.0</td>\n",
       "      <td>0.0</td>\n",
       "      <td>0.0</td>\n",
       "      <td>...</td>\n",
       "      <td>11</td>\n",
       "      <td>14</td>\n",
       "      <td>5</td>\n",
       "      <td>2016</td>\n",
       "      <td>3</td>\n",
       "      <td>11</td>\n",
       "      <td>14</td>\n",
       "      <td>0</td>\n",
       "      <td>13</td>\n",
       "      <td>366</td>\n",
       "    </tr>\n",
       "  </tbody>\n",
       "</table>\n",
       "<p>5 rows × 59 columns</p>\n",
       "</div>"
      ],
      "text/plain": [
       "       Animal Type_Dog  Breed Bucket_Border Collie  Breed Bucket_Boxer  \\\n",
       "17135              0.0                         0.0                 0.0   \n",
       "16840              1.0                         0.0                 0.0   \n",
       "29116              0.0                         0.0                 0.0   \n",
       "15811              1.0                         0.0                 0.0   \n",
       "46620              0.0                         0.0                 0.0   \n",
       "\n",
       "       Breed Bucket_Chihuahua  Breed Bucket_Dachshund  \\\n",
       "17135                     0.0                     0.0   \n",
       "16840                     0.0                     0.0   \n",
       "29116                     0.0                     0.0   \n",
       "15811                     0.0                     0.0   \n",
       "46620                     0.0                     0.0   \n",
       "\n",
       "       Breed Bucket_Domestic Longhair  Breed Bucket_Domestic Medium Hair  \\\n",
       "17135                             0.0                                1.0   \n",
       "16840                             0.0                                0.0   \n",
       "29116                             0.0                                0.0   \n",
       "15811                             0.0                                0.0   \n",
       "46620                             0.0                                0.0   \n",
       "\n",
       "       Breed Bucket_Domestic Shorthair  Breed Bucket_Husky  \\\n",
       "17135                              0.0                 0.0   \n",
       "16840                              0.0                 0.0   \n",
       "29116                              1.0                 0.0   \n",
       "15811                              0.0                 0.0   \n",
       "46620                              1.0                 0.0   \n",
       "\n",
       "       Breed Bucket_Pit Bull  ...  Date of Birth Week  Date of Birth Day  \\\n",
       "17135                    0.0  ...                  16                 22   \n",
       "16840                    0.0  ...                  15                 14   \n",
       "29116                    0.0  ...                  15                 12   \n",
       "15811                    1.0  ...                  16                 15   \n",
       "46620                    0.0  ...                  11                 14   \n",
       "\n",
       "       Date of Birth Weekday  Intake DateTime Year  Intake DateTime Month  \\\n",
       "17135                      3                  2021                      9   \n",
       "16840                      6                  2014                      4   \n",
       "29116                      1                  2016                      5   \n",
       "15811                      2                  2018                      2   \n",
       "46620                      5                  2016                      3   \n",
       "\n",
       "       Intake DateTime Week  Intake DateTime Day  Intake DateTime Weekday  \\\n",
       "17135                    36                    7                        1   \n",
       "16840                    16                   14                        0   \n",
       "29116                    19                   12                        3   \n",
       "15811                     7                   15                        3   \n",
       "46620                    11                   14                        0   \n",
       "\n",
       "       Intake DateTime Hour  IntakeAge  \n",
       "17135                    15        138  \n",
       "16840                     9        365  \n",
       "29116                    17         30  \n",
       "15811                    13       1037  \n",
       "46620                    13        366  \n",
       "\n",
       "[5 rows x 59 columns]"
      ]
     },
     "execution_count": 21,
     "metadata": {},
     "output_type": "execute_result"
    }
   ],
   "source": [
    "df_X = df_enc.drop(['Days in Shelter', 'Adoption Speed'],axis=1)\n",
    "df_y = df_enc['Adoption Speed']\n",
    "df_y_reg = df_enc['Days in Shelter']\n",
    "\n",
    "X_train, X_val, y_train, y_val = train_test_split(df_X, df_y, test_size=0.20, random_state=42)\n",
    "X_train_reg, X_val_reg, y_train_reg, y_val_reg = train_test_split(df_X, df_y_reg, test_size=0.20, random_state=42)\n",
    "X_train.head()"
   ]
  },
  {
   "cell_type": "markdown",
   "id": "94052449",
   "metadata": {},
   "source": [
    "# 7. Scaling the Data <a class=\"anchor\" id=\"chapter7\"></a>\n",
    "\n",
    "We split the data before scaling and normalising so that the training data does not influence the validation data in any way or form. The validation set needs to play the role of unseen data. It is not meant to be accessible during the training stage and should not influence the training data in any way. If we were to use it to create a scaler this could already introduce a potential bias. We will, however, use the scaler that was created by the training data to already scale the validation data.\n",
    "\n",
    "> *The two most popular techniques for scaling numerical data prior to modeling are normalization and standardization. Normalization scales each input variable separately to the range 0-1, which is the range for floating-point values where we have the most precision. Standardization scales each input variable separately by subtracting the mean (called centering) and dividing by the standard deviation to shift the distribution to have a mean of zero and a standard deviation of one. - machinelearningmastery.com*\n",
    "\n",
    "Scaling of the data is important to prevent any initial bias. Is we were to not scale the data distance based algorithms such as Linear Regression, K-Nearest Neighbors and Support Vector Machines would weigh certain features more heavily than others. By scaling them down to their proportionate levels each feature is treated fairly. Although the scaling is not necessary for algorithms such as the Decision Tree and Random Forest, we're already applying it for the models that are to come after those.\n",
    "\n",
    "<img src='https://miro.medium.com/max/2000/1*yR54MSI1jjnf2QeGtt57PA.png' width=400px heigth=400px align=\"left\">"
   ]
  },
  {
   "cell_type": "markdown",
   "id": "06140945",
   "metadata": {},
   "source": [
    "We'll be making use of sklearn's StandardScaler and MinMaxScaler to fulfill these needs. The benefit of this is that we can pickle the objects for deployment. We'll be making use of the MinMaxScaler where possible. One of the requirements is for us to know the minimum and maximum values possible. This isn't the case for ours years. A better way to go about time forecasting would be to use ARIMA, but we'll save that for a future iteration. We'll first define the difference in features as two groups. "
   ]
  },
  {
   "cell_type": "code",
   "execution_count": 22,
   "id": "0c0bfcf7",
   "metadata": {},
   "outputs": [],
   "source": [
    "min_max_features = ['Date of Birth Month', 'Date of Birth Week', 'Date of Birth Day', 'Date of Birth Weekday', \n",
    " 'Intake DateTime Month', 'Intake DateTime Week', 'Intake DateTime Day', 'Intake DateTime Weekday', 'Intake DateTime Hour', \n",
    " 'IntakeAge']\n",
    "\n",
    "standardisation_features = ['Date of Birth Year', 'Intake DateTime Year']"
   ]
  },
  {
   "cell_type": "markdown",
   "id": "4d33c9e0",
   "metadata": {},
   "source": [
    "We can then scale each of the feature lists accordingly. Normally this causes a SettingsWithCopyWarning to come up. Because this is a false positive with temporarily disable it using a with statement. After the index the option context is set back to normal meaning SettingsWithCopyWarnings will come up again."
   ]
  },
  {
   "cell_type": "code",
   "execution_count": 23,
   "id": "ec012470",
   "metadata": {},
   "outputs": [
    {
     "data": {
      "text/html": [
       "<div>\n",
       "<style scoped>\n",
       "    .dataframe tbody tr th:only-of-type {\n",
       "        vertical-align: middle;\n",
       "    }\n",
       "\n",
       "    .dataframe tbody tr th {\n",
       "        vertical-align: top;\n",
       "    }\n",
       "\n",
       "    .dataframe thead th {\n",
       "        text-align: right;\n",
       "    }\n",
       "</style>\n",
       "<table border=\"1\" class=\"dataframe\">\n",
       "  <thead>\n",
       "    <tr style=\"text-align: right;\">\n",
       "      <th></th>\n",
       "      <th>Animal Type_Dog</th>\n",
       "      <th>Breed Bucket_Border Collie</th>\n",
       "      <th>Breed Bucket_Boxer</th>\n",
       "      <th>Breed Bucket_Chihuahua</th>\n",
       "      <th>Breed Bucket_Dachshund</th>\n",
       "      <th>Breed Bucket_Domestic Longhair</th>\n",
       "      <th>Breed Bucket_Domestic Medium Hair</th>\n",
       "      <th>Breed Bucket_Domestic Shorthair</th>\n",
       "      <th>Breed Bucket_Husky</th>\n",
       "      <th>Breed Bucket_Pit Bull</th>\n",
       "      <th>Breed Bucket_Poodle</th>\n",
       "      <th>Breed Bucket_Retriever</th>\n",
       "      <th>Breed Bucket_Shepherd</th>\n",
       "      <th>Breed Bucket_Siamese Mix</th>\n",
       "      <th>Breed Bucket_Terrier</th>\n",
       "      <th>Breed Bucket_nan</th>\n",
       "      <th>Gender_Female</th>\n",
       "      <th>Intake Type_Abandoned</th>\n",
       "      <th>Intake Type_Euthanasia Request</th>\n",
       "      <th>Intake Type_Owner Surrender</th>\n",
       "      <th>Intake Type_Public Assist</th>\n",
       "      <th>Intake Type_Stray</th>\n",
       "      <th>Intake Condition_Aged</th>\n",
       "      <th>Intake Condition_Behavior</th>\n",
       "      <th>Intake Condition_Feral</th>\n",
       "      <th>Intake Condition_Injured</th>\n",
       "      <th>Intake Condition_Medical</th>\n",
       "      <th>Intake Condition_Neonatal</th>\n",
       "      <th>Intake Condition_Normal</th>\n",
       "      <th>Intake Condition_Nursing</th>\n",
       "      <th>Intake Condition_Other</th>\n",
       "      <th>Intake Condition_Pregnant</th>\n",
       "      <th>Intake Condition_Sick</th>\n",
       "      <th>Castration Intake_True</th>\n",
       "      <th>Castration Outcome_True</th>\n",
       "      <th>Name_Unknown</th>\n",
       "      <th>Tabby</th>\n",
       "      <th>Tricolor</th>\n",
       "      <th>Brown</th>\n",
       "      <th>Black</th>\n",
       "      <th>White</th>\n",
       "      <th>Orange</th>\n",
       "      <th>Tortie</th>\n",
       "      <th>Calico</th>\n",
       "      <th>Blue</th>\n",
       "      <th>Tan</th>\n",
       "      <th>Brindle</th>\n",
       "      <th>Date of Birth Year</th>\n",
       "      <th>Date of Birth Month</th>\n",
       "      <th>Date of Birth Week</th>\n",
       "      <th>Date of Birth Day</th>\n",
       "      <th>Date of Birth Weekday</th>\n",
       "      <th>Intake DateTime Year</th>\n",
       "      <th>Intake DateTime Month</th>\n",
       "      <th>Intake DateTime Week</th>\n",
       "      <th>Intake DateTime Day</th>\n",
       "      <th>Intake DateTime Weekday</th>\n",
       "      <th>Intake DateTime Hour</th>\n",
       "      <th>IntakeAge</th>\n",
       "    </tr>\n",
       "  </thead>\n",
       "  <tbody>\n",
       "    <tr>\n",
       "      <th>17135</th>\n",
       "      <td>0.0</td>\n",
       "      <td>0.0</td>\n",
       "      <td>0.0</td>\n",
       "      <td>0.0</td>\n",
       "      <td>0.0</td>\n",
       "      <td>0.0</td>\n",
       "      <td>1.0</td>\n",
       "      <td>0.0</td>\n",
       "      <td>0.0</td>\n",
       "      <td>0.0</td>\n",
       "      <td>0.0</td>\n",
       "      <td>0.0</td>\n",
       "      <td>0.0</td>\n",
       "      <td>0.0</td>\n",
       "      <td>0.0</td>\n",
       "      <td>0.0</td>\n",
       "      <td>1.0</td>\n",
       "      <td>0.0</td>\n",
       "      <td>0.0</td>\n",
       "      <td>0.0</td>\n",
       "      <td>0.0</td>\n",
       "      <td>1.0</td>\n",
       "      <td>0.0</td>\n",
       "      <td>0.0</td>\n",
       "      <td>0.0</td>\n",
       "      <td>0.0</td>\n",
       "      <td>0.0</td>\n",
       "      <td>0.0</td>\n",
       "      <td>1.0</td>\n",
       "      <td>0.0</td>\n",
       "      <td>0.0</td>\n",
       "      <td>0.0</td>\n",
       "      <td>0.0</td>\n",
       "      <td>0.0</td>\n",
       "      <td>1.0</td>\n",
       "      <td>1.0</td>\n",
       "      <td>0</td>\n",
       "      <td>0</td>\n",
       "      <td>0</td>\n",
       "      <td>0</td>\n",
       "      <td>0</td>\n",
       "      <td>0</td>\n",
       "      <td>0</td>\n",
       "      <td>1</td>\n",
       "      <td>0</td>\n",
       "      <td>0</td>\n",
       "      <td>0</td>\n",
       "      <td>1.626101</td>\n",
       "      <td>0.272727</td>\n",
       "      <td>0.288462</td>\n",
       "      <td>0.700000</td>\n",
       "      <td>0.5</td>\n",
       "      <td>1.729415</td>\n",
       "      <td>0.727273</td>\n",
       "      <td>0.673077</td>\n",
       "      <td>0.200000</td>\n",
       "      <td>0.166667</td>\n",
       "      <td>0.652174</td>\n",
       "      <td>0.019885</td>\n",
       "    </tr>\n",
       "    <tr>\n",
       "      <th>16840</th>\n",
       "      <td>1.0</td>\n",
       "      <td>0.0</td>\n",
       "      <td>0.0</td>\n",
       "      <td>0.0</td>\n",
       "      <td>0.0</td>\n",
       "      <td>0.0</td>\n",
       "      <td>0.0</td>\n",
       "      <td>0.0</td>\n",
       "      <td>0.0</td>\n",
       "      <td>0.0</td>\n",
       "      <td>0.0</td>\n",
       "      <td>1.0</td>\n",
       "      <td>0.0</td>\n",
       "      <td>0.0</td>\n",
       "      <td>0.0</td>\n",
       "      <td>0.0</td>\n",
       "      <td>0.0</td>\n",
       "      <td>0.0</td>\n",
       "      <td>0.0</td>\n",
       "      <td>0.0</td>\n",
       "      <td>0.0</td>\n",
       "      <td>1.0</td>\n",
       "      <td>0.0</td>\n",
       "      <td>0.0</td>\n",
       "      <td>0.0</td>\n",
       "      <td>0.0</td>\n",
       "      <td>0.0</td>\n",
       "      <td>0.0</td>\n",
       "      <td>1.0</td>\n",
       "      <td>0.0</td>\n",
       "      <td>0.0</td>\n",
       "      <td>0.0</td>\n",
       "      <td>0.0</td>\n",
       "      <td>0.0</td>\n",
       "      <td>1.0</td>\n",
       "      <td>0.0</td>\n",
       "      <td>0</td>\n",
       "      <td>0</td>\n",
       "      <td>1</td>\n",
       "      <td>0</td>\n",
       "      <td>0</td>\n",
       "      <td>0</td>\n",
       "      <td>0</td>\n",
       "      <td>0</td>\n",
       "      <td>0</td>\n",
       "      <td>1</td>\n",
       "      <td>0</td>\n",
       "      <td>-0.744388</td>\n",
       "      <td>0.272727</td>\n",
       "      <td>0.269231</td>\n",
       "      <td>0.433333</td>\n",
       "      <td>1.0</td>\n",
       "      <td>-1.416685</td>\n",
       "      <td>0.272727</td>\n",
       "      <td>0.288462</td>\n",
       "      <td>0.433333</td>\n",
       "      <td>0.000000</td>\n",
       "      <td>0.391304</td>\n",
       "      <td>0.052594</td>\n",
       "    </tr>\n",
       "    <tr>\n",
       "      <th>...</th>\n",
       "      <td>...</td>\n",
       "      <td>...</td>\n",
       "      <td>...</td>\n",
       "      <td>...</td>\n",
       "      <td>...</td>\n",
       "      <td>...</td>\n",
       "      <td>...</td>\n",
       "      <td>...</td>\n",
       "      <td>...</td>\n",
       "      <td>...</td>\n",
       "      <td>...</td>\n",
       "      <td>...</td>\n",
       "      <td>...</td>\n",
       "      <td>...</td>\n",
       "      <td>...</td>\n",
       "      <td>...</td>\n",
       "      <td>...</td>\n",
       "      <td>...</td>\n",
       "      <td>...</td>\n",
       "      <td>...</td>\n",
       "      <td>...</td>\n",
       "      <td>...</td>\n",
       "      <td>...</td>\n",
       "      <td>...</td>\n",
       "      <td>...</td>\n",
       "      <td>...</td>\n",
       "      <td>...</td>\n",
       "      <td>...</td>\n",
       "      <td>...</td>\n",
       "      <td>...</td>\n",
       "      <td>...</td>\n",
       "      <td>...</td>\n",
       "      <td>...</td>\n",
       "      <td>...</td>\n",
       "      <td>...</td>\n",
       "      <td>...</td>\n",
       "      <td>...</td>\n",
       "      <td>...</td>\n",
       "      <td>...</td>\n",
       "      <td>...</td>\n",
       "      <td>...</td>\n",
       "      <td>...</td>\n",
       "      <td>...</td>\n",
       "      <td>...</td>\n",
       "      <td>...</td>\n",
       "      <td>...</td>\n",
       "      <td>...</td>\n",
       "      <td>...</td>\n",
       "      <td>...</td>\n",
       "      <td>...</td>\n",
       "      <td>...</td>\n",
       "      <td>...</td>\n",
       "      <td>...</td>\n",
       "      <td>...</td>\n",
       "      <td>...</td>\n",
       "      <td>...</td>\n",
       "      <td>...</td>\n",
       "      <td>...</td>\n",
       "      <td>...</td>\n",
       "    </tr>\n",
       "    <tr>\n",
       "      <th>15795</th>\n",
       "      <td>1.0</td>\n",
       "      <td>0.0</td>\n",
       "      <td>0.0</td>\n",
       "      <td>0.0</td>\n",
       "      <td>0.0</td>\n",
       "      <td>0.0</td>\n",
       "      <td>0.0</td>\n",
       "      <td>0.0</td>\n",
       "      <td>0.0</td>\n",
       "      <td>0.0</td>\n",
       "      <td>0.0</td>\n",
       "      <td>0.0</td>\n",
       "      <td>1.0</td>\n",
       "      <td>0.0</td>\n",
       "      <td>0.0</td>\n",
       "      <td>0.0</td>\n",
       "      <td>0.0</td>\n",
       "      <td>0.0</td>\n",
       "      <td>0.0</td>\n",
       "      <td>0.0</td>\n",
       "      <td>0.0</td>\n",
       "      <td>1.0</td>\n",
       "      <td>0.0</td>\n",
       "      <td>0.0</td>\n",
       "      <td>0.0</td>\n",
       "      <td>0.0</td>\n",
       "      <td>0.0</td>\n",
       "      <td>0.0</td>\n",
       "      <td>1.0</td>\n",
       "      <td>0.0</td>\n",
       "      <td>0.0</td>\n",
       "      <td>0.0</td>\n",
       "      <td>0.0</td>\n",
       "      <td>0.0</td>\n",
       "      <td>1.0</td>\n",
       "      <td>0.0</td>\n",
       "      <td>0</td>\n",
       "      <td>0</td>\n",
       "      <td>1</td>\n",
       "      <td>1</td>\n",
       "      <td>0</td>\n",
       "      <td>0</td>\n",
       "      <td>0</td>\n",
       "      <td>0</td>\n",
       "      <td>0</td>\n",
       "      <td>0</td>\n",
       "      <td>0</td>\n",
       "      <td>-0.448077</td>\n",
       "      <td>1.000000</td>\n",
       "      <td>0.000000</td>\n",
       "      <td>0.933333</td>\n",
       "      <td>0.0</td>\n",
       "      <td>0.830529</td>\n",
       "      <td>1.000000</td>\n",
       "      <td>0.980769</td>\n",
       "      <td>0.933333</td>\n",
       "      <td>1.000000</td>\n",
       "      <td>0.739130</td>\n",
       "      <td>0.263112</td>\n",
       "    </tr>\n",
       "    <tr>\n",
       "      <th>56422</th>\n",
       "      <td>1.0</td>\n",
       "      <td>0.0</td>\n",
       "      <td>0.0</td>\n",
       "      <td>0.0</td>\n",
       "      <td>0.0</td>\n",
       "      <td>0.0</td>\n",
       "      <td>0.0</td>\n",
       "      <td>0.0</td>\n",
       "      <td>0.0</td>\n",
       "      <td>0.0</td>\n",
       "      <td>0.0</td>\n",
       "      <td>0.0</td>\n",
       "      <td>0.0</td>\n",
       "      <td>0.0</td>\n",
       "      <td>1.0</td>\n",
       "      <td>0.0</td>\n",
       "      <td>0.0</td>\n",
       "      <td>0.0</td>\n",
       "      <td>0.0</td>\n",
       "      <td>1.0</td>\n",
       "      <td>0.0</td>\n",
       "      <td>0.0</td>\n",
       "      <td>0.0</td>\n",
       "      <td>0.0</td>\n",
       "      <td>0.0</td>\n",
       "      <td>0.0</td>\n",
       "      <td>0.0</td>\n",
       "      <td>0.0</td>\n",
       "      <td>1.0</td>\n",
       "      <td>0.0</td>\n",
       "      <td>0.0</td>\n",
       "      <td>0.0</td>\n",
       "      <td>0.0</td>\n",
       "      <td>0.0</td>\n",
       "      <td>1.0</td>\n",
       "      <td>0.0</td>\n",
       "      <td>0</td>\n",
       "      <td>0</td>\n",
       "      <td>1</td>\n",
       "      <td>0</td>\n",
       "      <td>1</td>\n",
       "      <td>0</td>\n",
       "      <td>0</td>\n",
       "      <td>0</td>\n",
       "      <td>0</td>\n",
       "      <td>0</td>\n",
       "      <td>0</td>\n",
       "      <td>0.440857</td>\n",
       "      <td>0.000000</td>\n",
       "      <td>0.000000</td>\n",
       "      <td>0.233333</td>\n",
       "      <td>1.0</td>\n",
       "      <td>1.279972</td>\n",
       "      <td>0.000000</td>\n",
       "      <td>0.076923</td>\n",
       "      <td>0.966667</td>\n",
       "      <td>0.500000</td>\n",
       "      <td>0.521739</td>\n",
       "      <td>0.160951</td>\n",
       "    </tr>\n",
       "  </tbody>\n",
       "</table>\n",
       "<p>46952 rows × 59 columns</p>\n",
       "</div>"
      ],
      "text/plain": [
       "       Animal Type_Dog  Breed Bucket_Border Collie  Breed Bucket_Boxer  \\\n",
       "17135              0.0                         0.0                 0.0   \n",
       "16840              1.0                         0.0                 0.0   \n",
       "...                ...                         ...                 ...   \n",
       "15795              1.0                         0.0                 0.0   \n",
       "56422              1.0                         0.0                 0.0   \n",
       "\n",
       "       Breed Bucket_Chihuahua  Breed Bucket_Dachshund  \\\n",
       "17135                     0.0                     0.0   \n",
       "16840                     0.0                     0.0   \n",
       "...                       ...                     ...   \n",
       "15795                     0.0                     0.0   \n",
       "56422                     0.0                     0.0   \n",
       "\n",
       "       Breed Bucket_Domestic Longhair  Breed Bucket_Domestic Medium Hair  \\\n",
       "17135                             0.0                                1.0   \n",
       "16840                             0.0                                0.0   \n",
       "...                               ...                                ...   \n",
       "15795                             0.0                                0.0   \n",
       "56422                             0.0                                0.0   \n",
       "\n",
       "       Breed Bucket_Domestic Shorthair  Breed Bucket_Husky  \\\n",
       "17135                              0.0                 0.0   \n",
       "16840                              0.0                 0.0   \n",
       "...                                ...                 ...   \n",
       "15795                              0.0                 0.0   \n",
       "56422                              0.0                 0.0   \n",
       "\n",
       "       Breed Bucket_Pit Bull  Breed Bucket_Poodle  Breed Bucket_Retriever  \\\n",
       "17135                    0.0                  0.0                     0.0   \n",
       "16840                    0.0                  0.0                     1.0   \n",
       "...                      ...                  ...                     ...   \n",
       "15795                    0.0                  0.0                     0.0   \n",
       "56422                    0.0                  0.0                     0.0   \n",
       "\n",
       "       Breed Bucket_Shepherd  Breed Bucket_Siamese Mix  Breed Bucket_Terrier  \\\n",
       "17135                    0.0                       0.0                   0.0   \n",
       "16840                    0.0                       0.0                   0.0   \n",
       "...                      ...                       ...                   ...   \n",
       "15795                    1.0                       0.0                   0.0   \n",
       "56422                    0.0                       0.0                   1.0   \n",
       "\n",
       "       Breed Bucket_nan  Gender_Female  Intake Type_Abandoned  \\\n",
       "17135               0.0            1.0                    0.0   \n",
       "16840               0.0            0.0                    0.0   \n",
       "...                 ...            ...                    ...   \n",
       "15795               0.0            0.0                    0.0   \n",
       "56422               0.0            0.0                    0.0   \n",
       "\n",
       "       Intake Type_Euthanasia Request  Intake Type_Owner Surrender  \\\n",
       "17135                             0.0                          0.0   \n",
       "16840                             0.0                          0.0   \n",
       "...                               ...                          ...   \n",
       "15795                             0.0                          0.0   \n",
       "56422                             0.0                          1.0   \n",
       "\n",
       "       Intake Type_Public Assist  Intake Type_Stray  Intake Condition_Aged  \\\n",
       "17135                        0.0                1.0                    0.0   \n",
       "16840                        0.0                1.0                    0.0   \n",
       "...                          ...                ...                    ...   \n",
       "15795                        0.0                1.0                    0.0   \n",
       "56422                        0.0                0.0                    0.0   \n",
       "\n",
       "       Intake Condition_Behavior  Intake Condition_Feral  \\\n",
       "17135                        0.0                     0.0   \n",
       "16840                        0.0                     0.0   \n",
       "...                          ...                     ...   \n",
       "15795                        0.0                     0.0   \n",
       "56422                        0.0                     0.0   \n",
       "\n",
       "       Intake Condition_Injured  Intake Condition_Medical  \\\n",
       "17135                       0.0                       0.0   \n",
       "16840                       0.0                       0.0   \n",
       "...                         ...                       ...   \n",
       "15795                       0.0                       0.0   \n",
       "56422                       0.0                       0.0   \n",
       "\n",
       "       Intake Condition_Neonatal  Intake Condition_Normal  \\\n",
       "17135                        0.0                      1.0   \n",
       "16840                        0.0                      1.0   \n",
       "...                          ...                      ...   \n",
       "15795                        0.0                      1.0   \n",
       "56422                        0.0                      1.0   \n",
       "\n",
       "       Intake Condition_Nursing  Intake Condition_Other  \\\n",
       "17135                       0.0                     0.0   \n",
       "16840                       0.0                     0.0   \n",
       "...                         ...                     ...   \n",
       "15795                       0.0                     0.0   \n",
       "56422                       0.0                     0.0   \n",
       "\n",
       "       Intake Condition_Pregnant  Intake Condition_Sick  \\\n",
       "17135                        0.0                    0.0   \n",
       "16840                        0.0                    0.0   \n",
       "...                          ...                    ...   \n",
       "15795                        0.0                    0.0   \n",
       "56422                        0.0                    0.0   \n",
       "\n",
       "       Castration Intake_True  Castration Outcome_True  Name_Unknown  Tabby  \\\n",
       "17135                     0.0                      1.0           1.0      0   \n",
       "16840                     0.0                      1.0           0.0      0   \n",
       "...                       ...                      ...           ...    ...   \n",
       "15795                     0.0                      1.0           0.0      0   \n",
       "56422                     0.0                      1.0           0.0      0   \n",
       "\n",
       "       Tricolor  Brown  Black  White  Orange  Tortie  Calico  Blue  Tan  \\\n",
       "17135         0      0      0      0       0       0       1     0    0   \n",
       "16840         0      1      0      0       0       0       0     0    1   \n",
       "...         ...    ...    ...    ...     ...     ...     ...   ...  ...   \n",
       "15795         0      1      1      0       0       0       0     0    0   \n",
       "56422         0      1      0      1       0       0       0     0    0   \n",
       "\n",
       "       Brindle  Date of Birth Year  Date of Birth Month  Date of Birth Week  \\\n",
       "17135        0            1.626101             0.272727            0.288462   \n",
       "16840        0           -0.744388             0.272727            0.269231   \n",
       "...        ...                 ...                  ...                 ...   \n",
       "15795        0           -0.448077             1.000000            0.000000   \n",
       "56422        0            0.440857             0.000000            0.000000   \n",
       "\n",
       "       Date of Birth Day  Date of Birth Weekday  Intake DateTime Year  \\\n",
       "17135           0.700000                    0.5              1.729415   \n",
       "16840           0.433333                    1.0             -1.416685   \n",
       "...                  ...                    ...                   ...   \n",
       "15795           0.933333                    0.0              0.830529   \n",
       "56422           0.233333                    1.0              1.279972   \n",
       "\n",
       "       Intake DateTime Month  Intake DateTime Week  Intake DateTime Day  \\\n",
       "17135               0.727273              0.673077             0.200000   \n",
       "16840               0.272727              0.288462             0.433333   \n",
       "...                      ...                   ...                  ...   \n",
       "15795               1.000000              0.980769             0.933333   \n",
       "56422               0.000000              0.076923             0.966667   \n",
       "\n",
       "       Intake DateTime Weekday  Intake DateTime Hour  IntakeAge  \n",
       "17135                 0.166667              0.652174   0.019885  \n",
       "16840                 0.000000              0.391304   0.052594  \n",
       "...                        ...                   ...        ...  \n",
       "15795                 1.000000              0.739130   0.263112  \n",
       "56422                 0.500000              0.521739   0.160951  \n",
       "\n",
       "[46952 rows x 59 columns]"
      ]
     },
     "metadata": {},
     "output_type": "display_data"
    },
    {
     "data": {
      "text/html": [
       "<div>\n",
       "<style scoped>\n",
       "    .dataframe tbody tr th:only-of-type {\n",
       "        vertical-align: middle;\n",
       "    }\n",
       "\n",
       "    .dataframe tbody tr th {\n",
       "        vertical-align: top;\n",
       "    }\n",
       "\n",
       "    .dataframe thead th {\n",
       "        text-align: right;\n",
       "    }\n",
       "</style>\n",
       "<table border=\"1\" class=\"dataframe\">\n",
       "  <thead>\n",
       "    <tr style=\"text-align: right;\">\n",
       "      <th></th>\n",
       "      <th>Animal Type_Dog</th>\n",
       "      <th>Breed Bucket_Border Collie</th>\n",
       "      <th>Breed Bucket_Boxer</th>\n",
       "      <th>Breed Bucket_Chihuahua</th>\n",
       "      <th>Breed Bucket_Dachshund</th>\n",
       "      <th>Breed Bucket_Domestic Longhair</th>\n",
       "      <th>Breed Bucket_Domestic Medium Hair</th>\n",
       "      <th>Breed Bucket_Domestic Shorthair</th>\n",
       "      <th>Breed Bucket_Husky</th>\n",
       "      <th>Breed Bucket_Pit Bull</th>\n",
       "      <th>Breed Bucket_Poodle</th>\n",
       "      <th>Breed Bucket_Retriever</th>\n",
       "      <th>Breed Bucket_Shepherd</th>\n",
       "      <th>Breed Bucket_Siamese Mix</th>\n",
       "      <th>Breed Bucket_Terrier</th>\n",
       "      <th>Breed Bucket_nan</th>\n",
       "      <th>Gender_Female</th>\n",
       "      <th>Intake Type_Abandoned</th>\n",
       "      <th>Intake Type_Euthanasia Request</th>\n",
       "      <th>Intake Type_Owner Surrender</th>\n",
       "      <th>Intake Type_Public Assist</th>\n",
       "      <th>Intake Type_Stray</th>\n",
       "      <th>Intake Condition_Aged</th>\n",
       "      <th>Intake Condition_Behavior</th>\n",
       "      <th>Intake Condition_Feral</th>\n",
       "      <th>Intake Condition_Injured</th>\n",
       "      <th>Intake Condition_Medical</th>\n",
       "      <th>Intake Condition_Neonatal</th>\n",
       "      <th>Intake Condition_Normal</th>\n",
       "      <th>Intake Condition_Nursing</th>\n",
       "      <th>Intake Condition_Other</th>\n",
       "      <th>Intake Condition_Pregnant</th>\n",
       "      <th>Intake Condition_Sick</th>\n",
       "      <th>Castration Intake_True</th>\n",
       "      <th>Castration Outcome_True</th>\n",
       "      <th>Name_Unknown</th>\n",
       "      <th>Tabby</th>\n",
       "      <th>Tricolor</th>\n",
       "      <th>Brown</th>\n",
       "      <th>Black</th>\n",
       "      <th>White</th>\n",
       "      <th>Orange</th>\n",
       "      <th>Tortie</th>\n",
       "      <th>Calico</th>\n",
       "      <th>Blue</th>\n",
       "      <th>Tan</th>\n",
       "      <th>Brindle</th>\n",
       "      <th>Date of Birth Year</th>\n",
       "      <th>Date of Birth Month</th>\n",
       "      <th>Date of Birth Week</th>\n",
       "      <th>Date of Birth Day</th>\n",
       "      <th>Date of Birth Weekday</th>\n",
       "      <th>Intake DateTime Year</th>\n",
       "      <th>Intake DateTime Month</th>\n",
       "      <th>Intake DateTime Week</th>\n",
       "      <th>Intake DateTime Day</th>\n",
       "      <th>Intake DateTime Weekday</th>\n",
       "      <th>Intake DateTime Hour</th>\n",
       "      <th>IntakeAge</th>\n",
       "    </tr>\n",
       "  </thead>\n",
       "  <tbody>\n",
       "    <tr>\n",
       "      <th>58178</th>\n",
       "      <td>0.0</td>\n",
       "      <td>0.0</td>\n",
       "      <td>0.0</td>\n",
       "      <td>0.0</td>\n",
       "      <td>0.0</td>\n",
       "      <td>0.0</td>\n",
       "      <td>0.0</td>\n",
       "      <td>1.0</td>\n",
       "      <td>0.0</td>\n",
       "      <td>0.0</td>\n",
       "      <td>0.0</td>\n",
       "      <td>0.0</td>\n",
       "      <td>0.0</td>\n",
       "      <td>0.0</td>\n",
       "      <td>0.0</td>\n",
       "      <td>0.0</td>\n",
       "      <td>0.0</td>\n",
       "      <td>0.0</td>\n",
       "      <td>0.0</td>\n",
       "      <td>0.0</td>\n",
       "      <td>0.0</td>\n",
       "      <td>1.0</td>\n",
       "      <td>0.0</td>\n",
       "      <td>0.0</td>\n",
       "      <td>0.0</td>\n",
       "      <td>0.0</td>\n",
       "      <td>0.0</td>\n",
       "      <td>0.0</td>\n",
       "      <td>1.0</td>\n",
       "      <td>0.0</td>\n",
       "      <td>0.0</td>\n",
       "      <td>0.0</td>\n",
       "      <td>0.0</td>\n",
       "      <td>0.0</td>\n",
       "      <td>1.0</td>\n",
       "      <td>0.0</td>\n",
       "      <td>1</td>\n",
       "      <td>0</td>\n",
       "      <td>0</td>\n",
       "      <td>0</td>\n",
       "      <td>0</td>\n",
       "      <td>0</td>\n",
       "      <td>0</td>\n",
       "      <td>0</td>\n",
       "      <td>1</td>\n",
       "      <td>0</td>\n",
       "      <td>0</td>\n",
       "      <td>-0.151765</td>\n",
       "      <td>0.454545</td>\n",
       "      <td>0.423077</td>\n",
       "      <td>0.000000</td>\n",
       "      <td>0.000000</td>\n",
       "      <td>-0.967242</td>\n",
       "      <td>0.636364</td>\n",
       "      <td>0.576923</td>\n",
       "      <td>0.000000</td>\n",
       "      <td>0.833333</td>\n",
       "      <td>0.695652</td>\n",
       "      <td>0.008790</td>\n",
       "    </tr>\n",
       "    <tr>\n",
       "      <th>22377</th>\n",
       "      <td>0.0</td>\n",
       "      <td>0.0</td>\n",
       "      <td>0.0</td>\n",
       "      <td>0.0</td>\n",
       "      <td>0.0</td>\n",
       "      <td>0.0</td>\n",
       "      <td>0.0</td>\n",
       "      <td>1.0</td>\n",
       "      <td>0.0</td>\n",
       "      <td>0.0</td>\n",
       "      <td>0.0</td>\n",
       "      <td>0.0</td>\n",
       "      <td>0.0</td>\n",
       "      <td>0.0</td>\n",
       "      <td>0.0</td>\n",
       "      <td>0.0</td>\n",
       "      <td>0.0</td>\n",
       "      <td>0.0</td>\n",
       "      <td>0.0</td>\n",
       "      <td>0.0</td>\n",
       "      <td>0.0</td>\n",
       "      <td>1.0</td>\n",
       "      <td>0.0</td>\n",
       "      <td>0.0</td>\n",
       "      <td>0.0</td>\n",
       "      <td>0.0</td>\n",
       "      <td>0.0</td>\n",
       "      <td>0.0</td>\n",
       "      <td>1.0</td>\n",
       "      <td>0.0</td>\n",
       "      <td>0.0</td>\n",
       "      <td>0.0</td>\n",
       "      <td>0.0</td>\n",
       "      <td>0.0</td>\n",
       "      <td>1.0</td>\n",
       "      <td>0.0</td>\n",
       "      <td>1</td>\n",
       "      <td>0</td>\n",
       "      <td>1</td>\n",
       "      <td>0</td>\n",
       "      <td>1</td>\n",
       "      <td>0</td>\n",
       "      <td>0</td>\n",
       "      <td>0</td>\n",
       "      <td>0</td>\n",
       "      <td>0</td>\n",
       "      <td>0</td>\n",
       "      <td>0.144546</td>\n",
       "      <td>0.272727</td>\n",
       "      <td>0.250000</td>\n",
       "      <td>0.300000</td>\n",
       "      <td>1.000000</td>\n",
       "      <td>-0.517799</td>\n",
       "      <td>0.363636</td>\n",
       "      <td>0.346154</td>\n",
       "      <td>0.300000</td>\n",
       "      <td>0.166667</td>\n",
       "      <td>0.608696</td>\n",
       "      <td>0.004323</td>\n",
       "    </tr>\n",
       "    <tr>\n",
       "      <th>...</th>\n",
       "      <td>...</td>\n",
       "      <td>...</td>\n",
       "      <td>...</td>\n",
       "      <td>...</td>\n",
       "      <td>...</td>\n",
       "      <td>...</td>\n",
       "      <td>...</td>\n",
       "      <td>...</td>\n",
       "      <td>...</td>\n",
       "      <td>...</td>\n",
       "      <td>...</td>\n",
       "      <td>...</td>\n",
       "      <td>...</td>\n",
       "      <td>...</td>\n",
       "      <td>...</td>\n",
       "      <td>...</td>\n",
       "      <td>...</td>\n",
       "      <td>...</td>\n",
       "      <td>...</td>\n",
       "      <td>...</td>\n",
       "      <td>...</td>\n",
       "      <td>...</td>\n",
       "      <td>...</td>\n",
       "      <td>...</td>\n",
       "      <td>...</td>\n",
       "      <td>...</td>\n",
       "      <td>...</td>\n",
       "      <td>...</td>\n",
       "      <td>...</td>\n",
       "      <td>...</td>\n",
       "      <td>...</td>\n",
       "      <td>...</td>\n",
       "      <td>...</td>\n",
       "      <td>...</td>\n",
       "      <td>...</td>\n",
       "      <td>...</td>\n",
       "      <td>...</td>\n",
       "      <td>...</td>\n",
       "      <td>...</td>\n",
       "      <td>...</td>\n",
       "      <td>...</td>\n",
       "      <td>...</td>\n",
       "      <td>...</td>\n",
       "      <td>...</td>\n",
       "      <td>...</td>\n",
       "      <td>...</td>\n",
       "      <td>...</td>\n",
       "      <td>...</td>\n",
       "      <td>...</td>\n",
       "      <td>...</td>\n",
       "      <td>...</td>\n",
       "      <td>...</td>\n",
       "      <td>...</td>\n",
       "      <td>...</td>\n",
       "      <td>...</td>\n",
       "      <td>...</td>\n",
       "      <td>...</td>\n",
       "      <td>...</td>\n",
       "      <td>...</td>\n",
       "    </tr>\n",
       "    <tr>\n",
       "      <th>36419</th>\n",
       "      <td>1.0</td>\n",
       "      <td>0.0</td>\n",
       "      <td>0.0</td>\n",
       "      <td>1.0</td>\n",
       "      <td>0.0</td>\n",
       "      <td>0.0</td>\n",
       "      <td>0.0</td>\n",
       "      <td>0.0</td>\n",
       "      <td>0.0</td>\n",
       "      <td>0.0</td>\n",
       "      <td>0.0</td>\n",
       "      <td>0.0</td>\n",
       "      <td>0.0</td>\n",
       "      <td>0.0</td>\n",
       "      <td>0.0</td>\n",
       "      <td>0.0</td>\n",
       "      <td>1.0</td>\n",
       "      <td>0.0</td>\n",
       "      <td>0.0</td>\n",
       "      <td>0.0</td>\n",
       "      <td>0.0</td>\n",
       "      <td>1.0</td>\n",
       "      <td>0.0</td>\n",
       "      <td>0.0</td>\n",
       "      <td>0.0</td>\n",
       "      <td>0.0</td>\n",
       "      <td>0.0</td>\n",
       "      <td>0.0</td>\n",
       "      <td>1.0</td>\n",
       "      <td>0.0</td>\n",
       "      <td>0.0</td>\n",
       "      <td>0.0</td>\n",
       "      <td>0.0</td>\n",
       "      <td>0.0</td>\n",
       "      <td>1.0</td>\n",
       "      <td>0.0</td>\n",
       "      <td>0</td>\n",
       "      <td>1</td>\n",
       "      <td>1</td>\n",
       "      <td>0</td>\n",
       "      <td>0</td>\n",
       "      <td>0</td>\n",
       "      <td>0</td>\n",
       "      <td>0</td>\n",
       "      <td>0</td>\n",
       "      <td>0</td>\n",
       "      <td>0</td>\n",
       "      <td>-0.151765</td>\n",
       "      <td>0.454545</td>\n",
       "      <td>0.442308</td>\n",
       "      <td>0.400000</td>\n",
       "      <td>0.833333</td>\n",
       "      <td>-0.967242</td>\n",
       "      <td>0.545455</td>\n",
       "      <td>0.519231</td>\n",
       "      <td>0.333333</td>\n",
       "      <td>0.833333</td>\n",
       "      <td>0.478261</td>\n",
       "      <td>0.004035</td>\n",
       "    </tr>\n",
       "    <tr>\n",
       "      <th>34726</th>\n",
       "      <td>0.0</td>\n",
       "      <td>0.0</td>\n",
       "      <td>0.0</td>\n",
       "      <td>0.0</td>\n",
       "      <td>0.0</td>\n",
       "      <td>0.0</td>\n",
       "      <td>0.0</td>\n",
       "      <td>1.0</td>\n",
       "      <td>0.0</td>\n",
       "      <td>0.0</td>\n",
       "      <td>0.0</td>\n",
       "      <td>0.0</td>\n",
       "      <td>0.0</td>\n",
       "      <td>0.0</td>\n",
       "      <td>0.0</td>\n",
       "      <td>0.0</td>\n",
       "      <td>1.0</td>\n",
       "      <td>0.0</td>\n",
       "      <td>0.0</td>\n",
       "      <td>0.0</td>\n",
       "      <td>0.0</td>\n",
       "      <td>1.0</td>\n",
       "      <td>0.0</td>\n",
       "      <td>0.0</td>\n",
       "      <td>0.0</td>\n",
       "      <td>0.0</td>\n",
       "      <td>0.0</td>\n",
       "      <td>0.0</td>\n",
       "      <td>1.0</td>\n",
       "      <td>0.0</td>\n",
       "      <td>0.0</td>\n",
       "      <td>0.0</td>\n",
       "      <td>0.0</td>\n",
       "      <td>0.0</td>\n",
       "      <td>1.0</td>\n",
       "      <td>0.0</td>\n",
       "      <td>0</td>\n",
       "      <td>0</td>\n",
       "      <td>0</td>\n",
       "      <td>1</td>\n",
       "      <td>1</td>\n",
       "      <td>0</td>\n",
       "      <td>0</td>\n",
       "      <td>0</td>\n",
       "      <td>0</td>\n",
       "      <td>0</td>\n",
       "      <td>0</td>\n",
       "      <td>1.033479</td>\n",
       "      <td>0.272727</td>\n",
       "      <td>0.269231</td>\n",
       "      <td>0.266667</td>\n",
       "      <td>0.166667</td>\n",
       "      <td>0.830529</td>\n",
       "      <td>0.363636</td>\n",
       "      <td>0.365385</td>\n",
       "      <td>0.500000</td>\n",
       "      <td>0.500000</td>\n",
       "      <td>0.695652</td>\n",
       "      <td>0.005331</td>\n",
       "    </tr>\n",
       "  </tbody>\n",
       "</table>\n",
       "<p>11739 rows × 59 columns</p>\n",
       "</div>"
      ],
      "text/plain": [
       "       Animal Type_Dog  Breed Bucket_Border Collie  Breed Bucket_Boxer  \\\n",
       "58178              0.0                         0.0                 0.0   \n",
       "22377              0.0                         0.0                 0.0   \n",
       "...                ...                         ...                 ...   \n",
       "36419              1.0                         0.0                 0.0   \n",
       "34726              0.0                         0.0                 0.0   \n",
       "\n",
       "       Breed Bucket_Chihuahua  Breed Bucket_Dachshund  \\\n",
       "58178                     0.0                     0.0   \n",
       "22377                     0.0                     0.0   \n",
       "...                       ...                     ...   \n",
       "36419                     1.0                     0.0   \n",
       "34726                     0.0                     0.0   \n",
       "\n",
       "       Breed Bucket_Domestic Longhair  Breed Bucket_Domestic Medium Hair  \\\n",
       "58178                             0.0                                0.0   \n",
       "22377                             0.0                                0.0   \n",
       "...                               ...                                ...   \n",
       "36419                             0.0                                0.0   \n",
       "34726                             0.0                                0.0   \n",
       "\n",
       "       Breed Bucket_Domestic Shorthair  Breed Bucket_Husky  \\\n",
       "58178                              1.0                 0.0   \n",
       "22377                              1.0                 0.0   \n",
       "...                                ...                 ...   \n",
       "36419                              0.0                 0.0   \n",
       "34726                              1.0                 0.0   \n",
       "\n",
       "       Breed Bucket_Pit Bull  Breed Bucket_Poodle  Breed Bucket_Retriever  \\\n",
       "58178                    0.0                  0.0                     0.0   \n",
       "22377                    0.0                  0.0                     0.0   \n",
       "...                      ...                  ...                     ...   \n",
       "36419                    0.0                  0.0                     0.0   \n",
       "34726                    0.0                  0.0                     0.0   \n",
       "\n",
       "       Breed Bucket_Shepherd  Breed Bucket_Siamese Mix  Breed Bucket_Terrier  \\\n",
       "58178                    0.0                       0.0                   0.0   \n",
       "22377                    0.0                       0.0                   0.0   \n",
       "...                      ...                       ...                   ...   \n",
       "36419                    0.0                       0.0                   0.0   \n",
       "34726                    0.0                       0.0                   0.0   \n",
       "\n",
       "       Breed Bucket_nan  Gender_Female  Intake Type_Abandoned  \\\n",
       "58178               0.0            0.0                    0.0   \n",
       "22377               0.0            0.0                    0.0   \n",
       "...                 ...            ...                    ...   \n",
       "36419               0.0            1.0                    0.0   \n",
       "34726               0.0            1.0                    0.0   \n",
       "\n",
       "       Intake Type_Euthanasia Request  Intake Type_Owner Surrender  \\\n",
       "58178                             0.0                          0.0   \n",
       "22377                             0.0                          0.0   \n",
       "...                               ...                          ...   \n",
       "36419                             0.0                          0.0   \n",
       "34726                             0.0                          0.0   \n",
       "\n",
       "       Intake Type_Public Assist  Intake Type_Stray  Intake Condition_Aged  \\\n",
       "58178                        0.0                1.0                    0.0   \n",
       "22377                        0.0                1.0                    0.0   \n",
       "...                          ...                ...                    ...   \n",
       "36419                        0.0                1.0                    0.0   \n",
       "34726                        0.0                1.0                    0.0   \n",
       "\n",
       "       Intake Condition_Behavior  Intake Condition_Feral  \\\n",
       "58178                        0.0                     0.0   \n",
       "22377                        0.0                     0.0   \n",
       "...                          ...                     ...   \n",
       "36419                        0.0                     0.0   \n",
       "34726                        0.0                     0.0   \n",
       "\n",
       "       Intake Condition_Injured  Intake Condition_Medical  \\\n",
       "58178                       0.0                       0.0   \n",
       "22377                       0.0                       0.0   \n",
       "...                         ...                       ...   \n",
       "36419                       0.0                       0.0   \n",
       "34726                       0.0                       0.0   \n",
       "\n",
       "       Intake Condition_Neonatal  Intake Condition_Normal  \\\n",
       "58178                        0.0                      1.0   \n",
       "22377                        0.0                      1.0   \n",
       "...                          ...                      ...   \n",
       "36419                        0.0                      1.0   \n",
       "34726                        0.0                      1.0   \n",
       "\n",
       "       Intake Condition_Nursing  Intake Condition_Other  \\\n",
       "58178                       0.0                     0.0   \n",
       "22377                       0.0                     0.0   \n",
       "...                         ...                     ...   \n",
       "36419                       0.0                     0.0   \n",
       "34726                       0.0                     0.0   \n",
       "\n",
       "       Intake Condition_Pregnant  Intake Condition_Sick  \\\n",
       "58178                        0.0                    0.0   \n",
       "22377                        0.0                    0.0   \n",
       "...                          ...                    ...   \n",
       "36419                        0.0                    0.0   \n",
       "34726                        0.0                    0.0   \n",
       "\n",
       "       Castration Intake_True  Castration Outcome_True  Name_Unknown  Tabby  \\\n",
       "58178                     0.0                      1.0           0.0      1   \n",
       "22377                     0.0                      1.0           0.0      1   \n",
       "...                       ...                      ...           ...    ...   \n",
       "36419                     0.0                      1.0           0.0      0   \n",
       "34726                     0.0                      1.0           0.0      0   \n",
       "\n",
       "       Tricolor  Brown  Black  White  Orange  Tortie  Calico  Blue  Tan  \\\n",
       "58178         0      0      0      0       0       0       0     1    0   \n",
       "22377         0      1      0      1       0       0       0     0    0   \n",
       "...         ...    ...    ...    ...     ...     ...     ...   ...  ...   \n",
       "36419         1      1      0      0       0       0       0     0    0   \n",
       "34726         0      0      1      1       0       0       0     0    0   \n",
       "\n",
       "       Brindle  Date of Birth Year  Date of Birth Month  Date of Birth Week  \\\n",
       "58178        0           -0.151765             0.454545            0.423077   \n",
       "22377        0            0.144546             0.272727            0.250000   \n",
       "...        ...                 ...                  ...                 ...   \n",
       "36419        0           -0.151765             0.454545            0.442308   \n",
       "34726        0            1.033479             0.272727            0.269231   \n",
       "\n",
       "       Date of Birth Day  Date of Birth Weekday  Intake DateTime Year  \\\n",
       "58178           0.000000               0.000000             -0.967242   \n",
       "22377           0.300000               1.000000             -0.517799   \n",
       "...                  ...                    ...                   ...   \n",
       "36419           0.400000               0.833333             -0.967242   \n",
       "34726           0.266667               0.166667              0.830529   \n",
       "\n",
       "       Intake DateTime Month  Intake DateTime Week  Intake DateTime Day  \\\n",
       "58178               0.636364              0.576923             0.000000   \n",
       "22377               0.363636              0.346154             0.300000   \n",
       "...                      ...                   ...                  ...   \n",
       "36419               0.545455              0.519231             0.333333   \n",
       "34726               0.363636              0.365385             0.500000   \n",
       "\n",
       "       Intake DateTime Weekday  Intake DateTime Hour  IntakeAge  \n",
       "58178                 0.833333              0.695652   0.008790  \n",
       "22377                 0.166667              0.608696   0.004323  \n",
       "...                        ...                   ...        ...  \n",
       "36419                 0.833333              0.478261   0.004035  \n",
       "34726                 0.500000              0.695652   0.005331  \n",
       "\n",
       "[11739 rows x 59 columns]"
      ]
     },
     "metadata": {},
     "output_type": "display_data"
    }
   ],
   "source": [
    "min_max_scaler = MinMaxScaler().fit(X_train[min_max_features])\n",
    "standard_scaler = StandardScaler().fit(X_train[standardisation_features])\n",
    "\n",
    "with pd.option_context('mode.chained_assignment', None): \n",
    "    X_train[min_max_features] = min_max_scaler.transform(X_train[min_max_features])\n",
    "    X_train[standardisation_features] = standard_scaler.transform(X_train[standardisation_features])\n",
    "    X_val[min_max_features] = min_max_scaler.transform(X_val[min_max_features])\n",
    "    X_val[standardisation_features] = standard_scaler.transform(X_val[standardisation_features])\n",
    "    \n",
    "with pd.option_context('display.max_rows', 5, 'display.max_columns', None): \n",
    "    display(X_train)    \n",
    "    display(X_val)"
   ]
  },
  {
   "cell_type": "markdown",
   "id": "4e0daf86",
   "metadata": {},
   "source": [
    "All values are now scaled to their respective ranges. The year feature has a larger than than the others which potentially could cause it to carry too much weight. We'll see if this is an issue as we progress further."
   ]
  },
  {
   "cell_type": "markdown",
   "id": "bd339484",
   "metadata": {},
   "source": [
    "# 8. Re-usable Functions <a class=\"anchor\" id=\"chapter8\"></a>\n",
    "Considering we're printing the accuracy so often we'll make a function to convert it from a decimal number to an actual percentage. We'll also make a function to print it out as well as a function to print it in combination with the evaluation matrix. Another benefit of these functions is that we won't have to store a bunch of objects in memory that we'll only be using once."
   ]
  },
  {
   "cell_type": "code",
   "execution_count": 24,
   "id": "056b0ff7",
   "metadata": {},
   "outputs": [],
   "source": [
    "# Define constant variables\n",
    "train_string = 'Accuracy on training set:'\n",
    "cv_score_string = 'Cross Validation Scores: \\n'\n",
    "cv_mean_string = 'Cross Validation Mean:'\n",
    "\n",
    "# Convert value to percentage and return it as string\n",
    "def get_accuracy(value):\n",
    "    return str(round(value * 100,2)) + '%'\n",
    "\n",
    "# Print the accuracy\n",
    "def print_accuracy(message, value):\n",
    "    accuracy = get_accuracy(value)\n",
    "    print(message, accuracy)\n",
    "    \n",
    "# Print the cross validation results\n",
    "def print_cv(cv_scores):\n",
    "    print(cv_score_string, str(cv_scores) + '\\n')\n",
    "    print_accuracy(cv_mean_string, cv_scores.mean())\n",
    "\n",
    "# Print the accuracy with classification report\n",
    "def print_class_report(y_true, y_pred):\n",
    "    accuracy = metrics.accuracy_score(y_true, y_pred)\n",
    "    print_accuracy('Accuracy:', accuracy)\n",
    "    print('\\n' + classification_report(y_true, y_pred))"
   ]
  },
  {
   "cell_type": "markdown",
   "id": "9d87c65c",
   "metadata": {},
   "source": [
    "# 9. Decision Tree <a class=\"anchor\" id=\"chapter9\"></a>\n",
    "We're going to begin by making another decision tree. Rather than trying to find its hyperparameters using GridSearch we're simply going to make a guess. We'll look for the optimal parameters later. After creating and fitting the model we'll score it on the training data."
   ]
  },
  {
   "cell_type": "code",
   "execution_count": 25,
   "id": "04ddc662",
   "metadata": {},
   "outputs": [
    {
     "name": "stdout",
     "output_type": "stream",
     "text": [
      "Accuracy on training set: 79.87%\n"
     ]
    }
   ],
   "source": [
    "# Create the Decision Tree and fit the model to our data\n",
    "dt_model = DecisionTreeClassifier(max_depth = 30, min_samples_leaf=3, random_state=42)\n",
    "dt_clf = dt_model.fit(X_train, y_train) \n",
    "\n",
    "# Print the accuracy on the training set\n",
    "dt_accuracy = dt_clf.score(X_train, y_train)\n",
    "print_accuracy(train_string, dt_accuracy)"
   ]
  },
  {
   "cell_type": "markdown",
   "id": "165a6705",
   "metadata": {},
   "source": [
    "### 9.1 Cross Validation\n",
    "While the model performed decent on its training data we're much more interested in how it performs on testing data. For this we're going to use K-Fold Cross Validation. But what number do we pick for K? In practise people tend to use 5-, 10- or 20-fold CVs. The higher number of K the less biased our results will be, but the costlier our evaluation will be. Especially in the case of GridSearch the amount of time would increase very quickly as we'd be running many evaluations. "
   ]
  },
  {
   "cell_type": "code",
   "execution_count": 26,
   "id": "09777981",
   "metadata": {},
   "outputs": [
    {
     "name": "stdout",
     "output_type": "stream",
     "text": [
      "Cross Validation Scores: \n",
      " [0.41482112 0.42291312 0.41853035 0.41192758 0.41299255 0.42321619\n",
      " 0.41810437 0.42513312 0.42428115 0.43535676]\n",
      "\n",
      "Cross Validation Mean: 42.07%\n"
     ]
    }
   ],
   "source": [
    "# Retrain the decision tree model using cross validation as testing method\n",
    "cv_scores = cross_val_score(dt_model, X_train, y_train, cv=10, scoring='accuracy') \n",
    "\n",
    "# Print the scores and average score\n",
    "print_cv(cv_scores)"
   ]
  },
  {
   "cell_type": "markdown",
   "id": "b4193a5b",
   "metadata": {},
   "source": [
    "### 9.2 Evaluation on Validation Set\n",
    "While the cross validation on the test set performs somewhat okay the real test is the validation set. This is unseen data and gives the best measure of how well the model actually performs. Here we can see that the model performs quite similarly to the cross validation mean."
   ]
  },
  {
   "cell_type": "code",
   "execution_count": 27,
   "id": "70e39b60",
   "metadata": {},
   "outputs": [
    {
     "name": "stdout",
     "output_type": "stream",
     "text": [
      "Accuracy: 42.57%\n",
      "\n",
      "              precision    recall  f1-score   support\n",
      "\n",
      "           0       0.48      0.55      0.51      2731\n",
      "           1       0.43      0.45      0.44      1926\n",
      "           2       0.36      0.35      0.36      2497\n",
      "           3       0.46      0.42      0.44      1805\n",
      "           4       0.40      0.36      0.38      2780\n",
      "\n",
      "    accuracy                           0.43     11739\n",
      "   macro avg       0.43      0.43      0.42     11739\n",
      "weighted avg       0.42      0.43      0.42     11739\n",
      "\n"
     ]
    }
   ],
   "source": [
    "# Predict the values of our validation set\n",
    "predict = dt_clf.predict(X_val)\n",
    "\n",
    "# Print the accuracy of our prediction\n",
    "print_class_report(y_val, predict)"
   ]
  },
  {
   "cell_type": "markdown",
   "id": "4d677a1f",
   "metadata": {},
   "source": [
    "What's interesting to see is that the first class, while regrouped in comparison to chapter 3, still performs the best. This makes sense as young animals are adopted quickly, making it easier to predict the younger animals are."
   ]
  },
  {
   "cell_type": "markdown",
   "id": "ead62881",
   "metadata": {},
   "source": [
    "### 9.3 Grid Search\n",
    "We can use Grid Search to tune the hyperparameters of our decision tree. There's a couple ways to go about this. We can give it a large number of hyperparameters which will be multiplied into the number of iterations. The more hyperparameters we give it to try, the longer it will take to compute which model is the best. I gave it a large number of hyperparameters to try overnight. A better way of doing this would be selecting multitudes of 5 or 10, then doing another set close to the values found.\n",
    "\n",
    "I later selected a smaller iteration of 2 x 5 x 4 x 5 = 200 combinations. We're using 5 crossfolds meaning each combination is created and tested 5 times on different portions of the model, resulting in a total of 1000 fits. "
   ]
  },
  {
   "cell_type": "code",
   "execution_count": 28,
   "id": "a0e685b9",
   "metadata": {},
   "outputs": [],
   "source": [
    "# Hyperparameters that we want to tune first iteration\n",
    "# criterion = ['gini', 'entropy']\n",
    "# max_depth = np.arange(1,31)\n",
    "# min_samples_split = np.arange(2,11)\n",
    "# min_samples_leaf = np.arange(1,10)\n",
    "\n",
    "# Hyperparameters that we want to tune smaller sample (same results)\n",
    "criterion = ['gini', 'entropy']\n",
    "max_depth = np.arange(8,13)\n",
    "min_samples_split = np.arange(2,6)\n",
    "min_samples_leaf = np.arange(1,6)\n",
    "\n",
    "# Create Dictionary of Hyperparameters\n",
    "param_grid = [\n",
    "    {\n",
    "        'criterion': criterion, \n",
    "         'max_depth': max_depth,\n",
    "         'min_samples_split': min_samples_split, \n",
    "         'min_samples_leaf': min_samples_leaf, \n",
    "    }\n",
    "]\n",
    "\n",
    "dt_grid_search = GridSearchCV(DecisionTreeClassifier(random_state=42), param_grid, cv=5, return_train_score=True, verbose=0, n_jobs=-1)"
   ]
  },
  {
   "cell_type": "markdown",
   "id": "8479a54e",
   "metadata": {},
   "source": [
    "We can now fit the training data to our Grid Search. This will train our model and evaluate it using cross validation. We can look up the best parameters that are found, the accuracy it found on the best set and a number of other features."
   ]
  },
  {
   "cell_type": "code",
   "execution_count": 29,
   "id": "f7a8f6d1",
   "metadata": {
    "scrolled": true
   },
   "outputs": [
    {
     "data": {
      "text/plain": [
       "GridSearchCV(cv=5, estimator=DecisionTreeClassifier(random_state=42), n_jobs=-1,\n",
       "             param_grid=[{'criterion': ['gini', 'entropy'],\n",
       "                          'max_depth': array([ 8,  9, 10, 11, 12]),\n",
       "                          'min_samples_leaf': array([1, 2, 3, 4, 5]),\n",
       "                          'min_samples_split': array([2, 3, 4, 5])}],\n",
       "             return_train_score=True)"
      ]
     },
     "execution_count": 29,
     "metadata": {},
     "output_type": "execute_result"
    }
   ],
   "source": [
    "dt_grid_search.fit(X_train, y_train)"
   ]
  },
  {
   "cell_type": "markdown",
   "id": "c4b84d4b",
   "metadata": {},
   "source": [
    "### 9.3.1 Reading GridSearch Results"
   ]
  },
  {
   "cell_type": "markdown",
   "id": "f59d18c1",
   "metadata": {},
   "source": [
    "After fitting the data the results are printed at the very bottom. We can also find the best parameters as done below."
   ]
  },
  {
   "cell_type": "code",
   "execution_count": 30,
   "id": "eac3e24d",
   "metadata": {},
   "outputs": [
    {
     "name": "stdout",
     "output_type": "stream",
     "text": [
      "{'criterion': 'gini', 'max_depth': 9, 'min_samples_leaf': 1, 'min_samples_split': 4}\n"
     ]
    }
   ],
   "source": [
    "print(dt_grid_search.best_params_)"
   ]
  },
  {
   "cell_type": "markdown",
   "id": "3cf7e82e",
   "metadata": {},
   "source": [
    "We can use these in the future to (re)build our model or tune it further, should we want to do so. While having the optimal parameters is great, it doesn't mean much until we know how much better the model is. Let's see how well it performs compared to the previous one."
   ]
  },
  {
   "cell_type": "code",
   "execution_count": 31,
   "id": "b11807ac",
   "metadata": {
    "scrolled": true
   },
   "outputs": [
    {
     "name": "stdout",
     "output_type": "stream",
     "text": [
      "Accuracy on training set: 47.67%\n",
      "\n",
      "Cross Validation Scores: \n",
      " [0.4471891  0.44548552 0.45111821 0.44898829 0.45452609 0.45601704\n",
      " 0.44813632 0.44046858 0.45835996 0.45197018]\n",
      "\n",
      "Cross Validation Mean: 45.02%\n"
     ]
    }
   ],
   "source": [
    "# Print the accuracy the training set and cross validation results\n",
    "score = dt_grid_search.score(X_train, y_train)\n",
    "print_accuracy(train_string, score)\n",
    "print()\n",
    "\n",
    "# Retrain the decision tree model using cross validation as testing method and print the result\n",
    "dt_grid_search_clf = DecisionTreeClassifier(random_state=42, max_depth=9, min_samples_split=4)\n",
    "cv_scores = cross_val_score(dt_grid_search_clf, X_train, y_train, cv=10, scoring='accuracy') \n",
    "print_cv(cv_scores)"
   ]
  },
  {
   "cell_type": "markdown",
   "id": "19be3122",
   "metadata": {},
   "source": [
    "While it performs a lot worse on the training set the accuracy on the testing set is a lot better. This is because the model is now less overfitted than it was before. We can also see how well the model performs on the validation set. This is more of a 'real' test as it uses completely unseen data."
   ]
  },
  {
   "cell_type": "code",
   "execution_count": 32,
   "id": "ee677df7",
   "metadata": {},
   "outputs": [
    {
     "name": "stdout",
     "output_type": "stream",
     "text": [
      "Accuracy: 44.92%\n",
      "\n",
      "              precision    recall  f1-score   support\n",
      "\n",
      "           0       0.50      0.62      0.55      2731\n",
      "           1       0.57      0.38      0.45      1926\n",
      "           2       0.36      0.32      0.34      2497\n",
      "           3       0.44      0.38      0.41      1805\n",
      "           4       0.41      0.50      0.45      2780\n",
      "\n",
      "    accuracy                           0.45     11739\n",
      "   macro avg       0.46      0.44      0.44     11739\n",
      "weighted avg       0.45      0.45      0.44     11739\n",
      "\n"
     ]
    }
   ],
   "source": [
    "print_class_report(y_val, dt_grid_search.predict(X_val))"
   ]
  },
  {
   "cell_type": "markdown",
   "id": "fb0c5fae",
   "metadata": {},
   "source": [
    "The accuracy has improved significantly by 3%. While group 0 still does the best something interesting has happened to the precision and recall. In the first group the recall is quite high meaning the amount of false negatives was relatively low. Group 1 in comparison had relatively more false negatives, but the percentage of false positives was the lowest of all groups."
   ]
  },
  {
   "cell_type": "markdown",
   "id": "bfda7e01",
   "metadata": {},
   "source": [
    "### 9.4 Evaluating Featurs\n",
    "A huge benefit of using the Decision Tree model is that we can evaluate the importance of the features. Based on how often features were used to classify results and on how much weight they carried the features are given a score. We can pull the scores from the best result we found during GridSearch and print the values by combining the values with the column names."
   ]
  },
  {
   "cell_type": "code",
   "execution_count": 33,
   "id": "118b2f69",
   "metadata": {},
   "outputs": [
    {
     "data": {
      "text/plain": [
       "IntakeAge                            0.479822\n",
       "Name_Unknown                         0.112125\n",
       "Animal Type_Dog                      0.073483\n",
       "Intake Type_Owner Surrender          0.056301\n",
       "Intake DateTime Week                 0.033233\n",
       "Breed Bucket_Pit Bull                0.027683\n",
       "Intake Condition_Normal              0.027400\n",
       "Date of Birth Year                   0.023308\n",
       "Intake DateTime Year                 0.023048\n",
       "Intake DateTime Day                  0.016118\n",
       "Intake DateTime Hour                 0.014732\n",
       "Date of Birth Day                    0.013656\n",
       "Breed Bucket_Domestic Shorthair      0.012281\n",
       "Date of Birth Week                   0.011155\n",
       "Castration Outcome_True              0.010189\n",
       "Intake DateTime Weekday              0.009233\n",
       "Date of Birth Weekday                0.008018\n",
       "Breed Bucket_Chihuahua               0.007620\n",
       "Castration Intake_True               0.007218\n",
       "Intake DateTime Month                0.003975\n",
       "Intake Type_Public Assist            0.003544\n",
       "Breed Bucket_Retriever               0.003153\n",
       "Black                                0.003142\n",
       "Date of Birth Month                  0.002238\n",
       "Gender_Female                        0.001952\n",
       "Breed Bucket_nan                     0.001861\n",
       "Intake Condition_Nursing             0.001588\n",
       "Breed Bucket_Terrier                 0.001586\n",
       "Blue                                 0.001502\n",
       "Intake Condition_Injured             0.000988\n",
       "Breed Bucket_Domestic Longhair       0.000882\n",
       "Breed Bucket_Siamese Mix             0.000852\n",
       "White                                0.000847\n",
       "Brown                                0.000754\n",
       "Breed Bucket_Domestic Medium Hair    0.000731\n",
       "Breed Bucket_Dachshund               0.000612\n",
       "Breed Bucket_Husky                   0.000462\n",
       "Intake Condition_Sick                0.000459\n",
       "Intake Type_Stray                    0.000445\n",
       "Tricolor                             0.000399\n",
       "Breed Bucket_Boxer                   0.000357\n",
       "Breed Bucket_Shepherd                0.000349\n",
       "Intake Type_Abandoned                0.000226\n",
       "Brindle                              0.000199\n",
       "Tortie                               0.000170\n",
       "Intake Condition_Aged                0.000105\n",
       "Intake Type_Euthanasia Request       0.000000\n",
       "Breed Bucket_Poodle                  0.000000\n",
       "Intake Condition_Neonatal            0.000000\n",
       "Calico                               0.000000\n",
       "Tan                                  0.000000\n",
       "Intake Condition_Medical             0.000000\n",
       "Orange                               0.000000\n",
       "Intake Condition_Behavior            0.000000\n",
       "Tabby                                0.000000\n",
       "Intake Condition_Feral               0.000000\n",
       "Intake Condition_Other               0.000000\n",
       "Breed Bucket_Border Collie           0.000000\n",
       "Intake Condition_Pregnant            0.000000\n",
       "dtype: float64"
      ]
     },
     "execution_count": 33,
     "metadata": {},
     "output_type": "execute_result"
    }
   ],
   "source": [
    "# Create Series from Grid Search results and match these with column names\n",
    "important_features = pd.Series(data=dt_grid_search.best_estimator_.feature_importances_,index=X_train.columns)\n",
    "\n",
    "# Print out the results in descending order of importance\n",
    "important_features.sort_values(ascending=False,inplace=True)\n",
    "important_features"
   ]
  },
  {
   "cell_type": "markdown",
   "id": "79602d03",
   "metadata": {},
   "source": [
    "### 9.5 Feature Selection\n",
    "As we can see above a lot of the features weren't very important. Many even had a weight of 0. We can use this information to drop the worst features. In fact, we'll find that we can achieve a similar accuracy while dropping the bottom 20 features. This has the upside of being computational less intensive and faster. We're also dropping 'Day' features because I don't imagine they have a realistic impact based on domain understanding. Should we want to we could compare the accuracy with and without them to see it's better to drop them."
   ]
  },
  {
   "cell_type": "code",
   "execution_count": 34,
   "id": "30099152",
   "metadata": {
    "scrolled": true
   },
   "outputs": [
    {
     "name": "stdout",
     "output_type": "stream",
     "text": [
      "Accuracy on training set: 47.28%\n",
      "Cross Validation Scores: \n",
      " [0.44974446 0.44591141 0.45324814 0.44430245 0.44877529 0.45644302\n",
      " 0.44430245 0.43812567 0.45580405 0.45005325]\n",
      "\n",
      "Cross Validation Mean: 44.87%\n"
     ]
    }
   ],
   "source": [
    "# Get the 30 worst features and add the day features to them\n",
    "bad_features = important_features.tail(30).index\n",
    "day_features = ['Intake DateTime Day', 'Intake DateTime Weekday', 'Date of Birth Day', 'Date of Birth Weekday']\n",
    "bad_features = bad_features.values.tolist() + day_features\n",
    "\n",
    "# Create a new dataframe without these features\n",
    "X_train_sub = X_train.drop(bad_features, axis=1)\n",
    "\n",
    "# Retrain our model on the smaller dataframe\n",
    "dt_model_sub = dt_grid_search.best_estimator_\n",
    "dt_clf_sub = dt_model_sub.fit(X_train_sub, y_train) \n",
    "\n",
    "# Printing the accuracy of the training set\n",
    "score = dt_clf_sub.score(X_train_sub, y_train)\n",
    "print_accuracy(train_string, score)\n",
    "\n",
    "# Cross validate the model and print the scores and mean\n",
    "cv_scores = cross_val_score(dt_model_sub, X_train_sub, y_train, cv=10, scoring='accuracy')\n",
    "print_cv(cv_scores)"
   ]
  },
  {
   "cell_type": "markdown",
   "id": "d13d4085",
   "metadata": {},
   "source": [
    "We can also see how it performs on the validation set. While dropping approximately a third of the columns we've actually gained a tiny bit of accuracy. We can continue to drop more while only losing a little bit of accuracy as well if we would want to. In order to evaluate the validation set it is important we drop the same features."
   ]
  },
  {
   "cell_type": "code",
   "execution_count": 35,
   "id": "da4b1bc5",
   "metadata": {},
   "outputs": [
    {
     "name": "stdout",
     "output_type": "stream",
     "text": [
      "Accuracy: 45.16%\n",
      "\n",
      "              precision    recall  f1-score   support\n",
      "\n",
      "           0       0.51      0.64      0.57      2731\n",
      "           1       0.57      0.39      0.47      1926\n",
      "           2       0.36      0.33      0.35      2497\n",
      "           3       0.45      0.37      0.40      1805\n",
      "           4       0.41      0.47      0.44      2780\n",
      "\n",
      "    accuracy                           0.45     11739\n",
      "   macro avg       0.46      0.44      0.44     11739\n",
      "weighted avg       0.45      0.45      0.45     11739\n",
      "\n"
     ]
    }
   ],
   "source": [
    "# Use the new model to predict the values from the validation set\n",
    "predict = dt_clf_sub.predict(X_val.drop(bad_features, axis=1))\n",
    "\n",
    "# Print out the results of our prediction\n",
    "print_class_report(y_val, predict)"
   ]
  },
  {
   "cell_type": "markdown",
   "id": "356e4fa4",
   "metadata": {},
   "source": [
    "# 10. Random Forest <a class=\"anchor\" id=\"chapter10\"></a>\n",
    "As mentioned in the proposal we want to try a number of models to compare their performance. One model might be better at making this prediction than another. We can theorise that SVMs will do really well, but won't know for sure until we've compared them to our other options.\n",
    "\n",
    "A Random Forest is a collection of Decision Trees. While a Decision Tree is built on the entire dataset Random Forest randomly selects rows and features to build multiple Decision Trees. A large number of trees \"votes\" and the outcome that receives the most \"votes\" is then predicted. Considering we just tried to use a Decision Tree it seems only logical to follow it up with a Random Forest model. It's not necessarily the most common node that is chosen but rather the most common class.\n",
    "\n",
    "<img src='https://cdn.analyticsvidhya.com/wp-content/uploads/2020/02/rfc_vs_dt1.png' width=500px heigth=500px align=\"left\">"
   ]
  },
  {
   "cell_type": "code",
   "execution_count": 36,
   "id": "56c71bd9",
   "metadata": {},
   "outputs": [
    {
     "name": "stdout",
     "output_type": "stream",
     "text": [
      "Accuracy on training set: 50.4%\n"
     ]
    }
   ],
   "source": [
    "# Create a Random Forest model and fit it to our training set\n",
    "rf_model = RandomForestClassifier(max_depth=10, random_state=42)\n",
    "rf_clf = rf_model.fit(X_train, y_train)\n",
    "\n",
    "# Print the accuracy on the training set\n",
    "rf_accuracy = rf_clf.score(X_train, y_train)\n",
    "print_accuracy(train_string, rf_accuracy)"
   ]
  },
  {
   "cell_type": "markdown",
   "id": "85324da7",
   "metadata": {},
   "source": [
    "### 10.1 Cross Validation\n",
    "While the model didn't do too well on the training, we mostly care on its performance on the testing data. It starts out with a cross validation accuracy of 45% which isn't too bad for a model which hasn't had its hyperparamaters tuned. We're sticking to 5 crossfolds here because the Random Forest model takes a little longer to train and validate than the Decision Tree."
   ]
  },
  {
   "cell_type": "code",
   "execution_count": 37,
   "id": "6ba0f7b7",
   "metadata": {},
   "outputs": [
    {
     "name": "stdout",
     "output_type": "stream",
     "text": [
      "Cross Validation Scores: \n",
      " [0.4516026  0.45756575 0.45090522 0.44994675 0.45463259]\n",
      "\n",
      "Cross Validation Mean: 45.29%\n"
     ]
    }
   ],
   "source": [
    "# Cross validate our random forest model\n",
    "cv_scores = cross_val_score(rf_model, X_train, y_train, cv=5, scoring='accuracy')\n",
    "\n",
    "# Print out the results from the cross validation \n",
    "print_cv(cv_scores)"
   ]
  },
  {
   "cell_type": "markdown",
   "id": "fec45bb5",
   "metadata": {},
   "source": [
    "### 10.2 Evaluation on Validation Set\n",
    "Once again the validation set is the real test as it uses fully unseen data. We don't expect too good of a performance yet without the hyperparameters being tuned. The accuracy of 45% is therefor really good to start out with."
   ]
  },
  {
   "cell_type": "code",
   "execution_count": 38,
   "id": "0c2da721",
   "metadata": {
    "scrolled": true
   },
   "outputs": [
    {
     "name": "stdout",
     "output_type": "stream",
     "text": [
      "Accuracy: 45.22%\n",
      "\n",
      "              precision    recall  f1-score   support\n",
      "\n",
      "           0       0.50      0.63      0.56      2731\n",
      "           1       0.55      0.43      0.48      1926\n",
      "           2       0.35      0.35      0.35      2497\n",
      "           3       0.57      0.24      0.34      1805\n",
      "           4       0.41      0.52      0.46      2780\n",
      "\n",
      "    accuracy                           0.45     11739\n",
      "   macro avg       0.48      0.43      0.44     11739\n",
      "weighted avg       0.47      0.45      0.44     11739\n",
      "\n"
     ]
    }
   ],
   "source": [
    "# Use the new model to predict the values from the validation set\n",
    "predict = rf_clf.predict(X_val)\n",
    "\n",
    "# Print out the results of our prediction\n",
    "print_class_report(y_val, predict)"
   ]
  },
  {
   "cell_type": "markdown",
   "id": "2a957f21",
   "metadata": {},
   "source": [
    "What's particularly interesting to me here is the high precision but low recall in group 3. This group has otherwise been very stable. The results in group 4 have both increased quite a bit as well."
   ]
  },
  {
   "cell_type": "markdown",
   "id": "f0cc318e",
   "metadata": {},
   "source": [
    "### 10.3 Randomised Search\n",
    "Another way of tuning the hyperparameters is to use Randomised Search as opposed to GridSearch. Randomised search will pick a given number of random combinations of the hyperparameters we give it to try. Based on the best found combinations we can then do a smaller GridSearch to find a close to ideal combination. Because we're not trying as many combinations this saves a lot of computational time.\n",
    "\n",
    "\n",
    "<img src='https://www.researchgate.net/profile/Karl-Ezra-Pilario/publication/341691661/figure/fig2/AS:896464364507139@1590745168758/Comparison-between-a-grid-search-and-b-random-search-for-hyper-parameter-tuning-The.png' width=500px heigth=500px align=\"left\">\n"
   ]
  },
  {
   "cell_type": "markdown",
   "id": "9e8b1fd5",
   "metadata": {},
   "source": [
    "Based on the data in this [article](https://arxiv.org/abs/1705.05654) the number of trees should not be tuned. While the accuracy should increase with a higher number of trees the model won't get overfitted. During our tuning we'll keep it at its default value of 100. Setting the number higher increase computational time very rapidly and makes the Random Search take too long. We can set it to a higher value later and see how this affects our accuracy."
   ]
  },
  {
   "cell_type": "code",
   "execution_count": 39,
   "id": "00cabcde",
   "metadata": {},
   "outputs": [],
   "source": [
    "# List Hyperparameters that we want to tune\n",
    "max_depth = list(range(10,110,10))\n",
    "max_features = ['auto', 'sqrt']\n",
    "min_samples_split = [3, 6, 9, 12]\n",
    "min_samples_leaf = [1, 3, 6, 9]\n",
    "bootstrap = [True, False]\n",
    "\n",
    "# Create Dictionary of Hyperparameters\n",
    "rf_param_grid = [\n",
    "    {\n",
    "         'max_depth': max_depth,\n",
    "         'max_features': max_features, \n",
    "         'min_samples_split': min_samples_split, \n",
    "         'min_samples_leaf': min_samples_leaf, \n",
    "         'bootstrap': bootstrap\n",
    "    }\n",
    "]"
   ]
  },
  {
   "cell_type": "markdown",
   "id": "0b80a9fb",
   "metadata": {},
   "source": [
    "Random search is different from GridSearch in the sense that you need to set the amount iterations you want it to run. GridSearch simply tries every combination possible while Randomised Search tries a random number of possible combinations. We make use of randomised search because Random Forest models take a lot longer to train. Because of this we're also limiting our number of cross folds to 3. When we're doing our final evaluation we can reduce this number, but for our randomised search it will take up too much computational time."
   ]
  },
  {
   "cell_type": "code",
   "execution_count": 40,
   "id": "0c4d8fa2",
   "metadata": {},
   "outputs": [
    {
     "data": {
      "text/plain": [
       "RandomizedSearchCV(cv=3, estimator=RandomForestClassifier(random_state=42),\n",
       "                   n_iter=100, n_jobs=-1,\n",
       "                   param_distributions=[{'bootstrap': [True, False],\n",
       "                                         'max_depth': [10, 20, 30, 40, 50, 60,\n",
       "                                                       70, 80, 90, 100],\n",
       "                                         'max_features': ['auto', 'sqrt'],\n",
       "                                         'min_samples_leaf': [1, 3, 6, 9],\n",
       "                                         'min_samples_split': [3, 6, 9, 12]}],\n",
       "                   random_state=42, return_train_score=True)"
      ]
     },
     "execution_count": 40,
     "metadata": {},
     "output_type": "execute_result"
    }
   ],
   "source": [
    "random_search_rf = RandomizedSearchCV(RandomForestClassifier(random_state=42), \n",
    "                                   rf_param_grid, \n",
    "                                   cv=3, \n",
    "                                   return_train_score=True, \n",
    "                                   verbose=0,\n",
    "                                   n_jobs=-1,\n",
    "                                   random_state=42,\n",
    "                                   n_iter = 100)\n",
    "\n",
    "random_search_rf.fit(X_train, y_train)"
   ]
  },
  {
   "cell_type": "markdown",
   "id": "72ca6b11",
   "metadata": {},
   "source": [
    "Now there's a few downsides to this. Because of the large amount of features we're using it takes a really long time to get the best result. We're also not sure if the best result is actually the best result possible. Even if we now explore the parameters near the best result, we might not find the best result possible."
   ]
  },
  {
   "cell_type": "markdown",
   "id": "5ce3420d",
   "metadata": {},
   "source": [
    "### 10.3.1 Improving Random Search Results\n",
    "Using the random search results we can do a grid search to find the best nearby results. Again, this will take a good while due to the large number of parameters. We'll first take the best parameters and then try out other results that come close."
   ]
  },
  {
   "cell_type": "code",
   "execution_count": 41,
   "id": "a98a51d8",
   "metadata": {
    "scrolled": true
   },
   "outputs": [
    {
     "data": {
      "text/plain": [
       "{'min_samples_split': 6,\n",
       " 'min_samples_leaf': 1,\n",
       " 'max_features': 'auto',\n",
       " 'max_depth': 40,\n",
       " 'bootstrap': False}"
      ]
     },
     "execution_count": 41,
     "metadata": {},
     "output_type": "execute_result"
    }
   ],
   "source": [
    "random_search_rf.best_params_"
   ]
  },
  {
   "cell_type": "code",
   "execution_count": 42,
   "id": "ad6644f0",
   "metadata": {},
   "outputs": [],
   "source": [
    "# List Hyperparameters that we want to tune\n",
    "max_depth = [38,39,40,41,42]\n",
    "max_features = ['auto', 'sqrt']\n",
    "min_samples_split = [4,5,6,7,8]\n",
    "min_samples_leaf = [1, 2, 3]\n",
    "bootstrap = [True, False]\n",
    "\n",
    "# Create Dictionary of Hyperparameters\n",
    "param_grid = [\n",
    "    {\n",
    "         'max_depth': max_depth,\n",
    "         'max_features': max_features, \n",
    "         'min_samples_split': min_samples_split, \n",
    "         'min_samples_leaf': min_samples_leaf, \n",
    "         'bootstrap': bootstrap\n",
    "    }\n",
    "]\n",
    "grid_search_rf = GridSearchCV(RandomForestClassifier(random_state=42), \n",
    "                           param_grid, cv=3, return_train_score=True, verbose=0, n_jobs=-1)"
   ]
  },
  {
   "cell_type": "code",
   "execution_count": 43,
   "id": "a1fb34f6",
   "metadata": {},
   "outputs": [
    {
     "data": {
      "text/plain": [
       "GridSearchCV(cv=3, estimator=RandomForestClassifier(random_state=42), n_jobs=-1,\n",
       "             param_grid=[{'bootstrap': [True, False],\n",
       "                          'max_depth': [38, 39, 40, 41, 42],\n",
       "                          'max_features': ['auto', 'sqrt'],\n",
       "                          'min_samples_leaf': [1, 2, 3],\n",
       "                          'min_samples_split': [4, 5, 6, 7, 8]}],\n",
       "             return_train_score=True)"
      ]
     },
     "execution_count": 43,
     "metadata": {},
     "output_type": "execute_result"
    }
   ],
   "source": [
    "grid_search_rf.fit(X_train, y_train)"
   ]
  },
  {
   "cell_type": "markdown",
   "id": "deba3b47",
   "metadata": {},
   "source": [
    "### 10.3.2 Evaluation Random Forest\n",
    "When we evaluate the models the results are interesting. The results on the training data is very good, which makes sense due to the nature of the Random Forest Model. The results of the cross validation are still very good though. While our previous best score was around 45%, we now found one of 49% which is a significant improvement."
   ]
  },
  {
   "cell_type": "code",
   "execution_count": 44,
   "id": "c4601a01",
   "metadata": {},
   "outputs": [
    {
     "name": "stdout",
     "output_type": "stream",
     "text": [
      "Accuracy on training set: 98.83%\n",
      "\n",
      "Cross Validation Scores: \n",
      " [0.49515494 0.49355766 0.49808307 0.48977636 0.50457934]\n",
      "\n",
      "Cross Validation Mean: 49.62%\n"
     ]
    }
   ],
   "source": [
    "# Print the accuracy the training set and cross validation results\n",
    "score = random_search_rf.score(X_train, y_train)\n",
    "print_accuracy(train_string, score)\n",
    "print()\n",
    "\n",
    "# Retrain the decision tree model using cross validation as testing method and print the result\n",
    "rf_random_search_clf = RandomForestClassifier(max_depth=40, min_samples_split=6, bootstrap=False, random_state=42)\n",
    "cv_scores = cross_val_score(rf_random_search_clf, X_train, y_train, cv=5, scoring='accuracy') \n",
    "print_cv(cv_scores)"
   ]
  },
  {
   "cell_type": "code",
   "execution_count": 45,
   "id": "cf0fb69e",
   "metadata": {},
   "outputs": [
    {
     "name": "stdout",
     "output_type": "stream",
     "text": [
      "Accuracy on training set: 98.67%\n",
      "\n",
      "Cross Validation Scores: \n",
      " [0.49419657 0.49568736 0.49414271 0.49179979 0.50106496]\n",
      "\n",
      "Cross Validation Mean: 49.54%\n"
     ]
    }
   ],
   "source": [
    "score = grid_search_rf.score(X_train, y_train)\n",
    "print_accuracy(train_string, score)\n",
    "print()\n",
    "\n",
    "# Retrain the decision tree model using cross validation as testing method and print the result\n",
    "rf_grid_search_clf = RandomForestClassifier(max_depth=42, min_samples_split=7, bootstrap=False, random_state=42)\n",
    "cv_scores = cross_val_score(rf_grid_search_clf, X_train, y_train, cv=5, scoring='accuracy') \n",
    "print_cv(cv_scores)"
   ]
  },
  {
   "cell_type": "markdown",
   "id": "1fc4fad1",
   "metadata": {},
   "source": [
    "The grid search was not particularly helpful. The accuracy actually decreased slightly. The main factors here would be the number of trees used. This also reflects when we do our evaluation on the validation set. The GridSearch actually lowered the accuracy a tiny bit."
   ]
  },
  {
   "cell_type": "code",
   "execution_count": 46,
   "id": "cc81973e",
   "metadata": {},
   "outputs": [
    {
     "name": "stdout",
     "output_type": "stream",
     "text": [
      "Accuracy: 50.65%\n",
      "\n",
      "              precision    recall  f1-score   support\n",
      "\n",
      "           0       0.56      0.66      0.61      2731\n",
      "           1       0.61      0.47      0.53      1926\n",
      "           2       0.41      0.43      0.42      2497\n",
      "           3       0.55      0.49      0.52      1805\n",
      "           4       0.46      0.47      0.47      2780\n",
      "\n",
      "    accuracy                           0.51     11739\n",
      "   macro avg       0.52      0.50      0.51     11739\n",
      "weighted avg       0.51      0.51      0.51     11739\n",
      "\n"
     ]
    }
   ],
   "source": [
    "predict = random_search_rf.predict(X_val)\n",
    "print_class_report(y_val, predict)"
   ]
  },
  {
   "cell_type": "code",
   "execution_count": 47,
   "id": "50d7b4ae",
   "metadata": {},
   "outputs": [
    {
     "name": "stdout",
     "output_type": "stream",
     "text": [
      "Accuracy: 50.41%\n",
      "\n",
      "              precision    recall  f1-score   support\n",
      "\n",
      "           0       0.56      0.66      0.61      2731\n",
      "           1       0.60      0.47      0.53      1926\n",
      "           2       0.40      0.43      0.41      2497\n",
      "           3       0.54      0.47      0.50      1805\n",
      "           4       0.46      0.47      0.47      2780\n",
      "\n",
      "    accuracy                           0.50     11739\n",
      "   macro avg       0.51      0.50      0.50     11739\n",
      "weighted avg       0.51      0.50      0.50     11739\n",
      "\n"
     ]
    }
   ],
   "source": [
    "predict = grid_search_rf.predict(X_val)\n",
    "print_class_report(y_val, predict)"
   ]
  },
  {
   "cell_type": "markdown",
   "id": "6122fcb8",
   "metadata": {},
   "source": [
    "### 10.3.3 Increasing the Number of Trees\n",
    "One of the most important features in terms of accuracy will be the number of trees. We purposely chose a relatively low number (100) for our GridSearch in order to save time. Let's see what happens when we increase this number to 1000. I found that the min_samples_split and bootstrap were better to be the default value than the one found during the gridsearch."
   ]
  },
  {
   "cell_type": "code",
   "execution_count": 48,
   "id": "dbc0043d",
   "metadata": {},
   "outputs": [],
   "source": [
    "# List Hyperparameters that we want to use\n",
    "params = grid_search_rf.best_params_\n",
    "\n",
    "rf_model_large = RandomForestClassifier(\n",
    "    n_estimators=1000, \n",
    "    max_depth = params['max_depth'],\n",
    "    max_features = params['max_features'],\n",
    "    min_samples_leaf = params['min_samples_leaf'],\n",
    "    random_state=42)\n",
    "rf_clf_large = rf_model_large.fit(X_train, y_train)"
   ]
  },
  {
   "cell_type": "code",
   "execution_count": 49,
   "id": "83ed0f47",
   "metadata": {},
   "outputs": [
    {
     "name": "stdout",
     "output_type": "stream",
     "text": [
      "Accuracy on training set: 99.17%\n",
      "Accuracy: 51.0%\n",
      "\n",
      "              precision    recall  f1-score   support\n",
      "\n",
      "           0       0.56      0.67      0.61      2731\n",
      "           1       0.60      0.46      0.52      1926\n",
      "           2       0.41      0.43      0.42      2497\n",
      "           3       0.55      0.47      0.51      1805\n",
      "           4       0.47      0.48      0.48      2780\n",
      "\n",
      "    accuracy                           0.51     11739\n",
      "   macro avg       0.52      0.50      0.51     11739\n",
      "weighted avg       0.51      0.51      0.51     11739\n",
      "\n"
     ]
    }
   ],
   "source": [
    "score = rf_clf_large.score(X_train, y_train)\n",
    "print_accuracy(train_string, score)\n",
    "\n",
    "predict = rf_clf_large.predict(X_val)\n",
    "print_class_report(y_val, predict)"
   ]
  },
  {
   "cell_type": "code",
   "execution_count": 51,
   "id": "0ebefcd8",
   "metadata": {},
   "outputs": [
    {
     "name": "stdout",
     "output_type": "stream",
     "text": [
      "Cross Validation Scores: \n",
      " [0.49771057 0.49856245 0.49669862 0.49371672 0.50628328]\n",
      "\n",
      "Cross Validation Mean: 49.86%\n"
     ]
    }
   ],
   "source": [
    "cv_scores = cross_val_score(rf_clf_large, X_train, y_train, cv=5, scoring='accuracy') \n",
    "print_cv(cv_scores)"
   ]
  },
  {
   "cell_type": "markdown",
   "id": "43367cce",
   "metadata": {},
   "source": [
    "### 10.4 Dropping Features\n",
    "While we would like to train a new Random Forest model the training time is currently just way too high to do any good evaluation. The results we got aren't completely useless though. We can have a look at the feature importance, compare them with the feature importance we got from the Decision Tree and use the knowledge gathered from Domain Understanding. By combining this knowledge we reduce the features and exponentially increase the training speed."
   ]
  },
  {
   "cell_type": "code",
   "execution_count": 52,
   "id": "c839425a",
   "metadata": {},
   "outputs": [
    {
     "data": {
      "text/plain": [
       "IntakeAge                            0.165261\n",
       "Intake DateTime Day                  0.063626\n",
       "Date of Birth Day                    0.062785\n",
       "Intake DateTime Week                 0.062521\n",
       "Date of Birth Week                   0.059771\n",
       "Intake DateTime Hour                 0.053926\n",
       "Date of Birth Year                   0.050804\n",
       "Intake DateTime Year                 0.045123\n",
       "Date of Birth Weekday                0.044189\n",
       "Intake DateTime Weekday              0.044060\n",
       "Intake DateTime Month                0.040394\n",
       "Date of Birth Month                  0.039407\n",
       "Name_Unknown                         0.031214\n",
       "Animal Type_Dog                      0.019121\n",
       "White                                0.014469\n",
       "Gender_Female                        0.014461\n",
       "Black                                0.012800\n",
       "Brown                                0.011864\n",
       "Breed Bucket_Domestic Shorthair      0.011248\n",
       "Intake Type_Owner Surrender          0.010763\n",
       "Intake Condition_Normal              0.010426\n",
       "Breed Bucket_Pit Bull                0.010087\n",
       "Castration Intake_True               0.009825\n",
       "Intake Type_Stray                    0.009747\n",
       "Blue                                 0.007450\n",
       "Tan                                  0.007097\n",
       "Breed Bucket_nan                     0.006543\n",
       "Castration Outcome_True              0.006523\n",
       "Tabby                                0.006270\n",
       "Breed Bucket_Chihuahua               0.006142\n",
       "Breed Bucket_Retriever               0.005412\n",
       "Breed Bucket_Terrier                 0.004329\n",
       "Brindle                              0.004325\n",
       "Intake Condition_Nursing             0.004300\n",
       "Breed Bucket_Shepherd                0.003987\n",
       "Intake Condition_Injured             0.003953\n",
       "Tricolor                             0.003724\n",
       "Orange                               0.003571\n",
       "Breed Bucket_Domestic Medium Hair    0.003083\n",
       "Intake Type_Public Assist            0.002729\n",
       "Tortie                               0.002539\n",
       "Breed Bucket_Dachshund               0.002474\n",
       "Breed Bucket_Poodle                  0.002366\n",
       "Calico                               0.002324\n",
       "Intake Condition_Sick                0.002056\n",
       "Breed Bucket_Border Collie           0.001984\n",
       "Breed Bucket_Domestic Longhair       0.001934\n",
       "Breed Bucket_Husky                   0.001894\n",
       "Breed Bucket_Boxer                   0.001890\n",
       "Breed Bucket_Siamese Mix             0.001349\n",
       "Intake Type_Abandoned                0.000805\n",
       "Intake Condition_Other               0.000293\n",
       "Intake Condition_Aged                0.000236\n",
       "Intake Condition_Medical             0.000176\n",
       "Intake Condition_Feral               0.000108\n",
       "Intake Condition_Pregnant            0.000106\n",
       "Intake Condition_Neonatal            0.000052\n",
       "Intake Condition_Behavior            0.000043\n",
       "Intake Type_Euthanasia Request       0.000039\n",
       "dtype: float64"
      ]
     },
     "execution_count": 52,
     "metadata": {},
     "output_type": "execute_result"
    }
   ],
   "source": [
    "# Create Series from Random Search results and match these with column names\n",
    "rf_important_features = pd.Series(data=random_search_rf.best_estimator_.feature_importances_,index=X_train.columns)\n",
    "\n",
    "# Print out the results in descending order of importance\n",
    "rf_important_features.sort_values(ascending=False,inplace=True)\n",
    "rf_important_features"
   ]
  },
  {
   "cell_type": "markdown",
   "id": "dcc0aa24",
   "metadata": {},
   "source": [
    "These results aren't as clear as the ones we got from the Decision Tree. In fact a lot of most important features we found here were Date related. We're going to drop the same features we dropped for the Decision Tree. We'll then rebuild the model and re-evaluate the results to see if they've improved."
   ]
  },
  {
   "cell_type": "code",
   "execution_count": 53,
   "id": "27e0e26a",
   "metadata": {},
   "outputs": [
    {
     "name": "stdout",
     "output_type": "stream",
     "text": [
      "Accuracy on training set: 98.47%\n",
      "Cross Validation Scores: \n",
      " [0.47734969 0.47600792 0.47597444]\n",
      "\n",
      "Cross Validation Mean: 47.64%\n"
     ]
    }
   ],
   "source": [
    "# Fit the Best Grid Search Result To Subset\n",
    "rf_clf_sub = rf_model_large.fit(X_train_sub, y_train) \n",
    "\n",
    "# Print the accuracy on the training set\n",
    "score = rf_clf_sub.score(X_train_sub, y_train)\n",
    "print_accuracy(train_string, score)\n",
    "\n",
    "# Print the results of the cross validation\n",
    "cv_scores = cross_val_score(rf_model_large, X_train_sub, y_train, cv=3, scoring='accuracy')\n",
    "print_cv(cv_scores)"
   ]
  },
  {
   "cell_type": "markdown",
   "id": "50228a93",
   "metadata": {},
   "source": [
    "The accuracy is somewhat disappointing and has actually gone down quite a bit. This could be due to the fact that we dropped the bad features from the Decision Tree as opposed to the Random Forest, although many overlapped. Even so, a decrease of 3.5% while only using half the features isn't terribly bad. While we could likely improve this using another extensive search I'm going to choose to move on. We can take the knowledge from the Decision Tree and Random Search to do some feature selection. This will come in handy when we try out distant based algorithms as it will significantly reduce their training times."
   ]
  },
  {
   "cell_type": "markdown",
   "id": "892cf1f3",
   "metadata": {},
   "source": [
    "# 11. Feature Selection <a class=\"anchor\" id=\"chapter11\"></a>\n",
    "It seems strange to be doing feature selection after the creation of two models. While the Exploratory Data Analysis gave us a decent insight in which factors would be important, I wanted to gain more insight using feature importance. With this extra knowledge we're going to decrease our number of features.\n",
    "\n",
    "<img src='https://miro.medium.com/max/694/0*gz5XuPZfN0wAi66I' width=350px heigth=350px align=\"left\">"
   ]
  },
  {
   "cell_type": "markdown",
   "id": "cd38e329",
   "metadata": {},
   "source": [
    "### 11.1 Feature Conclusions\n",
    "\n",
    "Having a look at the feature importance we can gather some information. Most of this matches what we expected to see based on the Exploratory Data Analysis. We'll begin by listing the features that seemed to positively affect our prediction. \n",
    "\n",
    "- Age is the most important feature by far. \n",
    "- A name being unknown effects causes the adoption speed to be lower.\n",
    "- Dogs and cats are adopted at different rates. \n",
    "- Animals that were surrendered are adopted slower.\n",
    "- Pit bulls are generally adopted slower than other dogs.\n",
    "- Some intake condition play a decent role in how fast an animal was adopted.\n",
    "- While 'Date of Birth Year' references the adoption trend over the year, 'Intake DateTime Year' does so better. While using ARIMA would be better we're choosing to keep it simple for now.\n",
    "- Breeds are adopted at different speeds, but some breeds don't influence the outcome (much).\n",
    "- Castration Outcome causes a very small, almost negligible difference.\n",
    "- Intake DateTimes somehow seem relevant. This could just be coincidences being used as a fake 'link'. We did not go in depth into this feature in the EDA as it did not appear important, but this might be worth doing in a future iteration. \n",
    "\n",
    "There were also a number of features that showed a clear lack of importance. Our EDA often shows us the reason why. If nothing else these features should be dropped both to save computational time in future models and to make them more accurate.\n",
    "- A lot of Intake Conditions are not relevant due to the lack of data. Pregnant, Behavior, Feral, Medical, Other, Neonatal and Aged can be discarded for this reason. \n",
    "- Euthanasia Request as Intake Type did not seem to influence the outcome by much.\n",
    "- A lot of colors don't appear to influence the outcome. Although there was a fair amount of animals in every color this did not seem to influence the adoption speed much. It could also be that something else, such as the extraction of colors, should have been done differently."
   ]
  },
  {
   "cell_type": "markdown",
   "id": "d6db7f8b",
   "metadata": {},
   "source": [
    "### 11.2 Grouping Bad Features\n",
    "We're going to group bad features together. This will allow us to create a new dataframe that does or does not contain some of these groups very easily by running the code from here and below. We'll create a K Nearest Neighbour model to see the differences. Of course the ideal features could differ depending on the model, but for simplicity sake we'll test it on only one."
   ]
  },
  {
   "cell_type": "code",
   "execution_count": 54,
   "id": "df9b4092",
   "metadata": {},
   "outputs": [],
   "source": [
    "# List groups of bad features that can be removed from the dataframe\n",
    "bad_intakes = ['Intake Condition_Aged',  'Intake Condition_Neonatal', 'Intake Condition_Medical', \n",
    "'Intake Condition_Feral', 'Intake Condition_Other', 'Intake Condition_Behavior', 'Intake Condition_Pregnant',\n",
    "'Intake Type_Euthanasia Request']\n",
    "\n",
    "bad_breeds = ['Breed Bucket_Poodle', 'Breed Bucket_Border Collie',  'Breed Bucket_Boxer', 'Breed Bucket_Shepherd', \n",
    "              'Breed Bucket_Siamese Mix', 'Breed Bucket_Domestic Medium Hair', 'Breed Bucket_Dachshund', 'Breed Bucket_Husky']\n",
    "\n",
    "bad_colors = ['Calico', 'Tan', 'Orange', 'Tabby', 'Brindle', 'Tortie']\n",
    "    \n",
    "dates = ['Intake DateTime Year', 'Intake DateTime Month', 'Intake DateTime Week', \n",
    "         'Intake DateTime Day', 'Intake DateTime Weekday', 'Intake DateTime Hour',\n",
    "        'Date of Birth Year', 'Date of Birth Month', 'Date of Birth Day', 'Date of Birth Weekday', 'Date of Birth Week']\n",
    "\n",
    "small_dates = ['Intake DateTime Day', 'Intake DateTime Weekday', 'Intake DateTime Week', 'Intake DateTime Hour',\n",
    "       'Date of Birth Day', 'Date of Birth Weekday', 'Date of Birth Week']\n",
    "\n",
    "\n",
    "# Sum the groups together\n",
    "dropped_columns = bad_intakes + bad_colors + bad_breeds + dates\n",
    "\n",
    "# Create a new dataframe without said groups\n",
    "X_train_fs = X_train.drop(dropped_columns, axis=1)\n",
    "X_val_fs = X_val.drop(dropped_columns, axis=1)"
   ]
  },
  {
   "cell_type": "markdown",
   "id": "57157aba",
   "metadata": {},
   "source": [
    "# 12. K-Nearest Neighbors Classification <a class=\"anchor\" id=\"chapter12\"></a>\n",
    "\n",
    "*K-nearest neighbors (KNN) can be used for both regression and classification. It tries to predict the correct class for the test data by calculating the distance between the test data and all the training points. It then selects the K number of points which are closet to the test data.*  \n",
    "\n",
    "We'll be using K-Nearest Neighbour in classification format to see how a distance based algorithm does for our use case. My prediction and hope is that the results will be better than a Decision Tree, considering it's relatively complex."
   ]
  },
  {
   "cell_type": "code",
   "execution_count": 55,
   "id": "c78d7efd",
   "metadata": {},
   "outputs": [
    {
     "name": "stdout",
     "output_type": "stream",
     "text": [
      "Accuracy on training set: 41.73%\n",
      "Cross Validation Scores: \n",
      " [0.39013482 0.39511852 0.39591054]\n",
      "\n",
      "Cross Validation Mean: 39.37%\n"
     ]
    }
   ],
   "source": [
    "# Create the KNN model and fit it to our data\n",
    "knn_model = KNeighborsClassifier(n_neighbors=100)\n",
    "knn_clf = knn_model.fit(X_train_fs, y_train)\n",
    "\n",
    "# Print the accuracy on the training set\n",
    "score = knn_clf.score(X_train_fs, y_train)\n",
    "print_accuracy(train_string, score)\n",
    "\n",
    "# Cross Validate the model and print the results\n",
    "cv_scores = cross_val_score(knn_model, X_train_fs, y_train, cv=3, scoring='accuracy')\n",
    "print_cv(cv_scores)"
   ]
  },
  {
   "cell_type": "markdown",
   "id": "ea6afe06",
   "metadata": {},
   "source": [
    "Instead we quickly see the accuracy on the training is quite a bit worse. This could be due to the features we dropped, because of the KNN algorithm or because the hyperparameters haven't been tuned. I first tried a number of combinations of the dropped groups. The list below shows the results of my tests. Accuracy refers to the accuracy on the training model, while cv mean references the average from a 3 folded cross validation.\n",
    "\n",
    "    - Dropping None gives a 39.7% accuracy and 36.8% cv mean.\n",
    "    - Dropping Intakes gives a 39.7% accuracy and 36.8% cv mean.\n",
    "    - Dropping Intakes + Breeds gives a 39.4% accuracy and 36.7% cv mean.\n",
    "    - Dropping Intakes + Breeds + Color gives a 40.0% accuracy and 37.04% cv mean.\n",
    "    - Dropping Intakes + Breeds + Color + Dates gives a 41.73% accuracy and 39.37% cv mean.\n",
    "    - Dropping Intakes + Breeds + Color + Small_dates gives a 39.86% accuracy and 37.12% cv mean.\n",
    "    - Dropping Intakes + Color + Dates gives a 41.27% accuracy and 39.0% cv mean.\n",
    "\n",
    "We'll remove all bad features including Dates. In our EDA there did appear to be some kind of trend over the years, months and weekdays. The use of ARIMA might improve the accuracy of the models by getting a better estimation of this trend, valuing newer data more than older data and being able to predict outcomes of future dates. However this will be saved for a future iteration.\n",
    "\n",
    "I also want to note that it could very well be possible that there is a better suited combination of droppable features or even a better combination of the groups listed above. This is simply the best combination I managed to find in manual testing."
   ]
  },
  {
   "cell_type": "markdown",
   "id": "9f1e665d",
   "metadata": {},
   "source": [
    "### 12.1 Evaluation on Validation Set\n",
    "We'll use the validation set as the real test. We don't expect amazing results considering we chose a random number of neighbors and did not tune any of the other hyperparamaters."
   ]
  },
  {
   "cell_type": "code",
   "execution_count": 56,
   "id": "35639c23",
   "metadata": {
    "scrolled": true
   },
   "outputs": [
    {
     "name": "stdout",
     "output_type": "stream",
     "text": [
      "Accuracy: 39.59%\n",
      "\n",
      "              precision    recall  f1-score   support\n",
      "\n",
      "           0       0.44      0.61      0.51      2731\n",
      "           1       0.43      0.34      0.38      1926\n",
      "           2       0.30      0.28      0.29      2497\n",
      "           3       0.42      0.22      0.29      1805\n",
      "           4       0.38      0.44      0.41      2780\n",
      "\n",
      "    accuracy                           0.40     11739\n",
      "   macro avg       0.40      0.38      0.38     11739\n",
      "weighted avg       0.39      0.40      0.39     11739\n",
      "\n"
     ]
    }
   ],
   "source": [
    "predict = knn_clf.predict(X_val_fs)\n",
    "print_class_report(y_val, predict)"
   ]
  },
  {
   "cell_type": "markdown",
   "id": "4352b726",
   "metadata": {},
   "source": [
    "The model actually behaves a little better on the validation set than it did during the cross validation. Even so the evaluation set results are disappointing compared to the other models. I'm unsure why this is, but hope that tuning the hyperparameters will have a big impact."
   ]
  },
  {
   "cell_type": "markdown",
   "id": "68ae7766",
   "metadata": {},
   "source": [
    "### 12.2 Tuning Hyperparamaters with GridSearch\n",
    "We'll once again be using GridSearch to find good hyperparameters for our model. Rather than doing a randomised search or a large GridSearch we're going to use GridSearch iteratively. Based on the best results we'll search further with a new search. Rather than spreading the code over multiple cells and creating a lengthy process I've commented out all previous attempts and noted their results above."
   ]
  },
  {
   "cell_type": "code",
   "execution_count": 58,
   "id": "3dc56825",
   "metadata": {},
   "outputs": [
    {
     "data": {
      "text/plain": [
       "GridSearchCV(cv=3, estimator=KNeighborsClassifier(),\n",
       "             param_grid={'leaf_size': [1, 2, 3],\n",
       "                         'n_neighbors': [19, 20, 21, 22, 23], 'p': [1, 2]})"
      ]
     },
     "execution_count": 58,
     "metadata": {},
     "output_type": "execute_result"
    }
   ],
   "source": [
    "## First Test. Best result was p=1, n_neighbors=20, leaf_size=1\n",
    "# leaf_size = [1,3,5,10,15]\n",
    "# n_neighbors = [1,3,5,10,20]\n",
    "# p=[1,2]\n",
    "\n",
    "## Second Test. Best result was p=1, n_neighbors = 20\n",
    "# leaf_size = [1]\n",
    "# n_neighbors = [20, 40, 60, 80, 100, 200, 300]\n",
    "# p=[1,2]\n",
    "\n",
    "# Third Test. Best result was p=1, n_neighbors = 20\n",
    "# leaf_size = [1]\n",
    "# n_neighbors = [15, 18, 20, 22, 25]\n",
    "# p=[1,2]\n",
    "\n",
    "# List Hyperparameters that we want to tune.\n",
    "leaf_size = [1,2,3]\n",
    "n_neighbors = [19, 20, 21, 22, 23]\n",
    "p=[1,2]\n",
    "\n",
    "# Create Dictionary of Hyperparameters\n",
    "param_grid = dict(\n",
    "    leaf_size=leaf_size, \n",
    "    n_neighbors=n_neighbors, \n",
    "    p=p\n",
    ")\n",
    "\n",
    "# Create Gridsearch Model with Parameters\n",
    "grid_search_knn = GridSearchCV(KNeighborsClassifier(), param_grid, cv=3, verbose=0)\n",
    "\n",
    "# Fit the model\n",
    "grid_search_knn.fit(X_train_fs,y_train)"
   ]
  },
  {
   "cell_type": "markdown",
   "id": "7a1aea8a",
   "metadata": {},
   "source": [
    "### 12.3 Evaluating GridSearch Results\n",
    "Now that we've completed our GridSearch we can take the best hyperparameter, and use evaluate the results. The best hyperparameters seemed to be a leaf size and p of 1 while n_neighbors of 21. It's possible that there's a better selection out there, but finding this would computationally be very expensive and most likely not worth it."
   ]
  },
  {
   "cell_type": "code",
   "execution_count": 59,
   "id": "5c6c0fb2",
   "metadata": {},
   "outputs": [
    {
     "data": {
      "text/plain": [
       "KNeighborsClassifier(leaf_size=1, n_neighbors=21)"
      ]
     },
     "execution_count": 59,
     "metadata": {},
     "output_type": "execute_result"
    }
   ],
   "source": [
    "grid_search_knn.best_estimator_"
   ]
  },
  {
   "cell_type": "code",
   "execution_count": 60,
   "id": "a8cdf8ff",
   "metadata": {},
   "outputs": [
    {
     "name": "stdout",
     "output_type": "stream",
     "text": [
      "Accuracy on training set: 46.85%\n",
      "\n",
      "Cross Validation Scores: \n",
      " [0.3943137  0.40357789 0.40159744 0.39637913 0.40926518]\n",
      "\n",
      "Cross Validation Mean: 40.1%\n"
     ]
    }
   ],
   "source": [
    "score = grid_search_knn.score(X_train_fs, y_train)\n",
    "print_accuracy(train_string, score)\n",
    "print()\n",
    "\n",
    "# Retrain the decision tree model using cross validation as testing method and print the result\n",
    "knn_grid_search_clf = KNeighborsClassifier(n_neighbors=21, leaf_size=1)\n",
    "cv_scores = cross_val_score(knn_grid_search_clf, X_train_fs, y_train, cv=5, scoring='accuracy') \n",
    "print_cv(cv_scores)"
   ]
  },
  {
   "cell_type": "markdown",
   "id": "a4a0e226",
   "metadata": {},
   "source": [
    "The accuracy of the cross validation hasn't changed much in comparison to our earlier attempt. Because of this it's unlikely that the accuracy of our validation set increased by much."
   ]
  },
  {
   "cell_type": "code",
   "execution_count": 61,
   "id": "70097d71",
   "metadata": {},
   "outputs": [
    {
     "name": "stdout",
     "output_type": "stream",
     "text": [
      "Accuracy: 40.06%\n",
      "\n",
      "              precision    recall  f1-score   support\n",
      "\n",
      "           0       0.45      0.64      0.53      2731\n",
      "           1       0.42      0.37      0.39      1926\n",
      "           2       0.32      0.31      0.31      2497\n",
      "           3       0.41      0.26      0.32      1805\n",
      "           4       0.39      0.36      0.38      2780\n",
      "\n",
      "    accuracy                           0.40     11739\n",
      "   macro avg       0.40      0.39      0.39     11739\n",
      "weighted avg       0.40      0.40      0.39     11739\n",
      "\n"
     ]
    }
   ],
   "source": [
    "predict = grid_search_knn.predict(X_val_fs)\n",
    "print_class_report(y_val, predict)"
   ]
  },
  {
   "cell_type": "markdown",
   "id": "2cd101da",
   "metadata": {},
   "source": [
    "While improved, the accuracy is quite a bit lower than that of our Decision Tree and Random Forest model. This is given the fact that the Decision Tree was tuned further and handles bad features better than a distance based algorithm such as K-Nearest Neighbor. By tuning which features are used we might be able to increase the accuracy, but as it stands the Decision Tree is both a lot faster and more accurate than the KNN model. Rather than trying to improve it further I've decided to stop investing more time into it."
   ]
  },
  {
   "cell_type": "markdown",
   "id": "7be8724d",
   "metadata": {},
   "source": [
    "# 13. Support Vector Machine Classification <a class=\"anchor\" id=\"chapter13\"></a>\n",
    "\n",
    "Support Vector Machines or SVMs try to find the line which maximises the margin between classes. This line is then used as a Decision Boundary. SVMs are very good at training, which is why they have a tendency to get overfitted. This makes the use of cross validation very important.\n",
    "\n",
    "<img src='https://i.imgur.com/lDoCaUM.png' width=450px align=\"left\">\n"
   ]
  },
  {
   "cell_type": "markdown",
   "id": "0c73f25e",
   "metadata": {},
   "source": [
    "An important thing to note is that while SVM is good at handling a large amount of features, including data that has more features then rows, it struggles with a lot of data. As per the documentation of sklearn:\n",
    "\n",
    "> The fit time scales at least quadratically with the number of samples and may be impractical beyond tens of thousands of samples.\n",
    "\n",
    "### 13.1 Linear SVM\n",
    "We'll begin by training a very basic model which makes use of linear SVM as shown in the above image. The SVMs of sklearn offer different kernels, where RBF is the default. Most real life problems are not linear. With that being said, the training time of linear models is significantly lower. It'll help us to get a quick idea of how the SVM is performing. "
   ]
  },
  {
   "cell_type": "code",
   "execution_count": 62,
   "id": "c61309a9",
   "metadata": {},
   "outputs": [
    {
     "name": "stdout",
     "output_type": "stream",
     "text": [
      "Accuracy on training set: 37.09%\n",
      "0.36323366555924697\n"
     ]
    }
   ],
   "source": [
    "svm_clf = SVC(kernel='linear', random_state=42)\n",
    "svm_clf.fit(X_train, y_train)\n",
    "\n",
    "score = svm_clf.score(X_train, y_train)\n",
    "print_accuracy(train_string, score)\n",
    "\n",
    "predict = svm_clf.predict(X_val)\n",
    "print(accuracy_score(predict, y_val))"
   ]
  },
  {
   "cell_type": "markdown",
   "id": "aa072c66",
   "metadata": {},
   "source": [
    "The default training accuracy isn't very high. In fact it's much lower than our Decision Tree and Random Forest. One thing to note is that the hyperparameters have not been tuned. We're not going to do that as the training of one SVM already takes a significant amount of time. Instead we're going to try another kernel first."
   ]
  },
  {
   "cell_type": "markdown",
   "id": "3514c47e",
   "metadata": {},
   "source": [
    "### 13.2 RBF SVM\n",
    "RBF stands for Radial Basis Function. The most important thing to note is that the kernel influences the way the decision boundary is drawn. When making use of a linear kernel the decision boundaries are straight as shown in the first image in this chapter. Kernels such as RBF and polynomical draw them differently as can be seen in the image below.\n",
    "\n",
    "<img src='https://scikit-learn.org/stable/_images/sphx_glr_plot_iris_svc_001.png' width=450px align=\"left\">\n"
   ]
  },
  {
   "cell_type": "code",
   "execution_count": null,
   "id": "3935a3c4",
   "metadata": {},
   "outputs": [],
   "source": [
    "svm_clf = SVC(random_state=42)\n",
    "svm_clf.fit(X_train, y_train)\n",
    "\n",
    "score = svm_clf.score(X_train, y_train)\n",
    "print_accuracy(train_string, score)\n",
    "\n",
    "predict = svm_clf.predict(X_val)\n",
    "print(accuracy_score(predict, y_val))"
   ]
  },
  {
   "cell_type": "markdown",
   "id": "06b5870f",
   "metadata": {},
   "source": [
    "The RBF kernel performs significantly better, albeit still a lot worse than the Decision Trees. I'm interested to see how much worse the model performs on our feature selection set and how long it takes.\n",
    "\n",
    "### 13.3 SVM with Feature Selection\n",
    "We'll do another linear SVM with our smaller dataset and time the result. Our previous linear SVM took somewhere between 15 and 20 minutes. I didn't time it so this is a rough estimation. Should this attempt take significantly shorter we could use GridSearch to improve our RBF SVM."
   ]
  },
  {
   "cell_type": "code",
   "execution_count": null,
   "id": "f6ea7469",
   "metadata": {},
   "outputs": [],
   "source": [
    "t0 = time()\n",
    "\n",
    "svm_clf = SVC(kernel='linear', random_state=42)\n",
    "svm_clf.fit(X_train_fs, y_train)\n",
    "\n",
    "score = svm_clf.score(X_train_fs, y_train)\n",
    "print_accuracy(train_string, score)\n",
    "\n",
    "predict = svm_clf.predict(X_val_fs)\n",
    "svm_accuracy = accuracy_score(predict, y_val)\n",
    "print_accuracy('Accuracy on validation set:', svm_accuracy)\n",
    "\n",
    "print(\"done in %0.3fs\" % (time() - t0))"
   ]
  },
  {
   "cell_type": "markdown",
   "id": "727844cf",
   "metadata": {},
   "source": [
    "Sadly this attempt still took around 4 minutes, which is simply too long for me to try out a few dozen of models for, especially if we want to cross validate them. The accuracy is also quite a bit worse.\n",
    "\n",
    "### 13.4 LinearSVC\n",
    "The [SVM page](https://scikit-learn.org/stable/modules/generated/sklearn.svm.SVC.html) of sklearn recommends to use LinearSVC or SGDClassifier instead of SVM if your dataset is (too) large. They specify that you might need to use a Nystroem transformer in this case. "
   ]
  },
  {
   "cell_type": "code",
   "execution_count": null,
   "id": "d4591b1f",
   "metadata": {
    "scrolled": true
   },
   "outputs": [],
   "source": [
    "t0 = time()\n",
    "\n",
    "lin_svm_clf = LinearSVC(random_state=42, tol=1e-5, max_iter=10000, C=0.5) \n",
    "lin_svm_clf.fit(X_train_fs, y_train)\n",
    "\n",
    "score = lin_svm_clf.score(X_train_fs, y_train)\n",
    "print_accuracy(train_string, score)\n",
    "\n",
    "predict = lin_svm_clf.predict(X_val_fs)\n",
    "svm_accuracy = accuracy_score(predict, y_val)\n",
    "print_accuracy('Accuracy on validation set:', svm_accuracy)\n",
    "\n",
    "print(\"done in %0.3fs\" % (time() - t0))"
   ]
  },
  {
   "cell_type": "markdown",
   "id": "0efe1fcf",
   "metadata": {},
   "source": [
    "While this performs a little better than our original SVC with linear kernel, the result is still a lot worse than using RBF. I manually tried out a number of hyperparameters, but this did not change the outcome significantly."
   ]
  },
  {
   "cell_type": "markdown",
   "id": "9f037b3c",
   "metadata": {},
   "source": [
    "### 13.4.1 Linear SVC with Nystroem transformer\n",
    "In order to use the Nystroem transformer we're going to have to go back to our old data and re-scale it. Considering we overwrote out split data by its scaling we'll have to split it again."
   ]
  },
  {
   "cell_type": "code",
   "execution_count": null,
   "id": "a6b429bf",
   "metadata": {},
   "outputs": [],
   "source": [
    "# Split Data into Train and Test Sets\n",
    "raw_X_train, raw_X_val, raw_y_train, raw_y_val = train_test_split(df_X, df_y, test_size=0.20, random_state=42)\n",
    "\n",
    "# Create SVC object and Nystroem Mapper\n",
    "nystroem_clf = LinearSVC(random_state=42)\n",
    "feature_map_nystroem = Nystroem(gamma=.1,\n",
    "                                random_state=1,\n",
    "                                n_components=500)\n",
    "\n",
    "# Transform Data Using Nystroem Mapper\n",
    "train_data_transformed = feature_map_nystroem.fit_transform(raw_X_train)\n",
    "test_data_transformed = feature_map_nystroem.transform(raw_X_val)\n",
    "\n",
    "# Fit Data to LinearSVC Model\n",
    "nystroem_clf.fit(train_data_transformed, raw_y_train)\n",
    "\n",
    "score = nystroem_clf.score(train_data_transformed, raw_y_train)\n",
    "print_accuracy(train_string, score)\n",
    "\n",
    "predict = nystroem_clf.predict(test_data_transformed)\n",
    "print(accuracy_score(predict, raw_y_val))"
   ]
  },
  {
   "cell_type": "markdown",
   "id": "a756bce8",
   "metadata": {},
   "source": [
    "The result of this is a lot worse. I am admittedly most probably doing something wrong here, but rather than trying to invest a lot more time into figuring out Nystroem I would rather try to rescale my initial data and try the proper SVM with RBF kernel once more."
   ]
  },
  {
   "cell_type": "markdown",
   "id": "5322f4d4",
   "metadata": {},
   "source": [
    "### 13.5 Rescaling for SVM\n",
    "We can use the raw data we created in 13.4 and scale this down. Rather than scaling parts of it with a StandardScaler and another part with a MinMaxScaler I'm going to scale all of it with the StandardScaler after discussing this with miss Zhao. Most of the previous set of X_train was scaled with a MinMaxScaler to keep the distribution. Most scalers bring values of various features into comparable ranges, but each scaler preserves some type of information while distorting others. In our case the StandardScaler might have been a better fit, which could be the result for the subpar performance in KNN. "
   ]
  },
  {
   "cell_type": "code",
   "execution_count": null,
   "id": "9db75de6",
   "metadata": {},
   "outputs": [],
   "source": [
    "standard_svm_scaler = StandardScaler()\n",
    "\n",
    "scaled_X_train = standard_svm_scaler.fit_transform(raw_X_train)\n",
    "scaled_X_val = standard_svm_scaler.transform(raw_X_val)\n",
    "\n",
    "display(scaled_X_train)    \n",
    "display(scaled_X_val)"
   ]
  },
  {
   "cell_type": "markdown",
   "id": "6efd426e",
   "metadata": {},
   "source": [
    "As we can see the data is now distributed much differently than it was before. Let's see how the RBF kernel performs."
   ]
  },
  {
   "cell_type": "code",
   "execution_count": null,
   "id": "352957d8",
   "metadata": {},
   "outputs": [],
   "source": [
    "svm_clf = SVC(kernel='rbf')\n",
    "svm_clf.fit(scaled_X_train, y_train)\n",
    "\n",
    "score = svm_clf.score(scaled_X_train, y_train)\n",
    "print_accuracy(train_string, score)\n",
    "\n",
    "predict = svm_clf.predict(scaled_X_val)\n",
    "print(accuracy_score(predict, y_val))"
   ]
  },
  {
   "cell_type": "markdown",
   "id": "4e3dbec0",
   "metadata": {},
   "source": [
    "As far as training data goes this is our most successful attempt so far, although the evaluation did a little worse than our earlier attempt at RBF. Like mentioned in the very beginning Cross Validation is inherently an important part of SVM, because the model has a tendency to get overfitted. For now we've avoided using it as the default training time is already quite high. However for our final evaluation we'll run it once, just to see its impact."
   ]
  },
  {
   "cell_type": "code",
   "execution_count": null,
   "id": "121a3b5c",
   "metadata": {},
   "outputs": [],
   "source": [
    "print_class_report(y_val, predict)"
   ]
  },
  {
   "cell_type": "markdown",
   "id": "2d0c44d4",
   "metadata": {},
   "source": [
    "This is where I'd like to have a look at the classification report. As always our group 0 is performing very well and group 2 and 3 aren't doing too well. What stands out is that their precision and recall is much lower than during our Decision Tree and Random Forest. It seems that it has a hard time finding the distinction between them. Another way to see what's going on here would be to use a confusion matrix."
   ]
  },
  {
   "cell_type": "code",
   "execution_count": null,
   "id": "65818ac3",
   "metadata": {},
   "outputs": [],
   "source": [
    "matrix = confusion_matrix(predict, y_val)\n",
    "ConfusionMatrixDisplay(matrix).plot()"
   ]
  },
  {
   "cell_type": "markdown",
   "id": "b434daf1",
   "metadata": {},
   "source": [
    "Base on the results we immediately see how group 0 reflects. Most of the predictions are correct here, although a good amount is predicted as group 4. Group 1 to 3 on the other hand have their data split somewhat evenly among each other, the majority being in its respective group. Group 4 also is very interesing. A lot of the predictions were right, but a good chunk were placed in group 0 and 2."
   ]
  },
  {
   "cell_type": "markdown",
   "id": "02e3a13a",
   "metadata": {},
   "source": [
    "### 13.6 Cross Validation\n",
    "As just said we're going to perform cross validation to get a better estimation of how the model performs. We'll set verbose to 3 to get updates on how far the model is and n_jobs to -1 to utilise all cores and speed up the process as much as possible."
   ]
  },
  {
   "cell_type": "code",
   "execution_count": null,
   "id": "8e7b2876",
   "metadata": {},
   "outputs": [],
   "source": [
    "# Retrain the decision tree model using cross validation as testing method\n",
    "cv_scores = cross_val_score(svm_clf, scaled_X_train, y_train, cv=3, scoring='accuracy', verbose=0, n_jobs=-1) \n",
    "\n",
    "# Print the scores and average score\n",
    "print_cv(cv_scores)"
   ]
  },
  {
   "cell_type": "markdown",
   "id": "c98d31d6",
   "metadata": {},
   "source": [
    "While a little higher than earlier and the best we've managed so far this is somewhat of a disappointing result."
   ]
  },
  {
   "cell_type": "markdown",
   "id": "da5a6ef9",
   "metadata": {},
   "source": [
    "# 14. Overview of Results <a class=\"anchor\" id=\"chapter14\"></a>\n",
    "Below I've manually listed all results. We'll convert these into a dataframe in order to visualise it. However in short we can concluse that Random Forest performed the best with a cross validation accuracy of 49.51%. When expanded with more trees we found an accuracy of 51.00% on the validation set. \n",
    "\n",
    "Our baseline, which equals the largest category, is 23.53%. Similar challenges such as [this one](https://www.kaggle.com/c/petfinder-adoption-prediction) have reached lower accuracies. As mentioned in chapter 3.7 of the Proposal document I aimed for an accuracy of 45% due to this consideration. With that said I am happy with the results.\n",
    "\n",
    "### 14.1 Listing the Best Results in a Dataframe\n",
    "We're going to list some of the results in a dataframe. We won't list all the results as we did a total of 36 evaluations across the 4 different models (including training, cross validation and evaluation sets). "
   ]
  },
  {
   "cell_type": "code",
   "execution_count": null,
   "id": "4ff8225f",
   "metadata": {},
   "outputs": [],
   "source": [
    "best_results = [\n",
    "    ['Decision Tree', 'GridSearch', 47.67, 45.02, 44.92],\n",
    "    ['Random Forest', 'GridSearch (large)', 99.17, 49.86, 51.00],\n",
    "    ['K-Nearest Neighbors', 'GridSearch (fs)', 46.85, 40.10, 40.06],  \n",
    "    ['Support Vector Machine', 'RBF', 44.29, 39.39, 39.12],   \n",
    "]\n",
    "\n",
    "best_result_df = pd.DataFrame(data=best_results, columns=['Model', 'Type', 'Training', 'CV Mean', 'Validation'])\n",
    "best_result_df.head()"
   ]
  },
  {
   "cell_type": "markdown",
   "id": "5bf084c0",
   "metadata": {},
   "source": [
    "### 14.2 Visualising Results\n",
    "We're going to use Plotly to visualise the results. This way we can see the results of both the training, CV Mean and validagtion set by hovering over it. We'll plot the validation set results, because it is our testing result on unseen data. The Random Forest is missing its CV Mean on the GridSearch with more trees. The GridSearch with less trees had a CV mean of 49.54%, but the overall accuracy of the GridSearch with more trees was much higher."
   ]
  },
  {
   "cell_type": "code",
   "execution_count": null,
   "id": "2a280ff6",
   "metadata": {
    "scrolled": false
   },
   "outputs": [],
   "source": [
    "colors = ['#778899'] * 4\n",
    "colors[1] = 'crimson'\n",
    "\n",
    "fig = go.Figure(data=[go.Bar(\n",
    "    x=best_result_df['Model'].to_list(),\n",
    "    y=best_result_df['Validation'].to_list(),\n",
    "    marker_color=colors,\n",
    "    customdata = best_result_df[['Type', 'Training', 'CV Mean']],\n",
    "    hovertemplate=(\"<b>%{customdata[0]}</b><br>\" +\n",
    "                   \"Training = %{customdata[1]}% <br>\"  +\n",
    "                   \"CV Mean = %{customdata[2]}% <br>\"  +\n",
    "                   \"Evaluation = %{y}% <br>\" +\n",
    "                   \"<extra></extra>\")\n",
    ")])\n",
    "fig.update_layout(title_text='Best Results of Each Model', width=730)"
   ]
  },
  {
   "cell_type": "markdown",
   "id": "189747fb",
   "metadata": {},
   "source": [
    "### 14.3 Conclusions \n",
    "The Random Forest performed the best across all models. While I expected it to perform better than the Decision Tree, I expected distance based algorithms such as KNN and (especially) SVM to do better. I'm unsure whether this is due to any mistakes I made or because they were not very well suited for this issue. I tried to use different scalers, but this did not alter the results by much at all. One thing to note is that the Random Forest was tuned quite in depth, while the support vector machine wasn't tuned at all. This was due to time constraints as the model took a very long time to train.\n",
    "\n",
    "I did some more reading and found the following information.\n",
    "\n",
    "> Random Forest is intrinsically suited for multiclass problems, while SVM is intrinsically two-class. For multiclass problem you will need to reduce it into multiple binary classification problems.\n",
    "\n",
    "> Random Forest works well with a mixture of numerical and categorical features. When features are on the various scales, it is also fine. Roughly speaking, with Random Forest you can use data as they are. SVM maximizes the \"margin\" and thus relies on the concept of \"distance\" between different points. It is up to you to decide if \"distance\" is meaningful. As a consequence, one-hot encoding for categorical features is a must-do. Further, min-max or other scaling is highly recommended at preprocessing step.\n",
    "\n",
    "> If you have data with n points and m features, an intermediate step in SVM is constructing an n×n matrix (think about memory requirements for storage) by calculating n2 dot products (computational complexity). Therefore, as a rule of thumb, SVM is hardly scalable beyond 10^5 points. Large number of features (homogeneous features with meaningful distance, pixel of image would be a perfect example) is generally not a problem.\n",
    "\n",
    "Source: [Lanenok on StackExchange](https://datascience.stackexchange.com/questions/6838/when-to-use-random-forest-over-svm-and-vice-versa)\n",
    "\n",
    "---\n",
    "\n",
    "> Possibilities include the use of an inappropriate kernel (e.g. a linear kernel for a non-linear problem), poor choice of kernel and regularisation hyper-parameters. Good model selection (choice of kernel and hyper-parameter tuning is the key to getting good performance from SVMs, they can only be expected to give good results when used correctly).\n",
    "\n",
    "> SVMs often do take a long time to train, this is especially true when the choice of kernel and particularly regularisation parameter means that almost all the data end up as support vectors (the sparsity of SVMs is a handy by-product, nothing more).\n",
    "\n",
    "> Lastly, the no free lunch theorems say that there is no a-priori superiority for any classifier system over the others, so the best classifier for a particular task is itself task-dependent. However there is more compelling theory for the SVM that suggests it is likely to be better choice than many other approaches for many problems.\n",
    "\n",
    "Source: [Dikran Marsupial on StackExchange](https://stats.stackexchange.com/questions/57438/why-is-svm-not-so-good-as-decision-tree-on-the-same-data)\n",
    "\n",
    "> The paper \"An Empirical Comparison of Supervised Learning Algorithms\" by Rich Caruana compared 10 different binary classifiers, SVM, Neural-Networks, KNN, Logistic Regression, Naive Bayes, Random Forests, Decision Trees, Bagged Decision Trees, Boosted Decision trees and Bootstrapped Decision Trees on eleven different data sets and compared the results on 8 different performance metrics.\n",
    "\n",
    "> They found that Boosted decision trees came in first with Random Forests second and then Bagged Decision Trees and then SVM\n",
    "\n",
    "Source: [RMcG on StackExchange](https://stats.stackexchange.com/questions/57438/why-is-svm-not-so-good-as-decision-tree-on-the-same-data)\n",
    "\n",
    "Based on this information it doesn't seem too far fetched that the Random Forest model is performing a lot better than the (current) SVM model. However I should note that these are all StackExchange replies which don't make for the most reliable information."
   ]
  },
  {
   "cell_type": "code",
   "execution_count": null,
   "id": "511bd462",
   "metadata": {},
   "outputs": [],
   "source": []
  },
  {
   "cell_type": "code",
   "execution_count": null,
   "id": "62877bbc",
   "metadata": {},
   "outputs": [],
   "source": [
    "# Save model in directory\n",
    "import joblib\n",
    "import pickle\n",
    "joblib.dump(rf_clf_large,'./Models/random_forest.pkl')\n",
    "pickle.dumps(rf_clf_large,'./Models/random_forest.pkl')"
   ]
  },
  {
   "cell_type": "code",
   "execution_count": null,
   "id": "ca5913d3",
   "metadata": {},
   "outputs": [],
   "source": [
    "# Load model to test correct save\n",
    "file_path = './Models/random_forest.pkl'\n",
    "file = open(file_path, \"rb\")\n",
    "loaded_model = joblib.load(file)"
   ]
  },
  {
   "cell_type": "code",
   "execution_count": null,
   "id": "387ce464",
   "metadata": {
    "scrolled": true
   },
   "outputs": [],
   "source": [
    "# Predict using loaded model\n",
    "score = loaded_model.score(X_train, y_train)\n",
    "print_accuracy(train_string, score)\n",
    "\n",
    "predict = loaded_model.predict(X_val)\n",
    "print_class_report(y_val, predict)"
   ]
  },
  {
   "cell_type": "code",
   "execution_count": null,
   "id": "9e041f49",
   "metadata": {},
   "outputs": [],
   "source": [
    "predict"
   ]
  },
  {
   "cell_type": "code",
   "execution_count": null,
   "id": "6f31f3b4",
   "metadata": {},
   "outputs": [],
   "source": [
    "with pd.option_context('display.max_rows', 5, 'display.max_columns', None): \n",
    "    display(X_train)"
   ]
  },
  {
   "cell_type": "code",
   "execution_count": null,
   "id": "b3a21f12",
   "metadata": {},
   "outputs": [],
   "source": [
    "with pd.option_context('display.max_rows', 1, 'display.max_columns', None): \n",
    "    display(X_train)"
   ]
  },
  {
   "cell_type": "code",
   "execution_count": null,
   "id": "dd91290c",
   "metadata": {},
   "outputs": [],
   "source": [
    "name_enc.transform([['Bud']])"
   ]
  },
  {
   "cell_type": "code",
   "execution_count": null,
   "id": "c2d66efe",
   "metadata": {},
   "outputs": [],
   "source": [
    "enc.transform([['Cat', 'Domestic Shorthair', 'Female', 'Stray', 'Normal', False, True]])\n"
   ]
  },
  {
   "cell_type": "code",
   "execution_count": null,
   "id": "4ea11629",
   "metadata": {},
   "outputs": [],
   "source": [
    "# Save Encoders\n",
    "joblib.dump(enc,'./Models/one_hot_encoder.pkl')\n",
    "joblib.dump(name_enc,'./Models/name_encoder.pkl')\n",
    "joblib.dump(min_max_scaler,'./Models/min_max_scaler.pkl')\n",
    "joblib.dump(standard_scaler,'./Models/standard_scaler.pkl')\n",
    "joblib.dump(le,'./Models/label_encoder.pkl')"
   ]
  },
  {
   "cell_type": "code",
   "execution_count": null,
   "id": "bf753e55",
   "metadata": {},
   "outputs": [],
   "source": [
    "le.inverse_transform([[3]])"
   ]
  },
  {
   "cell_type": "code",
   "execution_count": null,
   "id": "e6c7e8bc",
   "metadata": {},
   "outputs": [],
   "source": [
    "df_target"
   ]
  },
  {
   "cell_type": "code",
   "execution_count": null,
   "id": "d7f70856",
   "metadata": {},
   "outputs": [],
   "source": [
    "example = [1,2,3,4,5,6,7,8]\n",
    "first_half = example[:4]\n",
    "print(first_half)\n",
    "second_half = example[4:]\n",
    "print(second_half)"
   ]
  },
  {
   "cell_type": "code",
   "execution_count": null,
   "id": "016f10e5",
   "metadata": {},
   "outputs": [],
   "source": [
    "rf_clf_large.predict(X_train.head(1).values)"
   ]
  },
  {
   "cell_type": "code",
   "execution_count": null,
   "id": "32237249",
   "metadata": {},
   "outputs": [],
   "source": [
    "# Animal Type Cat\n",
    "# Gender Male\n",
    "# Castration Intake False\n",
    "# Castration Outcome False"
   ]
  },
  {
   "cell_type": "code",
   "execution_count": null,
   "id": "2bc421c1",
   "metadata": {},
   "outputs": [],
   "source": [
    "\n",
    "\n",
    "\n",
    "\n",
    "\n",
    "\n",
    "\n",
    "\n",
    "\n",
    "\n",
    "\n",
    "\n"
   ]
  }
 ],
 "metadata": {
  "kernelspec": {
   "display_name": "Python 3 (ipykernel)",
   "language": "python",
   "name": "python3"
  },
  "language_info": {
   "codemirror_mode": {
    "name": "ipython",
    "version": 3
   },
   "file_extension": ".py",
   "mimetype": "text/x-python",
   "name": "python",
   "nbconvert_exporter": "python",
   "pygments_lexer": "ipython3",
   "version": "3.8.11"
  }
 },
 "nbformat": 4,
 "nbformat_minor": 5
}
