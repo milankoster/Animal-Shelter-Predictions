{
 "cells": [
  {
   "cell_type": "markdown",
   "id": "be57c88f",
   "metadata": {},
   "source": [
    "# README\n",
    "\n",
    "Animal Shelter Predictions is a challenge aimed at prediction how long it will take for cats and dogs to be adopted using classification. \n",
    "\n",
    "The project is build up of 2 delivery documents and 4 main notebooks.\n",
    "\n",
    "### Delivery Documents\n",
    "1. Shelter Animals - Technical Deliver\n",
    "\t* Describes the project, the steps which were taken and the technologies which were used.\n",
    "\t* Functions as a GitHub README.\n",
    "\t* Aimed at recruiters, teachers and technical readers.\n",
    "    \n",
    "    \n",
    "2. Animal Shelter Infograph\n",
    "\t* Described what the project was about in a non-technical sense.\n",
    "\t* Aimed at Animal Shelters and/or governments who don't know much about machine learning and programming.\n"
   ]
  },
  {
   "cell_type": "markdown",
   "id": "b431015a",
   "metadata": {},
   "source": [
    "### Notebooks\n",
    "The notebooks are created and should be read in the below order. Some parts are overlapping. You will find parts of Data Preparation in the EDA notebook and some visualisations in the Modelling notebook.\n",
    "\n",
    "    3. Shelter Animals - Proposal\n",
    "    4. Shelter Animals - Data Preparation\n",
    "    5. Shelter Animals - Exploratory Data Analysis\n",
    "    6. Shelter Animals - Modelling"
   ]
  },
  {
   "cell_type": "markdown",
   "id": "51621dba",
   "metadata": {},
   "source": [
    "### Deployment\n",
    "I deployed my model using a Flask API that runs as a local webserver. It was impossible to upload these files on Canvas. GitHub did not allow files of large size either, so I uploaded it to [Google Drive](https://drive.google.com/drive/folders/1h-6A0_OCH3ReJw-LrjRCItYlXSIHJ51b?usp=sharing).\n",
    "\n",
    "To run the API:\n",
    "- Create and activate a virtual environment\n",
    "    * `pip install virtualenv`\n",
    "    * `virtualenv flask-app-venv`\n",
    "    * `flask-app-venv\\Scripts\\activate.bat`\n",
    "- Install the requirements using `pip install -r requirements.txt`\n",
    "- Activate the flask app using `python app.py`\n",
    "- Send a POST request to `127.0.0.1:5000/predict/` with correct JSON format\n",
    "\n",
    "An example of correct JSON is as follows:\n",
    "\n",
    "```json\n",
    "{\n",
    "\t\"Animal Type\": \"Cat\",\n",
    "\t\"Breed\": \"Domestic Medium Hair\",\n",
    "\t\"Gender\": \"Female\",\n",
    "\t\"Intake Type\": \"Stray\",\n",
    "\t\"Intake Condition\": \"Normal\",\n",
    "\t\"Castration Intake\": false,\n",
    "\t\"Castration Current\": true,\n",
    "\t\"Name\": \"Unknown\",\n",
    "\t\"Colors\": [\"Calico, White\"],\n",
    "\t\"Date of Birth\": \"2021-4-22T00:00:00\",\n",
    "\t\"Intake Date\": \"2021-9-7T16:00:00\"\n",
    "}\n",
    "```"
   ]
  },
  {
   "cell_type": "markdown",
   "id": "14a9ec83",
   "metadata": {},
   "source": [
    "### Extra\n",
    "During the Proposal phase I conducted an interview with an animal shelter in Helmond. The (Dutch) transcription of this conversation can be found in the document `Animal Shelter Interview.pdf`. "
   ]
  }
 ],
 "metadata": {
  "kernelspec": {
   "display_name": "Python 3 (ipykernel)",
   "language": "python",
   "name": "python3"
  },
  "language_info": {
   "codemirror_mode": {
    "name": "ipython",
    "version": 3
   },
   "file_extension": ".py",
   "mimetype": "text/x-python",
   "name": "python",
   "nbconvert_exporter": "python",
   "pygments_lexer": "ipython3",
   "version": "3.8.11"
  }
 },
 "nbformat": 4,
 "nbformat_minor": 5
}
